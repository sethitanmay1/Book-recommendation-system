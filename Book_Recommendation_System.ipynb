{
  "nbformat": 4,
  "nbformat_minor": 0,
  "metadata": {
    "colab": {
      "name": "03. Book Recommender System.ipynb",
      "provenance": [],
      "include_colab_link": true
    },
    "kernelspec": {
      "display_name": "Python 3",
      "language": "python",
      "name": "python3"
    },
    "language_info": {
      "codemirror_mode": {
        "name": "ipython",
        "version": 3
      },
      "file_extension": ".py",
      "mimetype": "text/x-python",
      "name": "python",
      "nbconvert_exporter": "python",
      "pygments_lexer": "ipython3",
      "version": "3.6.5"
    }
  },
  "cells": [
    {
      "cell_type": "markdown",
      "metadata": {
        "id": "view-in-github",
        "colab_type": "text"
      },
      "source": [
        "<a href=\"https://colab.research.google.com/github/sethitanmay1/Book-recommendation-system/blob/main/Book_Recommendation_System.ipynb\" target=\"_parent\"><img src=\"https://colab.research.google.com/assets/colab-badge.svg\" alt=\"Open In Colab\"/></a>"
      ]
    },
    {
      "cell_type": "code",
      "metadata": {
        "id": "WUD4guQlWrwb"
      },
      "source": [
        "import numpy as np\n",
        "import matplotlib.pyplot as plt\n",
        "import pandas as pd\n",
        "from sklearn.feature_extraction.text import TfidfVectorizer, CountVectorizer\n",
        "from sklearn.metrics.pairwise import linear_kernel, cosine_similarity\n",
        "from scipy.sparse import csr_matrix"
      ],
      "execution_count": null,
      "outputs": []
    },
    {
      "cell_type": "markdown",
      "metadata": {
        "id": "xxN6s_ZuWrwf"
      },
      "source": [
        "### 1. Data loading and reading"
      ]
    },
    {
      "cell_type": "markdown",
      "metadata": {
        "id": "H66LPL2aWrwj"
      },
      "source": [
        "The data used for this project consist of 5 different datasets, which are loaded and presented above: "
      ]
    },
    {
      "cell_type": "code",
      "metadata": {
        "id": "-pny9MCjWrwl"
      },
      "source": [
        "books = pd.read_csv('https://raw.githubusercontent.com/sethitanmay1/Book-recommendation-system/main/books.csv')\n",
        "ratings = pd.read_csv('https://raw.githubusercontent.com/sethitanmay1/Book-recommendation-system/main/ratings.csv')\n",
        "tags = pd.read_csv('https://raw.githubusercontent.com/sethitanmay1/Book-recommendation-system/main/tags.csv')\n",
        "bookTags = pd.read_csv('https://raw.githubusercontent.com/sethitanmay1/Book-recommendation-system/main/book_tags.csv')\n",
        "toRead = pd.read_csv('https://raw.githubusercontent.com/sethitanmay1/Book-recommendation-system/main/to_read.csv')"
      ],
      "execution_count": null,
      "outputs": []
    },
    {
      "cell_type": "markdown",
      "metadata": {
        "id": "5wEv7CysWrwo"
      },
      "source": [
        "<br>"
      ]
    },
    {
      "cell_type": "markdown",
      "metadata": {
        "id": "_xIh1nQLWrwq"
      },
      "source": [
        "--------"
      ]
    },
    {
      "cell_type": "markdown",
      "metadata": {
        "id": "xXSh9wCZWrws"
      },
      "source": [
        "<br>"
      ]
    },
    {
      "cell_type": "markdown",
      "metadata": {
        "id": "8Vn96893Wrwv"
      },
      "source": [
        "**1) Books** contains all the information about the rated books, including author, title, book ID, publication year, average rating, etc."
      ]
    },
    {
      "cell_type": "code",
      "metadata": {
        "colab": {
          "base_uri": "https://localhost:8080/"
        },
        "id": "YFh89GxsWrwx",
        "outputId": "e6fabbe0-ad6d-487d-d6aa-b3d1fc7a4dfe"
      },
      "source": [
        "books.head()"
      ],
      "execution_count": null,
      "outputs": [
        {
          "data": {
            "text/html": [
              "<div>\n",
              "<style scoped>\n",
              "    .dataframe tbody tr th:only-of-type {\n",
              "        vertical-align: middle;\n",
              "    }\n",
              "\n",
              "    .dataframe tbody tr th {\n",
              "        vertical-align: top;\n",
              "    }\n",
              "\n",
              "    .dataframe thead th {\n",
              "        text-align: right;\n",
              "    }\n",
              "</style>\n",
              "<table border=\"1\" class=\"dataframe\">\n",
              "  <thead>\n",
              "    <tr style=\"text-align: right;\">\n",
              "      <th></th>\n",
              "      <th>id</th>\n",
              "      <th>book_id</th>\n",
              "      <th>best_book_id</th>\n",
              "      <th>work_id</th>\n",
              "      <th>books_count</th>\n",
              "      <th>isbn</th>\n",
              "      <th>isbn13</th>\n",
              "      <th>authors</th>\n",
              "      <th>original_publication_year</th>\n",
              "      <th>original_title</th>\n",
              "      <th>title</th>\n",
              "      <th>language_code</th>\n",
              "      <th>average_rating</th>\n",
              "      <th>ratings_count</th>\n",
              "      <th>work_ratings_count</th>\n",
              "      <th>work_text_reviews_count</th>\n",
              "      <th>ratings_1</th>\n",
              "      <th>ratings_2</th>\n",
              "      <th>ratings_3</th>\n",
              "      <th>ratings_4</th>\n",
              "      <th>ratings_5</th>\n",
              "      <th>image_url</th>\n",
              "      <th>small_image_url</th>\n",
              "    </tr>\n",
              "  </thead>\n",
              "  <tbody>\n",
              "    <tr>\n",
              "      <th>0</th>\n",
              "      <td>1</td>\n",
              "      <td>2767052</td>\n",
              "      <td>2767052</td>\n",
              "      <td>2792775</td>\n",
              "      <td>272</td>\n",
              "      <td>439023483</td>\n",
              "      <td>9.780439e+12</td>\n",
              "      <td>Suzanne Collins</td>\n",
              "      <td>2008.0</td>\n",
              "      <td>The Hunger Games</td>\n",
              "      <td>The Hunger Games (The Hunger Games, #1)</td>\n",
              "      <td>eng</td>\n",
              "      <td>4.34</td>\n",
              "      <td>4780653</td>\n",
              "      <td>4942365</td>\n",
              "      <td>155254</td>\n",
              "      <td>66715</td>\n",
              "      <td>127936</td>\n",
              "      <td>560092</td>\n",
              "      <td>1481305</td>\n",
              "      <td>2706317</td>\n",
              "      <td>https://images.gr-assets.com/books/1447303603m...</td>\n",
              "      <td>https://images.gr-assets.com/books/1447303603s...</td>\n",
              "    </tr>\n",
              "    <tr>\n",
              "      <th>1</th>\n",
              "      <td>2</td>\n",
              "      <td>3</td>\n",
              "      <td>3</td>\n",
              "      <td>4640799</td>\n",
              "      <td>491</td>\n",
              "      <td>439554934</td>\n",
              "      <td>9.780440e+12</td>\n",
              "      <td>J.K. Rowling, Mary GrandPré</td>\n",
              "      <td>1997.0</td>\n",
              "      <td>Harry Potter and the Philosopher's Stone</td>\n",
              "      <td>Harry Potter and the Sorcerer's Stone (Harry P...</td>\n",
              "      <td>eng</td>\n",
              "      <td>4.44</td>\n",
              "      <td>4602479</td>\n",
              "      <td>4800065</td>\n",
              "      <td>75867</td>\n",
              "      <td>75504</td>\n",
              "      <td>101676</td>\n",
              "      <td>455024</td>\n",
              "      <td>1156318</td>\n",
              "      <td>3011543</td>\n",
              "      <td>https://images.gr-assets.com/books/1474154022m...</td>\n",
              "      <td>https://images.gr-assets.com/books/1474154022s...</td>\n",
              "    </tr>\n",
              "    <tr>\n",
              "      <th>2</th>\n",
              "      <td>3</td>\n",
              "      <td>41865</td>\n",
              "      <td>41865</td>\n",
              "      <td>3212258</td>\n",
              "      <td>226</td>\n",
              "      <td>316015849</td>\n",
              "      <td>9.780316e+12</td>\n",
              "      <td>Stephenie Meyer</td>\n",
              "      <td>2005.0</td>\n",
              "      <td>Twilight</td>\n",
              "      <td>Twilight (Twilight, #1)</td>\n",
              "      <td>en-US</td>\n",
              "      <td>3.57</td>\n",
              "      <td>3866839</td>\n",
              "      <td>3916824</td>\n",
              "      <td>95009</td>\n",
              "      <td>456191</td>\n",
              "      <td>436802</td>\n",
              "      <td>793319</td>\n",
              "      <td>875073</td>\n",
              "      <td>1355439</td>\n",
              "      <td>https://images.gr-assets.com/books/1361039443m...</td>\n",
              "      <td>https://images.gr-assets.com/books/1361039443s...</td>\n",
              "    </tr>\n",
              "    <tr>\n",
              "      <th>3</th>\n",
              "      <td>4</td>\n",
              "      <td>2657</td>\n",
              "      <td>2657</td>\n",
              "      <td>3275794</td>\n",
              "      <td>487</td>\n",
              "      <td>61120081</td>\n",
              "      <td>9.780061e+12</td>\n",
              "      <td>Harper Lee</td>\n",
              "      <td>1960.0</td>\n",
              "      <td>To Kill a Mockingbird</td>\n",
              "      <td>To Kill a Mockingbird</td>\n",
              "      <td>eng</td>\n",
              "      <td>4.25</td>\n",
              "      <td>3198671</td>\n",
              "      <td>3340896</td>\n",
              "      <td>72586</td>\n",
              "      <td>60427</td>\n",
              "      <td>117415</td>\n",
              "      <td>446835</td>\n",
              "      <td>1001952</td>\n",
              "      <td>1714267</td>\n",
              "      <td>https://images.gr-assets.com/books/1361975680m...</td>\n",
              "      <td>https://images.gr-assets.com/books/1361975680s...</td>\n",
              "    </tr>\n",
              "    <tr>\n",
              "      <th>4</th>\n",
              "      <td>5</td>\n",
              "      <td>4671</td>\n",
              "      <td>4671</td>\n",
              "      <td>245494</td>\n",
              "      <td>1356</td>\n",
              "      <td>743273567</td>\n",
              "      <td>9.780743e+12</td>\n",
              "      <td>F. Scott Fitzgerald</td>\n",
              "      <td>1925.0</td>\n",
              "      <td>The Great Gatsby</td>\n",
              "      <td>The Great Gatsby</td>\n",
              "      <td>eng</td>\n",
              "      <td>3.89</td>\n",
              "      <td>2683664</td>\n",
              "      <td>2773745</td>\n",
              "      <td>51992</td>\n",
              "      <td>86236</td>\n",
              "      <td>197621</td>\n",
              "      <td>606158</td>\n",
              "      <td>936012</td>\n",
              "      <td>947718</td>\n",
              "      <td>https://images.gr-assets.com/books/1490528560m...</td>\n",
              "      <td>https://images.gr-assets.com/books/1490528560s...</td>\n",
              "    </tr>\n",
              "  </tbody>\n",
              "</table>\n",
              "</div>"
            ],
            "text/plain": [
              "   id  ...                                    small_image_url\n",
              "0   1  ...  https://images.gr-assets.com/books/1447303603s...\n",
              "1   2  ...  https://images.gr-assets.com/books/1474154022s...\n",
              "2   3  ...  https://images.gr-assets.com/books/1361039443s...\n",
              "3   4  ...  https://images.gr-assets.com/books/1361975680s...\n",
              "4   5  ...  https://images.gr-assets.com/books/1490528560s...\n",
              "\n",
              "[5 rows x 23 columns]"
            ]
          },
          "execution_count": 3,
          "metadata": {
            "tags": []
          },
          "output_type": "execute_result"
        }
      ]
    },
    {
      "cell_type": "code",
      "metadata": {
        "colab": {
          "base_uri": "https://localhost:8080/"
        },
        "id": "AlbXkOiDWrwz",
        "outputId": "042d0448-0c66-490a-8790-2033263f28de"
      },
      "source": [
        "books.shape    # 10.000 rows x 23 columns imported"
      ],
      "execution_count": null,
      "outputs": [
        {
          "data": {
            "text/plain": [
              "(10000, 23)"
            ]
          },
          "execution_count": 4,
          "metadata": {
            "tags": []
          },
          "output_type": "execute_result"
        }
      ]
    },
    {
      "cell_type": "code",
      "metadata": {
        "colab": {
          "base_uri": "https://localhost:8080/"
        },
        "id": "1phgJ8IEWr0C",
        "outputId": "41d07fad-8625-43f7-a545-c7881cb50fef"
      },
      "source": [
        "len(books.id.unique())  # There is information for 10.000 different books in total"
      ],
      "execution_count": null,
      "outputs": [
        {
          "data": {
            "text/plain": [
              "10000"
            ]
          },
          "execution_count": 5,
          "metadata": {
            "tags": []
          },
          "output_type": "execute_result"
        }
      ]
    },
    {
      "cell_type": "markdown",
      "metadata": {
        "id": "M4IXjDDJWr0E"
      },
      "source": [
        "With the purpose of having a quick look at what are the books with the highest average rating, let's sort the dataset by average rating, selecting only the most relevant out of the 23 columns.\n",
        "Apparently, the selected sample of users seem to like quite a lot Bill Watterson's 'Calvin and Hobbes' comic series."
      ]
    },
    {
      "cell_type": "code",
      "metadata": {
        "colab": {
          "base_uri": "https://localhost:8080/"
        },
        "id": "MQ-JG0jOWr0F",
        "outputId": "3c716e89-d40b-4921-d105-d10f57d68e0d"
      },
      "source": [
        "# Book with the highest average rating:\n",
        "\n",
        "books[['id', 'book_id', 'authors', 'title', 'average_rating', 'ratings_count']] \\\n",
        "     .sort_values('average_rating', ascending = False).head(20)"
      ],
      "execution_count": null,
      "outputs": [
        {
          "data": {
            "text/html": [
              "<div>\n",
              "<style scoped>\n",
              "    .dataframe tbody tr th:only-of-type {\n",
              "        vertical-align: middle;\n",
              "    }\n",
              "\n",
              "    .dataframe tbody tr th {\n",
              "        vertical-align: top;\n",
              "    }\n",
              "\n",
              "    .dataframe thead th {\n",
              "        text-align: right;\n",
              "    }\n",
              "</style>\n",
              "<table border=\"1\" class=\"dataframe\">\n",
              "  <thead>\n",
              "    <tr style=\"text-align: right;\">\n",
              "      <th></th>\n",
              "      <th>id</th>\n",
              "      <th>book_id</th>\n",
              "      <th>authors</th>\n",
              "      <th>title</th>\n",
              "      <th>average_rating</th>\n",
              "      <th>ratings_count</th>\n",
              "    </tr>\n",
              "  </thead>\n",
              "  <tbody>\n",
              "    <tr>\n",
              "      <th>3627</th>\n",
              "      <td>3628</td>\n",
              "      <td>24812</td>\n",
              "      <td>Bill Watterson</td>\n",
              "      <td>The Complete Calvin and Hobbes</td>\n",
              "      <td>4.82</td>\n",
              "      <td>28900</td>\n",
              "    </tr>\n",
              "    <tr>\n",
              "      <th>3274</th>\n",
              "      <td>3275</td>\n",
              "      <td>8</td>\n",
              "      <td>J.K. Rowling, Mary GrandPré</td>\n",
              "      <td>Harry Potter Boxed Set, Books 1-5 (Harry Potte...</td>\n",
              "      <td>4.77</td>\n",
              "      <td>33220</td>\n",
              "    </tr>\n",
              "    <tr>\n",
              "      <th>861</th>\n",
              "      <td>862</td>\n",
              "      <td>17332218</td>\n",
              "      <td>Brandon Sanderson</td>\n",
              "      <td>Words of Radiance (The Stormlight Archive, #2)</td>\n",
              "      <td>4.77</td>\n",
              "      <td>73572</td>\n",
              "    </tr>\n",
              "    <tr>\n",
              "      <th>8853</th>\n",
              "      <td>8854</td>\n",
              "      <td>95602</td>\n",
              "      <td>Francine Rivers</td>\n",
              "      <td>Mark of the Lion Trilogy</td>\n",
              "      <td>4.76</td>\n",
              "      <td>9081</td>\n",
              "    </tr>\n",
              "    <tr>\n",
              "      <th>7946</th>\n",
              "      <td>7947</td>\n",
              "      <td>5031805</td>\n",
              "      <td>Anonymous, Lane T. Dennis, Wayne A. Grudem</td>\n",
              "      <td>ESV Study Bible</td>\n",
              "      <td>4.76</td>\n",
              "      <td>8953</td>\n",
              "    </tr>\n",
              "    <tr>\n",
              "      <th>4482</th>\n",
              "      <td>4483</td>\n",
              "      <td>24814</td>\n",
              "      <td>Bill Watterson</td>\n",
              "      <td>It's a Magical World: A Calvin and Hobbes Coll...</td>\n",
              "      <td>4.75</td>\n",
              "      <td>22351</td>\n",
              "    </tr>\n",
              "    <tr>\n",
              "      <th>6360</th>\n",
              "      <td>6361</td>\n",
              "      <td>70489</td>\n",
              "      <td>Bill Watterson</td>\n",
              "      <td>There's Treasure Everywhere: A Calvin and Hobb...</td>\n",
              "      <td>4.74</td>\n",
              "      <td>16766</td>\n",
              "    </tr>\n",
              "    <tr>\n",
              "      <th>421</th>\n",
              "      <td>422</td>\n",
              "      <td>862041</td>\n",
              "      <td>J.K. Rowling</td>\n",
              "      <td>Harry Potter Boxset (Harry Potter, #1-7)</td>\n",
              "      <td>4.74</td>\n",
              "      <td>190050</td>\n",
              "    </tr>\n",
              "    <tr>\n",
              "      <th>3752</th>\n",
              "      <td>3753</td>\n",
              "      <td>10</td>\n",
              "      <td>J.K. Rowling</td>\n",
              "      <td>Harry Potter Collection (Harry Potter, #1-6)</td>\n",
              "      <td>4.73</td>\n",
              "      <td>24618</td>\n",
              "    </tr>\n",
              "    <tr>\n",
              "      <th>6919</th>\n",
              "      <td>6920</td>\n",
              "      <td>24815</td>\n",
              "      <td>Bill Watterson</td>\n",
              "      <td>The Indispensable Calvin and Hobbes</td>\n",
              "      <td>4.73</td>\n",
              "      <td>14597</td>\n",
              "    </tr>\n",
              "    <tr>\n",
              "      <th>6589</th>\n",
              "      <td>6590</td>\n",
              "      <td>59715</td>\n",
              "      <td>Bill Watterson</td>\n",
              "      <td>The Authoritative Calvin and Hobbes: A Calvin ...</td>\n",
              "      <td>4.73</td>\n",
              "      <td>16087</td>\n",
              "    </tr>\n",
              "    <tr>\n",
              "      <th>9565</th>\n",
              "      <td>9566</td>\n",
              "      <td>70487</td>\n",
              "      <td>Bill Watterson</td>\n",
              "      <td>Attack of the Deranged Mutant Killer Monster S...</td>\n",
              "      <td>4.72</td>\n",
              "      <td>9713</td>\n",
              "    </tr>\n",
              "    <tr>\n",
              "      <th>1307</th>\n",
              "      <td>1308</td>\n",
              "      <td>17927395</td>\n",
              "      <td>Sarah J. Maas</td>\n",
              "      <td>A Court of Mist and Fury (A Court of Thorns an...</td>\n",
              "      <td>4.72</td>\n",
              "      <td>108384</td>\n",
              "    </tr>\n",
              "    <tr>\n",
              "      <th>8977</th>\n",
              "      <td>8978</td>\n",
              "      <td>121792</td>\n",
              "      <td>Bill Watterson</td>\n",
              "      <td>The Revenge of the Baby-Sat</td>\n",
              "      <td>4.71</td>\n",
              "      <td>11503</td>\n",
              "    </tr>\n",
              "    <tr>\n",
              "      <th>9075</th>\n",
              "      <td>9076</td>\n",
              "      <td>2350129</td>\n",
              "      <td>The Church of Jesus Christ of Latter-day Saints</td>\n",
              "      <td>Preach My Gospel: A Guide To Missionary Service</td>\n",
              "      <td>4.71</td>\n",
              "      <td>9891</td>\n",
              "    </tr>\n",
              "    <tr>\n",
              "      <th>7253</th>\n",
              "      <td>7254</td>\n",
              "      <td>24816</td>\n",
              "      <td>Bill Watterson</td>\n",
              "      <td>Homicidal Psycho Jungle Cat: A Calvin and Hobb...</td>\n",
              "      <td>4.71</td>\n",
              "      <td>14113</td>\n",
              "    </tr>\n",
              "    <tr>\n",
              "      <th>5206</th>\n",
              "      <td>5207</td>\n",
              "      <td>24818</td>\n",
              "      <td>Bill Watterson</td>\n",
              "      <td>The Days Are Just Packed: A Calvin and Hobbes ...</td>\n",
              "      <td>4.68</td>\n",
              "      <td>19143</td>\n",
              "    </tr>\n",
              "    <tr>\n",
              "      <th>5918</th>\n",
              "      <td>5919</td>\n",
              "      <td>265205</td>\n",
              "      <td>Anonymous, Ronald A. Beers, Ronald A. Beers</td>\n",
              "      <td>Life Application Study Bible: NIV</td>\n",
              "      <td>4.67</td>\n",
              "      <td>13614</td>\n",
              "    </tr>\n",
              "    <tr>\n",
              "      <th>9140</th>\n",
              "      <td>9141</td>\n",
              "      <td>9329354</td>\n",
              "      <td>Brandon Sanderson</td>\n",
              "      <td>The Way of Kings, Part 1 (The Stormlight Archi...</td>\n",
              "      <td>4.67</td>\n",
              "      <td>9792</td>\n",
              "    </tr>\n",
              "    <tr>\n",
              "      <th>2100</th>\n",
              "      <td>2101</td>\n",
              "      <td>99298</td>\n",
              "      <td>J.K. Rowling, Mary GrandPré</td>\n",
              "      <td>The Harry Potter Collection 1-4 (Harry Potter,...</td>\n",
              "      <td>4.66</td>\n",
              "      <td>43929</td>\n",
              "    </tr>\n",
              "  </tbody>\n",
              "</table>\n",
              "</div>"
            ],
            "text/plain": [
              "        id   book_id  ... average_rating ratings_count\n",
              "3627  3628     24812  ...           4.82         28900\n",
              "3274  3275         8  ...           4.77         33220\n",
              "861    862  17332218  ...           4.77         73572\n",
              "8853  8854     95602  ...           4.76          9081\n",
              "7946  7947   5031805  ...           4.76          8953\n",
              "4482  4483     24814  ...           4.75         22351\n",
              "6360  6361     70489  ...           4.74         16766\n",
              "421    422    862041  ...           4.74        190050\n",
              "3752  3753        10  ...           4.73         24618\n",
              "6919  6920     24815  ...           4.73         14597\n",
              "6589  6590     59715  ...           4.73         16087\n",
              "9565  9566     70487  ...           4.72          9713\n",
              "1307  1308  17927395  ...           4.72        108384\n",
              "8977  8978    121792  ...           4.71         11503\n",
              "9075  9076   2350129  ...           4.71          9891\n",
              "7253  7254     24816  ...           4.71         14113\n",
              "5206  5207     24818  ...           4.68         19143\n",
              "5918  5919    265205  ...           4.67         13614\n",
              "9140  9141   9329354  ...           4.67          9792\n",
              "2100  2101     99298  ...           4.66         43929\n",
              "\n",
              "[20 rows x 6 columns]"
            ]
          },
          "execution_count": 6,
          "metadata": {
            "tags": []
          },
          "output_type": "execute_result"
        }
      ]
    },
    {
      "cell_type": "markdown",
      "metadata": {
        "id": "nsFrlh9bWr0G"
      },
      "source": [
        "<br>"
      ]
    },
    {
      "cell_type": "markdown",
      "metadata": {
        "id": "x_vTJePtWr0H"
      },
      "source": [
        "--------"
      ]
    },
    {
      "cell_type": "markdown",
      "metadata": {
        "id": "VODWQ5GiWr0H"
      },
      "source": [
        "<br>"
      ]
    },
    {
      "cell_type": "markdown",
      "metadata": {
        "id": "7OamjOH_Wr0I"
      },
      "source": [
        "**2) Ratings** includes all the rates given by our selected group of users to the books they have chosen to rate."
      ]
    },
    {
      "cell_type": "code",
      "metadata": {
        "colab": {
          "base_uri": "https://localhost:8080/"
        },
        "id": "EtFXBPj2Wr0J",
        "outputId": "9915f20e-0d8b-461a-a535-e63367d46d9b"
      },
      "source": [
        "ratings.head()"
      ],
      "execution_count": null,
      "outputs": [
        {
          "data": {
            "text/html": [
              "<div>\n",
              "<style scoped>\n",
              "    .dataframe tbody tr th:only-of-type {\n",
              "        vertical-align: middle;\n",
              "    }\n",
              "\n",
              "    .dataframe tbody tr th {\n",
              "        vertical-align: top;\n",
              "    }\n",
              "\n",
              "    .dataframe thead th {\n",
              "        text-align: right;\n",
              "    }\n",
              "</style>\n",
              "<table border=\"1\" class=\"dataframe\">\n",
              "  <thead>\n",
              "    <tr style=\"text-align: right;\">\n",
              "      <th></th>\n",
              "      <th>book_id</th>\n",
              "      <th>user_id</th>\n",
              "      <th>rating</th>\n",
              "    </tr>\n",
              "  </thead>\n",
              "  <tbody>\n",
              "    <tr>\n",
              "      <th>0</th>\n",
              "      <td>1</td>\n",
              "      <td>314</td>\n",
              "      <td>5</td>\n",
              "    </tr>\n",
              "    <tr>\n",
              "      <th>1</th>\n",
              "      <td>1</td>\n",
              "      <td>439</td>\n",
              "      <td>3</td>\n",
              "    </tr>\n",
              "    <tr>\n",
              "      <th>2</th>\n",
              "      <td>1</td>\n",
              "      <td>588</td>\n",
              "      <td>5</td>\n",
              "    </tr>\n",
              "    <tr>\n",
              "      <th>3</th>\n",
              "      <td>1</td>\n",
              "      <td>1169</td>\n",
              "      <td>4</td>\n",
              "    </tr>\n",
              "    <tr>\n",
              "      <th>4</th>\n",
              "      <td>1</td>\n",
              "      <td>1185</td>\n",
              "      <td>4</td>\n",
              "    </tr>\n",
              "  </tbody>\n",
              "</table>\n",
              "</div>"
            ],
            "text/plain": [
              "   book_id  user_id  rating\n",
              "0        1      314       5\n",
              "1        1      439       3\n",
              "2        1      588       5\n",
              "3        1     1169       4\n",
              "4        1     1185       4"
            ]
          },
          "execution_count": 7,
          "metadata": {
            "tags": []
          },
          "output_type": "execute_result"
        }
      ]
    },
    {
      "cell_type": "code",
      "metadata": {
        "colab": {
          "base_uri": "https://localhost:8080/"
        },
        "id": "VyxiVYeFWr0K",
        "outputId": "ddff8f65-5be5-486d-aa0a-d29ee162d029"
      },
      "source": [
        "ratings.shape  # 981.756 rows x 3 columns imported"
      ],
      "execution_count": null,
      "outputs": [
        {
          "data": {
            "text/plain": [
              "(981756, 3)"
            ]
          },
          "execution_count": 8,
          "metadata": {
            "tags": []
          },
          "output_type": "execute_result"
        }
      ]
    },
    {
      "cell_type": "code",
      "metadata": {
        "colab": {
          "base_uri": "https://localhost:8080/"
        },
        "id": "ht5d--eIWr0K",
        "outputId": "770ca7c5-6c38-4c71-d0bf-b3516af5d710"
      },
      "source": [
        "len(ratings.book_id.unique())  # There are ratings for 10.000 different books in total"
      ],
      "execution_count": null,
      "outputs": [
        {
          "data": {
            "text/plain": [
              "10000"
            ]
          },
          "execution_count": 9,
          "metadata": {
            "tags": []
          },
          "output_type": "execute_result"
        }
      ]
    },
    {
      "cell_type": "code",
      "metadata": {
        "colab": {
          "base_uri": "https://localhost:8080/"
        },
        "id": "22-e9PvFWr0L",
        "outputId": "4d4b61ec-2263-4c3e-e3a9-5f0e9b7a63b7"
      },
      "source": [
        "len(ratings.user_id.unique())  # Ratings to these 10k books have been given by 53.424 unique users"
      ],
      "execution_count": null,
      "outputs": [
        {
          "data": {
            "text/plain": [
              "53424"
            ]
          },
          "execution_count": 10,
          "metadata": {
            "tags": []
          },
          "output_type": "execute_result"
        }
      ]
    },
    {
      "cell_type": "markdown",
      "metadata": {
        "id": "3iKEjgSgWr0M"
      },
      "source": [
        "<br>"
      ]
    },
    {
      "cell_type": "markdown",
      "metadata": {
        "id": "Vu4FJK_JWr0N"
      },
      "source": [
        "------"
      ]
    },
    {
      "cell_type": "markdown",
      "metadata": {
        "id": "XCrv4wInWr0N"
      },
      "source": [
        "<br>"
      ]
    },
    {
      "cell_type": "markdown",
      "metadata": {
        "id": "2Gk8zliEWr0O"
      },
      "source": [
        "**3) Tags** collects all the tags included in 'bookTags' and explains their meaning."
      ]
    },
    {
      "cell_type": "code",
      "metadata": {
        "colab": {
          "base_uri": "https://localhost:8080/"
        },
        "id": "ibslz2igWr0P",
        "outputId": "d7776522-ebc5-4579-bbf7-4b2311acad97"
      },
      "source": [
        "tags.head()"
      ],
      "execution_count": null,
      "outputs": [
        {
          "data": {
            "text/html": [
              "<div>\n",
              "<style scoped>\n",
              "    .dataframe tbody tr th:only-of-type {\n",
              "        vertical-align: middle;\n",
              "    }\n",
              "\n",
              "    .dataframe tbody tr th {\n",
              "        vertical-align: top;\n",
              "    }\n",
              "\n",
              "    .dataframe thead th {\n",
              "        text-align: right;\n",
              "    }\n",
              "</style>\n",
              "<table border=\"1\" class=\"dataframe\">\n",
              "  <thead>\n",
              "    <tr style=\"text-align: right;\">\n",
              "      <th></th>\n",
              "      <th>tag_id</th>\n",
              "      <th>tag_name</th>\n",
              "    </tr>\n",
              "  </thead>\n",
              "  <tbody>\n",
              "    <tr>\n",
              "      <th>0</th>\n",
              "      <td>0</td>\n",
              "      <td>-</td>\n",
              "    </tr>\n",
              "    <tr>\n",
              "      <th>1</th>\n",
              "      <td>1</td>\n",
              "      <td>--1-</td>\n",
              "    </tr>\n",
              "    <tr>\n",
              "      <th>2</th>\n",
              "      <td>2</td>\n",
              "      <td>--10-</td>\n",
              "    </tr>\n",
              "    <tr>\n",
              "      <th>3</th>\n",
              "      <td>3</td>\n",
              "      <td>--12-</td>\n",
              "    </tr>\n",
              "    <tr>\n",
              "      <th>4</th>\n",
              "      <td>4</td>\n",
              "      <td>--122-</td>\n",
              "    </tr>\n",
              "  </tbody>\n",
              "</table>\n",
              "</div>"
            ],
            "text/plain": [
              "   tag_id tag_name\n",
              "0       0        -\n",
              "1       1     --1-\n",
              "2       2    --10-\n",
              "3       3    --12-\n",
              "4       4   --122-"
            ]
          },
          "execution_count": 11,
          "metadata": {
            "tags": []
          },
          "output_type": "execute_result"
        }
      ]
    },
    {
      "cell_type": "code",
      "metadata": {
        "colab": {
          "base_uri": "https://localhost:8080/"
        },
        "id": "u0IcMjfxWr0Q",
        "outputId": "aa49cc58-1a59-4c54-f392-fc5e303bc85f"
      },
      "source": [
        "tags.head()   # 34.252 rows x 2 columns importedtags.shape    "
      ],
      "execution_count": null,
      "outputs": [
        {
          "data": {
            "text/html": [
              "<div>\n",
              "<style scoped>\n",
              "    .dataframe tbody tr th:only-of-type {\n",
              "        vertical-align: middle;\n",
              "    }\n",
              "\n",
              "    .dataframe tbody tr th {\n",
              "        vertical-align: top;\n",
              "    }\n",
              "\n",
              "    .dataframe thead th {\n",
              "        text-align: right;\n",
              "    }\n",
              "</style>\n",
              "<table border=\"1\" class=\"dataframe\">\n",
              "  <thead>\n",
              "    <tr style=\"text-align: right;\">\n",
              "      <th></th>\n",
              "      <th>tag_id</th>\n",
              "      <th>tag_name</th>\n",
              "    </tr>\n",
              "  </thead>\n",
              "  <tbody>\n",
              "    <tr>\n",
              "      <th>0</th>\n",
              "      <td>0</td>\n",
              "      <td>-</td>\n",
              "    </tr>\n",
              "    <tr>\n",
              "      <th>1</th>\n",
              "      <td>1</td>\n",
              "      <td>--1-</td>\n",
              "    </tr>\n",
              "    <tr>\n",
              "      <th>2</th>\n",
              "      <td>2</td>\n",
              "      <td>--10-</td>\n",
              "    </tr>\n",
              "    <tr>\n",
              "      <th>3</th>\n",
              "      <td>3</td>\n",
              "      <td>--12-</td>\n",
              "    </tr>\n",
              "    <tr>\n",
              "      <th>4</th>\n",
              "      <td>4</td>\n",
              "      <td>--122-</td>\n",
              "    </tr>\n",
              "  </tbody>\n",
              "</table>\n",
              "</div>"
            ],
            "text/plain": [
              "   tag_id tag_name\n",
              "0       0        -\n",
              "1       1     --1-\n",
              "2       2    --10-\n",
              "3       3    --12-\n",
              "4       4   --122-"
            ]
          },
          "execution_count": 12,
          "metadata": {
            "tags": []
          },
          "output_type": "execute_result"
        }
      ]
    },
    {
      "cell_type": "code",
      "metadata": {
        "colab": {
          "base_uri": "https://localhost:8080/"
        },
        "id": "ZVJlbfZGWr0R",
        "outputId": "5e0aa30f-ece5-458e-e059-8f100dbbab06"
      },
      "source": [
        "len(tags.tag_id.unique())  # There are 34.252 different tags, which means no duplicates"
      ],
      "execution_count": null,
      "outputs": [
        {
          "data": {
            "text/plain": [
              "34252"
            ]
          },
          "execution_count": 13,
          "metadata": {
            "tags": []
          },
          "output_type": "execute_result"
        }
      ]
    },
    {
      "cell_type": "markdown",
      "metadata": {
        "id": "z-it7RNQWr0S"
      },
      "source": [
        "<br>"
      ]
    },
    {
      "cell_type": "markdown",
      "metadata": {
        "id": "azBgkK_-Wr0S"
      },
      "source": [
        "-----"
      ]
    },
    {
      "cell_type": "markdown",
      "metadata": {
        "id": "4ME5k-GoWr0T"
      },
      "source": [
        "**4) Book Tags** contains all the tags associated to each and every book included in the analysis."
      ]
    },
    {
      "cell_type": "code",
      "metadata": {
        "colab": {
          "base_uri": "https://localhost:8080/"
        },
        "id": "dFHW_vBFWr0U",
        "outputId": "6bc64e92-61f4-4ca9-885b-3298506e9c72"
      },
      "source": [
        "bookTags.head()"
      ],
      "execution_count": null,
      "outputs": [
        {
          "data": {
            "text/html": [
              "<div>\n",
              "<style scoped>\n",
              "    .dataframe tbody tr th:only-of-type {\n",
              "        vertical-align: middle;\n",
              "    }\n",
              "\n",
              "    .dataframe tbody tr th {\n",
              "        vertical-align: top;\n",
              "    }\n",
              "\n",
              "    .dataframe thead th {\n",
              "        text-align: right;\n",
              "    }\n",
              "</style>\n",
              "<table border=\"1\" class=\"dataframe\">\n",
              "  <thead>\n",
              "    <tr style=\"text-align: right;\">\n",
              "      <th></th>\n",
              "      <th>goodreads_book_id</th>\n",
              "      <th>tag_id</th>\n",
              "      <th>count</th>\n",
              "    </tr>\n",
              "  </thead>\n",
              "  <tbody>\n",
              "    <tr>\n",
              "      <th>0</th>\n",
              "      <td>1</td>\n",
              "      <td>30574</td>\n",
              "      <td>167697</td>\n",
              "    </tr>\n",
              "    <tr>\n",
              "      <th>1</th>\n",
              "      <td>1</td>\n",
              "      <td>11305</td>\n",
              "      <td>37174</td>\n",
              "    </tr>\n",
              "    <tr>\n",
              "      <th>2</th>\n",
              "      <td>1</td>\n",
              "      <td>11557</td>\n",
              "      <td>34173</td>\n",
              "    </tr>\n",
              "    <tr>\n",
              "      <th>3</th>\n",
              "      <td>1</td>\n",
              "      <td>8717</td>\n",
              "      <td>12986</td>\n",
              "    </tr>\n",
              "    <tr>\n",
              "      <th>4</th>\n",
              "      <td>1</td>\n",
              "      <td>33114</td>\n",
              "      <td>12716</td>\n",
              "    </tr>\n",
              "  </tbody>\n",
              "</table>\n",
              "</div>"
            ],
            "text/plain": [
              "   goodreads_book_id  tag_id   count\n",
              "0                  1   30574  167697\n",
              "1                  1   11305   37174\n",
              "2                  1   11557   34173\n",
              "3                  1    8717   12986\n",
              "4                  1   33114   12716"
            ]
          },
          "execution_count": 14,
          "metadata": {
            "tags": []
          },
          "output_type": "execute_result"
        }
      ]
    },
    {
      "cell_type": "code",
      "metadata": {
        "colab": {
          "base_uri": "https://localhost:8080/"
        },
        "id": "YODFG4v5Wr0V",
        "outputId": "abea3357-de28-4641-dd15-7cded16337cb"
      },
      "source": [
        "bookTags.shape    # 999.912 rows imported x 3 columns imported"
      ],
      "execution_count": null,
      "outputs": [
        {
          "data": {
            "text/plain": [
              "(999912, 3)"
            ]
          },
          "execution_count": 15,
          "metadata": {
            "tags": []
          },
          "output_type": "execute_result"
        }
      ]
    },
    {
      "cell_type": "code",
      "metadata": {
        "colab": {
          "base_uri": "https://localhost:8080/"
        },
        "id": "JOrOnZUTWr0W",
        "outputId": "c672a946-e2cf-4fbe-f4d0-4208a07323ee"
      },
      "source": [
        "len(bookTags.goodreads_book_id.unique())  # As expected, there are 10.000 books in total"
      ],
      "execution_count": null,
      "outputs": [
        {
          "data": {
            "text/plain": [
              "10000"
            ]
          },
          "execution_count": 16,
          "metadata": {
            "tags": []
          },
          "output_type": "execute_result"
        }
      ]
    },
    {
      "cell_type": "code",
      "metadata": {
        "colab": {
          "base_uri": "https://localhost:8080/"
        },
        "id": "jdvzBbCJWr0X",
        "outputId": "05f32ce7-157d-4f1b-e176-95c38af6e530"
      },
      "source": [
        "len(bookTags.tag_id.unique())  # As expected, there are 34.252 different tags in total"
      ],
      "execution_count": null,
      "outputs": [
        {
          "data": {
            "text/plain": [
              "34252"
            ]
          },
          "execution_count": 17,
          "metadata": {
            "tags": []
          },
          "output_type": "execute_result"
        }
      ]
    },
    {
      "cell_type": "markdown",
      "metadata": {
        "id": "o4Qz3KsIWr0X"
      },
      "source": [
        "<br>"
      ]
    },
    {
      "cell_type": "markdown",
      "metadata": {
        "id": "Or9UCOzvWr0Y"
      },
      "source": [
        "-------"
      ]
    },
    {
      "cell_type": "markdown",
      "metadata": {
        "id": "3qrH8DQgWr0Z"
      },
      "source": [
        "<br>"
      ]
    },
    {
      "cell_type": "markdown",
      "metadata": {
        "id": "OayPO-tiWr0Z"
      },
      "source": [
        "**5) to Read** indicates all the books that have been flagged as 'to read' by the readers included in the analysis."
      ]
    },
    {
      "cell_type": "code",
      "metadata": {
        "colab": {
          "base_uri": "https://localhost:8080/"
        },
        "id": "8fFuFosxWr0a",
        "outputId": "693b8464-8473-4fe9-ecca-cd9df9ac2f12"
      },
      "source": [
        "toRead.head()"
      ],
      "execution_count": null,
      "outputs": [
        {
          "data": {
            "text/html": [
              "<div>\n",
              "<style scoped>\n",
              "    .dataframe tbody tr th:only-of-type {\n",
              "        vertical-align: middle;\n",
              "    }\n",
              "\n",
              "    .dataframe tbody tr th {\n",
              "        vertical-align: top;\n",
              "    }\n",
              "\n",
              "    .dataframe thead th {\n",
              "        text-align: right;\n",
              "    }\n",
              "</style>\n",
              "<table border=\"1\" class=\"dataframe\">\n",
              "  <thead>\n",
              "    <tr style=\"text-align: right;\">\n",
              "      <th></th>\n",
              "      <th>user_id</th>\n",
              "      <th>book_id</th>\n",
              "    </tr>\n",
              "  </thead>\n",
              "  <tbody>\n",
              "    <tr>\n",
              "      <th>0</th>\n",
              "      <td>1</td>\n",
              "      <td>112</td>\n",
              "    </tr>\n",
              "    <tr>\n",
              "      <th>1</th>\n",
              "      <td>1</td>\n",
              "      <td>235</td>\n",
              "    </tr>\n",
              "    <tr>\n",
              "      <th>2</th>\n",
              "      <td>1</td>\n",
              "      <td>533</td>\n",
              "    </tr>\n",
              "    <tr>\n",
              "      <th>3</th>\n",
              "      <td>1</td>\n",
              "      <td>1198</td>\n",
              "    </tr>\n",
              "    <tr>\n",
              "      <th>4</th>\n",
              "      <td>1</td>\n",
              "      <td>1874</td>\n",
              "    </tr>\n",
              "  </tbody>\n",
              "</table>\n",
              "</div>"
            ],
            "text/plain": [
              "   user_id  book_id\n",
              "0        1      112\n",
              "1        1      235\n",
              "2        1      533\n",
              "3        1     1198\n",
              "4        1     1874"
            ]
          },
          "execution_count": 18,
          "metadata": {
            "tags": []
          },
          "output_type": "execute_result"
        }
      ]
    },
    {
      "cell_type": "code",
      "metadata": {
        "colab": {
          "base_uri": "https://localhost:8080/"
        },
        "id": "Wj8eWDrIWr0a",
        "outputId": "15520a0d-4cce-471a-b4b8-97c7bd2f4a8b"
      },
      "source": [
        "toRead.shape    # 912.705 rows x 2 columns imported"
      ],
      "execution_count": null,
      "outputs": [
        {
          "data": {
            "text/plain": [
              "(912705, 2)"
            ]
          },
          "execution_count": 19,
          "metadata": {
            "tags": []
          },
          "output_type": "execute_result"
        }
      ]
    },
    {
      "cell_type": "code",
      "metadata": {
        "colab": {
          "base_uri": "https://localhost:8080/"
        },
        "id": "PMYEz39gWr0b",
        "outputId": "626432e0-d4f0-4c7d-f062-190f9064dfa4"
      },
      "source": [
        "len(toRead.book_id.unique())  # 9.986 different books have been given the 'toRead' tag"
      ],
      "execution_count": null,
      "outputs": [
        {
          "data": {
            "text/plain": [
              "9986"
            ]
          },
          "execution_count": 20,
          "metadata": {
            "tags": []
          },
          "output_type": "execute_result"
        }
      ]
    },
    {
      "cell_type": "code",
      "metadata": {
        "colab": {
          "base_uri": "https://localhost:8080/"
        },
        "id": "xO0akuWqWr0c",
        "scrolled": true,
        "outputId": "f7465018-644e-44ab-bf0a-7308316dbefb"
      },
      "source": [
        "len(toRead.user_id.unique())   # 48.871 unique users have used the 'toRead' tag to flag at least one the 10k books"
      ],
      "execution_count": null,
      "outputs": [
        {
          "data": {
            "text/plain": [
              "48871"
            ]
          },
          "execution_count": 21,
          "metadata": {
            "tags": []
          },
          "output_type": "execute_result"
        }
      ]
    },
    {
      "cell_type": "markdown",
      "metadata": {
        "id": "jaToGEGSWr0d"
      },
      "source": [
        "<br>"
      ]
    },
    {
      "cell_type": "markdown",
      "metadata": {
        "id": "_XKf1WAzWr0d"
      },
      "source": [
        "--------"
      ]
    },
    {
      "cell_type": "markdown",
      "metadata": {
        "id": "QVSWVQ_yWr0e"
      },
      "source": [
        "<br>"
      ]
    },
    {
      "cell_type": "markdown",
      "metadata": {
        "id": "QtDTHt4jWr0e"
      },
      "source": [
        "#### 1.1 Adding own personal ratings to the dataset"
      ]
    },
    {
      "cell_type": "markdown",
      "metadata": {
        "id": "c9JhWJboWr0e"
      },
      "source": [
        "In order to make the analysis more interesting and easier to follow, it is good to select a specific user and keep track of him along the whole process, and see what recommendations the system will be able to give him. \n",
        "For this purpose, I have leveraged my own personal Goodreads account, scraping all the ratings I have been given, since I had a Goodreads account, to the books I have read."
      ]
    },
    {
      "cell_type": "markdown",
      "metadata": {
        "id": "4I0uglCyWr0g"
      },
      "source": [
        "The ratings are stored in the 'maxRatings.csv' file, that I have created through the carping process included in the previous notebook."
      ]
    },
    {
      "cell_type": "code",
      "metadata": {
        "id": "8hAYjvRBWr0g"
      },
      "source": [
        "maxRatings = pd.read_csv('https://raw.githubusercontent.com/sethitanmay1/Book-recommendation-system/main/maxRatings.csv')"
      ],
      "execution_count": null,
      "outputs": []
    },
    {
      "cell_type": "code",
      "metadata": {
        "colab": {
          "base_uri": "https://localhost:8080/"
        },
        "id": "wHjDZkEzWr0h",
        "outputId": "11cfa33b-0f58-4803-d37f-5cb620489024"
      },
      "source": [
        "maxRatings.head()"
      ],
      "execution_count": null,
      "outputs": [
        {
          "data": {
            "text/html": [
              "<div>\n",
              "<style scoped>\n",
              "    .dataframe tbody tr th:only-of-type {\n",
              "        vertical-align: middle;\n",
              "    }\n",
              "\n",
              "    .dataframe tbody tr th {\n",
              "        vertical-align: top;\n",
              "    }\n",
              "\n",
              "    .dataframe thead th {\n",
              "        text-align: right;\n",
              "    }\n",
              "</style>\n",
              "<table border=\"1\" class=\"dataframe\">\n",
              "  <thead>\n",
              "    <tr style=\"text-align: right;\">\n",
              "      <th></th>\n",
              "      <th>Unnamed: 0</th>\n",
              "      <th>title</th>\n",
              "      <th>rating</th>\n",
              "    </tr>\n",
              "  </thead>\n",
              "  <tbody>\n",
              "    <tr>\n",
              "      <th>0</th>\n",
              "      <td>0</td>\n",
              "      <td>La ragazza di Bube</td>\n",
              "      <td>3</td>\n",
              "    </tr>\n",
              "    <tr>\n",
              "      <th>1</th>\n",
              "      <td>1</td>\n",
              "      <td>Crash</td>\n",
              "      <td>3</td>\n",
              "    </tr>\n",
              "    <tr>\n",
              "      <th>2</th>\n",
              "      <td>2</td>\n",
              "      <td>Flow My Tears, the Policeman Said</td>\n",
              "      <td>5</td>\n",
              "    </tr>\n",
              "    <tr>\n",
              "      <th>3</th>\n",
              "      <td>3</td>\n",
              "      <td>Lost in Music</td>\n",
              "      <td>3</td>\n",
              "    </tr>\n",
              "    <tr>\n",
              "      <th>4</th>\n",
              "      <td>4</td>\n",
              "      <td>Things The Grandchildren Should Know</td>\n",
              "      <td>4</td>\n",
              "    </tr>\n",
              "  </tbody>\n",
              "</table>\n",
              "</div>"
            ],
            "text/plain": [
              "   Unnamed: 0                                 title  rating\n",
              "0           0                    La ragazza di Bube       3\n",
              "1           1                                 Crash       3\n",
              "2           2     Flow My Tears, the Policeman Said       5\n",
              "3           3                         Lost in Music       3\n",
              "4           4  Things The Grandchildren Should Know       4"
            ]
          },
          "execution_count": 23,
          "metadata": {
            "tags": []
          },
          "output_type": "execute_result"
        }
      ]
    },
    {
      "cell_type": "code",
      "metadata": {
        "colab": {
          "base_uri": "https://localhost:8080/"
        },
        "id": "OsBsGDRKWr0i",
        "outputId": "0605dc73-0aa3-48b8-a9fa-b6da1b6a0bca"
      },
      "source": [
        "maxRatings.shape    # 97 rows x 3 columns imported"
      ],
      "execution_count": null,
      "outputs": [
        {
          "data": {
            "text/plain": [
              "(97, 3)"
            ]
          },
          "execution_count": 24,
          "metadata": {
            "tags": []
          },
          "output_type": "execute_result"
        }
      ]
    },
    {
      "cell_type": "markdown",
      "metadata": {
        "id": "qOnCXaIFWr0i"
      },
      "source": [
        "For the purpose of the analysis, we have to assign a user ID to my account. In the following lines, I have checked that the maximum userID in the dataset is 53424, hence I have assigned the user number 55000 to my account, and appended a column that indicates it."
      ]
    },
    {
      "cell_type": "code",
      "metadata": {
        "colab": {
          "base_uri": "https://localhost:8080/"
        },
        "id": "ykju22TnWr0j",
        "outputId": "aff8e945-a6fa-4bf0-de58-b52356522107"
      },
      "source": [
        "max(ratings['user_id'])"
      ],
      "execution_count": null,
      "outputs": [
        {
          "data": {
            "text/plain": [
              "53424"
            ]
          },
          "execution_count": 25,
          "metadata": {
            "tags": []
          },
          "output_type": "execute_result"
        }
      ]
    },
    {
      "cell_type": "code",
      "metadata": {
        "id": "1peSqjwgWr0k"
      },
      "source": [
        "maxRatings['user_id'] = 55000"
      ],
      "execution_count": null,
      "outputs": []
    },
    {
      "cell_type": "markdown",
      "metadata": {
        "id": "MBHs-gP3Wr0k"
      },
      "source": [
        "In order to see how many of the 97 books I have actually read and rated are in the books dataset selected for this analysis, let's merge maxRatings with the rating dataset."
      ]
    },
    {
      "cell_type": "code",
      "metadata": {
        "colab": {
          "base_uri": "https://localhost:8080/"
        },
        "id": "D-hbje7YWr0k",
        "outputId": "39736fc4-b512-4cd8-8a6b-703050b3fa84"
      },
      "source": [
        "maxRatingsWithId = pd.merge(maxRatings, books, on = 'title')\n",
        "maxRatingsWithId.head()"
      ],
      "execution_count": null,
      "outputs": [
        {
          "data": {
            "text/html": [
              "<div>\n",
              "<style scoped>\n",
              "    .dataframe tbody tr th:only-of-type {\n",
              "        vertical-align: middle;\n",
              "    }\n",
              "\n",
              "    .dataframe tbody tr th {\n",
              "        vertical-align: top;\n",
              "    }\n",
              "\n",
              "    .dataframe thead th {\n",
              "        text-align: right;\n",
              "    }\n",
              "</style>\n",
              "<table border=\"1\" class=\"dataframe\">\n",
              "  <thead>\n",
              "    <tr style=\"text-align: right;\">\n",
              "      <th></th>\n",
              "      <th>Unnamed: 0</th>\n",
              "      <th>title</th>\n",
              "      <th>rating</th>\n",
              "      <th>user_id</th>\n",
              "      <th>id</th>\n",
              "      <th>book_id</th>\n",
              "      <th>best_book_id</th>\n",
              "      <th>work_id</th>\n",
              "      <th>books_count</th>\n",
              "      <th>isbn</th>\n",
              "      <th>isbn13</th>\n",
              "      <th>authors</th>\n",
              "      <th>original_publication_year</th>\n",
              "      <th>original_title</th>\n",
              "      <th>language_code</th>\n",
              "      <th>average_rating</th>\n",
              "      <th>ratings_count</th>\n",
              "      <th>work_ratings_count</th>\n",
              "      <th>work_text_reviews_count</th>\n",
              "      <th>ratings_1</th>\n",
              "      <th>ratings_2</th>\n",
              "      <th>ratings_3</th>\n",
              "      <th>ratings_4</th>\n",
              "      <th>ratings_5</th>\n",
              "      <th>image_url</th>\n",
              "      <th>small_image_url</th>\n",
              "    </tr>\n",
              "  </thead>\n",
              "  <tbody>\n",
              "    <tr>\n",
              "      <th>0</th>\n",
              "      <td>1</td>\n",
              "      <td>Crash</td>\n",
              "      <td>3</td>\n",
              "      <td>55000</td>\n",
              "      <td>7232</td>\n",
              "      <td>70241</td>\n",
              "      <td>70241</td>\n",
              "      <td>68058</td>\n",
              "      <td>81</td>\n",
              "      <td>312420331</td>\n",
              "      <td>9.780312e+12</td>\n",
              "      <td>J.G. Ballard</td>\n",
              "      <td>1973.0</td>\n",
              "      <td>Crash</td>\n",
              "      <td>en-CA</td>\n",
              "      <td>3.58</td>\n",
              "      <td>13217</td>\n",
              "      <td>15187</td>\n",
              "      <td>925</td>\n",
              "      <td>825</td>\n",
              "      <td>1804</td>\n",
              "      <td>3900</td>\n",
              "      <td>5091</td>\n",
              "      <td>3567</td>\n",
              "      <td>https://images.gr-assets.com/books/1281416649m...</td>\n",
              "      <td>https://images.gr-assets.com/books/1281416649s...</td>\n",
              "    </tr>\n",
              "    <tr>\n",
              "      <th>1</th>\n",
              "      <td>2</td>\n",
              "      <td>Flow My Tears, the Policeman Said</td>\n",
              "      <td>5</td>\n",
              "      <td>55000</td>\n",
              "      <td>4326</td>\n",
              "      <td>22584</td>\n",
              "      <td>22584</td>\n",
              "      <td>949696</td>\n",
              "      <td>92</td>\n",
              "      <td>1857983416</td>\n",
              "      <td>9.781858e+12</td>\n",
              "      <td>Philip K. Dick</td>\n",
              "      <td>1974.0</td>\n",
              "      <td>Flow My Tears, the Policeman Said</td>\n",
              "      <td>eng</td>\n",
              "      <td>3.93</td>\n",
              "      <td>22063</td>\n",
              "      <td>25396</td>\n",
              "      <td>1187</td>\n",
              "      <td>206</td>\n",
              "      <td>1104</td>\n",
              "      <td>6014</td>\n",
              "      <td>10985</td>\n",
              "      <td>7087</td>\n",
              "      <td>https://images.gr-assets.com/books/1398026028m...</td>\n",
              "      <td>https://images.gr-assets.com/books/1398026028s...</td>\n",
              "    </tr>\n",
              "    <tr>\n",
              "      <th>2</th>\n",
              "      <td>6</td>\n",
              "      <td>Chronicle of a Death Foretold</td>\n",
              "      <td>5</td>\n",
              "      <td>55000</td>\n",
              "      <td>1239</td>\n",
              "      <td>23878</td>\n",
              "      <td>23878</td>\n",
              "      <td>59137</td>\n",
              "      <td>269</td>\n",
              "      <td>140003471X</td>\n",
              "      <td>9.781400e+12</td>\n",
              "      <td>Gabriel García Márquez, Gregory Rabassa</td>\n",
              "      <td>1981.0</td>\n",
              "      <td>Crónica de una muerte anunciada</td>\n",
              "      <td>eng</td>\n",
              "      <td>3.95</td>\n",
              "      <td>56200</td>\n",
              "      <td>81653</td>\n",
              "      <td>3996</td>\n",
              "      <td>955</td>\n",
              "      <td>4077</td>\n",
              "      <td>18369</td>\n",
              "      <td>33190</td>\n",
              "      <td>25062</td>\n",
              "      <td>https://images.gr-assets.com/books/1430736599m...</td>\n",
              "      <td>https://images.gr-assets.com/books/1430736599s...</td>\n",
              "    </tr>\n",
              "    <tr>\n",
              "      <th>3</th>\n",
              "      <td>7</td>\n",
              "      <td>The Taming of the Shrew</td>\n",
              "      <td>3</td>\n",
              "      <td>55000</td>\n",
              "      <td>773</td>\n",
              "      <td>47021</td>\n",
              "      <td>47021</td>\n",
              "      <td>3152341</td>\n",
              "      <td>689</td>\n",
              "      <td>074347757X</td>\n",
              "      <td>9.780743e+12</td>\n",
              "      <td>William Shakespeare</td>\n",
              "      <td>1593.0</td>\n",
              "      <td>The Taming of the Shrew</td>\n",
              "      <td>en-US</td>\n",
              "      <td>3.81</td>\n",
              "      <td>126318</td>\n",
              "      <td>134240</td>\n",
              "      <td>2370</td>\n",
              "      <td>2869</td>\n",
              "      <td>9611</td>\n",
              "      <td>35666</td>\n",
              "      <td>47453</td>\n",
              "      <td>38641</td>\n",
              "      <td>https://images.gr-assets.com/books/1327935253m...</td>\n",
              "      <td>https://images.gr-assets.com/books/1327935253s...</td>\n",
              "    </tr>\n",
              "    <tr>\n",
              "      <th>4</th>\n",
              "      <td>8</td>\n",
              "      <td>The Merchant of Venice</td>\n",
              "      <td>3</td>\n",
              "      <td>55000</td>\n",
              "      <td>839</td>\n",
              "      <td>24128</td>\n",
              "      <td>24128</td>\n",
              "      <td>2682703</td>\n",
              "      <td>1088</td>\n",
              "      <td>743477561</td>\n",
              "      <td>9.780743e+12</td>\n",
              "      <td>William Shakespeare, Robert          Jackson, ...</td>\n",
              "      <td>1596.0</td>\n",
              "      <td>The Merchant of Venice</td>\n",
              "      <td>eng</td>\n",
              "      <td>3.78</td>\n",
              "      <td>115621</td>\n",
              "      <td>128289</td>\n",
              "      <td>2616</td>\n",
              "      <td>1925</td>\n",
              "      <td>9212</td>\n",
              "      <td>36917</td>\n",
              "      <td>46745</td>\n",
              "      <td>33490</td>\n",
              "      <td>https://images.gr-assets.com/books/1327871054m...</td>\n",
              "      <td>https://images.gr-assets.com/books/1327871054s...</td>\n",
              "    </tr>\n",
              "  </tbody>\n",
              "</table>\n",
              "</div>"
            ],
            "text/plain": [
              "   Unnamed: 0  ...                                    small_image_url\n",
              "0           1  ...  https://images.gr-assets.com/books/1281416649s...\n",
              "1           2  ...  https://images.gr-assets.com/books/1398026028s...\n",
              "2           6  ...  https://images.gr-assets.com/books/1430736599s...\n",
              "3           7  ...  https://images.gr-assets.com/books/1327935253s...\n",
              "4           8  ...  https://images.gr-assets.com/books/1327871054s...\n",
              "\n",
              "[5 rows x 26 columns]"
            ]
          },
          "execution_count": 27,
          "metadata": {
            "tags": []
          },
          "output_type": "execute_result"
        }
      ]
    },
    {
      "cell_type": "markdown",
      "metadata": {
        "id": "CsHm5n2jWr0l"
      },
      "source": [
        "Next step will be to append my ratings to the ratings dataset. To do so, firstly I have to recondut maxRatings dataset to the exact same layout and format as the ratings one. Hence, I select only the columns needed, renaming one of them, given that 'id' in the 'books' dataset corresponds to 'book_id' in the rating dataset."
      ]
    },
    {
      "cell_type": "code",
      "metadata": {
        "colab": {
          "base_uri": "https://localhost:8080/"
        },
        "id": "qk_lb9S7Wr0m",
        "outputId": "31b5dc08-7294-49b3-8a3c-d257ef02991a"
      },
      "source": [
        "ratings.head()"
      ],
      "execution_count": null,
      "outputs": [
        {
          "data": {
            "text/html": [
              "<div>\n",
              "<style scoped>\n",
              "    .dataframe tbody tr th:only-of-type {\n",
              "        vertical-align: middle;\n",
              "    }\n",
              "\n",
              "    .dataframe tbody tr th {\n",
              "        vertical-align: top;\n",
              "    }\n",
              "\n",
              "    .dataframe thead th {\n",
              "        text-align: right;\n",
              "    }\n",
              "</style>\n",
              "<table border=\"1\" class=\"dataframe\">\n",
              "  <thead>\n",
              "    <tr style=\"text-align: right;\">\n",
              "      <th></th>\n",
              "      <th>book_id</th>\n",
              "      <th>user_id</th>\n",
              "      <th>rating</th>\n",
              "    </tr>\n",
              "  </thead>\n",
              "  <tbody>\n",
              "    <tr>\n",
              "      <th>0</th>\n",
              "      <td>1</td>\n",
              "      <td>314</td>\n",
              "      <td>5</td>\n",
              "    </tr>\n",
              "    <tr>\n",
              "      <th>1</th>\n",
              "      <td>1</td>\n",
              "      <td>439</td>\n",
              "      <td>3</td>\n",
              "    </tr>\n",
              "    <tr>\n",
              "      <th>2</th>\n",
              "      <td>1</td>\n",
              "      <td>588</td>\n",
              "      <td>5</td>\n",
              "    </tr>\n",
              "    <tr>\n",
              "      <th>3</th>\n",
              "      <td>1</td>\n",
              "      <td>1169</td>\n",
              "      <td>4</td>\n",
              "    </tr>\n",
              "    <tr>\n",
              "      <th>4</th>\n",
              "      <td>1</td>\n",
              "      <td>1185</td>\n",
              "      <td>4</td>\n",
              "    </tr>\n",
              "  </tbody>\n",
              "</table>\n",
              "</div>"
            ],
            "text/plain": [
              "   book_id  user_id  rating\n",
              "0        1      314       5\n",
              "1        1      439       3\n",
              "2        1      588       5\n",
              "3        1     1169       4\n",
              "4        1     1185       4"
            ]
          },
          "execution_count": 28,
          "metadata": {
            "tags": []
          },
          "output_type": "execute_result"
        }
      ]
    },
    {
      "cell_type": "code",
      "metadata": {
        "id": "Bh22qXdTWr0n"
      },
      "source": [
        "maxRatingsWithId = maxRatingsWithId[['id', 'user_id', 'rating']] \\\n",
        "                    .rename(columns = {'id' : 'book_id'})"
      ],
      "execution_count": null,
      "outputs": []
    },
    {
      "cell_type": "code",
      "metadata": {
        "colab": {
          "base_uri": "https://localhost:8080/"
        },
        "id": "ZrSJ8GcfWr0n",
        "outputId": "3d6855d2-d2da-44ba-e07e-3fc2a2503c55"
      },
      "source": [
        "maxRatingsWithId.head()"
      ],
      "execution_count": null,
      "outputs": [
        {
          "data": {
            "text/html": [
              "<div>\n",
              "<style scoped>\n",
              "    .dataframe tbody tr th:only-of-type {\n",
              "        vertical-align: middle;\n",
              "    }\n",
              "\n",
              "    .dataframe tbody tr th {\n",
              "        vertical-align: top;\n",
              "    }\n",
              "\n",
              "    .dataframe thead th {\n",
              "        text-align: right;\n",
              "    }\n",
              "</style>\n",
              "<table border=\"1\" class=\"dataframe\">\n",
              "  <thead>\n",
              "    <tr style=\"text-align: right;\">\n",
              "      <th></th>\n",
              "      <th>book_id</th>\n",
              "      <th>user_id</th>\n",
              "      <th>rating</th>\n",
              "    </tr>\n",
              "  </thead>\n",
              "  <tbody>\n",
              "    <tr>\n",
              "      <th>0</th>\n",
              "      <td>7232</td>\n",
              "      <td>55000</td>\n",
              "      <td>3</td>\n",
              "    </tr>\n",
              "    <tr>\n",
              "      <th>1</th>\n",
              "      <td>4326</td>\n",
              "      <td>55000</td>\n",
              "      <td>5</td>\n",
              "    </tr>\n",
              "    <tr>\n",
              "      <th>2</th>\n",
              "      <td>1239</td>\n",
              "      <td>55000</td>\n",
              "      <td>5</td>\n",
              "    </tr>\n",
              "    <tr>\n",
              "      <th>3</th>\n",
              "      <td>773</td>\n",
              "      <td>55000</td>\n",
              "      <td>3</td>\n",
              "    </tr>\n",
              "    <tr>\n",
              "      <th>4</th>\n",
              "      <td>839</td>\n",
              "      <td>55000</td>\n",
              "      <td>3</td>\n",
              "    </tr>\n",
              "  </tbody>\n",
              "</table>\n",
              "</div>"
            ],
            "text/plain": [
              "   book_id  user_id  rating\n",
              "0     7232    55000       3\n",
              "1     4326    55000       5\n",
              "2     1239    55000       5\n",
              "3      773    55000       3\n",
              "4      839    55000       3"
            ]
          },
          "execution_count": 30,
          "metadata": {
            "tags": []
          },
          "output_type": "execute_result"
        }
      ]
    },
    {
      "cell_type": "code",
      "metadata": {
        "id": "G_-HlfLzWr0o"
      },
      "source": [
        "ratings = ratings.append(maxRatingsWithId)"
      ],
      "execution_count": null,
      "outputs": []
    },
    {
      "cell_type": "code",
      "metadata": {
        "colab": {
          "base_uri": "https://localhost:8080/"
        },
        "id": "-ITpFL-lWr0o",
        "outputId": "a71a40ac-7a78-490f-ef41-00331923aa4e"
      },
      "source": [
        "len(ratings.user_id.unique())    # As expected, now ratings has one more unique user id"
      ],
      "execution_count": null,
      "outputs": [
        {
          "data": {
            "text/plain": [
              "53425"
            ]
          },
          "execution_count": 32,
          "metadata": {
            "tags": []
          },
          "output_type": "execute_result"
        }
      ]
    },
    {
      "cell_type": "markdown",
      "metadata": {
        "id": "791gQQc9Wr0p"
      },
      "source": [
        "<br>"
      ]
    },
    {
      "cell_type": "markdown",
      "metadata": {
        "id": "ZZxZgSfBWr0p"
      },
      "source": [
        "------"
      ]
    },
    {
      "cell_type": "markdown",
      "metadata": {
        "id": "XOUli_quWr0q"
      },
      "source": [
        "Taking a closer look at the ratings dataset I have realized that there are several users who have rated the same book more than once, for whatever reason.\n",
        "For this reason, we will proceed to erase those duplicated ratings from the rating table: for those user-book pairs that have more than 1 rating we will then keep only one record, indicating the average of the given ratings."
      ]
    },
    {
      "cell_type": "code",
      "metadata": {
        "colab": {
          "base_uri": "https://localhost:8080/"
        },
        "id": "u61FJXR0Wr0q",
        "outputId": "33e5564a-c2bf-4adc-f27a-a892aeb2793a"
      },
      "source": [
        "# The following table will show which pair of user-book have more than 1 rating in the dataset: \n",
        "\n",
        "userRatesPerBookCount = ratings.groupby(['user_id', 'book_id'], as_index = False).count().sort_values('rating', ascending = False)\n",
        "userRatesPerBookCount.head(15)"
      ],
      "execution_count": null,
      "outputs": [
        {
          "data": {
            "text/html": [
              "<div>\n",
              "<style scoped>\n",
              "    .dataframe tbody tr th:only-of-type {\n",
              "        vertical-align: middle;\n",
              "    }\n",
              "\n",
              "    .dataframe tbody tr th {\n",
              "        vertical-align: top;\n",
              "    }\n",
              "\n",
              "    .dataframe thead th {\n",
              "        text-align: right;\n",
              "    }\n",
              "</style>\n",
              "<table border=\"1\" class=\"dataframe\">\n",
              "  <thead>\n",
              "    <tr style=\"text-align: right;\">\n",
              "      <th></th>\n",
              "      <th>user_id</th>\n",
              "      <th>book_id</th>\n",
              "      <th>rating</th>\n",
              "    </tr>\n",
              "  </thead>\n",
              "  <tbody>\n",
              "    <tr>\n",
              "      <th>59787</th>\n",
              "      <td>3204</td>\n",
              "      <td>8946</td>\n",
              "      <td>5</td>\n",
              "    </tr>\n",
              "    <tr>\n",
              "      <th>95001</th>\n",
              "      <td>5091</td>\n",
              "      <td>8946</td>\n",
              "      <td>4</td>\n",
              "    </tr>\n",
              "    <tr>\n",
              "      <th>572</th>\n",
              "      <td>42</td>\n",
              "      <td>8946</td>\n",
              "      <td>4</td>\n",
              "    </tr>\n",
              "    <tr>\n",
              "      <th>42643</th>\n",
              "      <td>2308</td>\n",
              "      <td>8946</td>\n",
              "      <td>4</td>\n",
              "    </tr>\n",
              "    <tr>\n",
              "      <th>665335</th>\n",
              "      <td>34548</td>\n",
              "      <td>7420</td>\n",
              "      <td>4</td>\n",
              "    </tr>\n",
              "    <tr>\n",
              "      <th>729574</th>\n",
              "      <td>38259</td>\n",
              "      <td>3996</td>\n",
              "      <td>4</td>\n",
              "    </tr>\n",
              "    <tr>\n",
              "      <th>81315</th>\n",
              "      <td>4359</td>\n",
              "      <td>2515</td>\n",
              "      <td>4</td>\n",
              "    </tr>\n",
              "    <tr>\n",
              "      <th>11033</th>\n",
              "      <td>691</td>\n",
              "      <td>6472</td>\n",
              "      <td>4</td>\n",
              "    </tr>\n",
              "    <tr>\n",
              "      <th>20901</th>\n",
              "      <td>1248</td>\n",
              "      <td>8946</td>\n",
              "      <td>3</td>\n",
              "    </tr>\n",
              "    <tr>\n",
              "      <th>468001</th>\n",
              "      <td>23851</td>\n",
              "      <td>3848</td>\n",
              "      <td>3</td>\n",
              "    </tr>\n",
              "    <tr>\n",
              "      <th>65320</th>\n",
              "      <td>3498</td>\n",
              "      <td>9858</td>\n",
              "      <td>3</td>\n",
              "    </tr>\n",
              "    <tr>\n",
              "      <th>245762</th>\n",
              "      <td>12419</td>\n",
              "      <td>2885</td>\n",
              "      <td>3</td>\n",
              "    </tr>\n",
              "    <tr>\n",
              "      <th>859617</th>\n",
              "      <td>46106</td>\n",
              "      <td>1729</td>\n",
              "      <td>3</td>\n",
              "    </tr>\n",
              "    <tr>\n",
              "      <th>799013</th>\n",
              "      <td>42277</td>\n",
              "      <td>7087</td>\n",
              "      <td>3</td>\n",
              "    </tr>\n",
              "    <tr>\n",
              "      <th>54390</th>\n",
              "      <td>2935</td>\n",
              "      <td>8946</td>\n",
              "      <td>3</td>\n",
              "    </tr>\n",
              "  </tbody>\n",
              "</table>\n",
              "</div>"
            ],
            "text/plain": [
              "        user_id  book_id  rating\n",
              "59787      3204     8946       5\n",
              "95001      5091     8946       4\n",
              "572          42     8946       4\n",
              "42643      2308     8946       4\n",
              "665335    34548     7420       4\n",
              "729574    38259     3996       4\n",
              "81315      4359     2515       4\n",
              "11033       691     6472       4\n",
              "20901      1248     8946       3\n",
              "468001    23851     3848       3\n",
              "65320      3498     9858       3\n",
              "245762    12419     2885       3\n",
              "859617    46106     1729       3\n",
              "799013    42277     7087       3\n",
              "54390      2935     8946       3"
            ]
          },
          "execution_count": 33,
          "metadata": {
            "tags": []
          },
          "output_type": "execute_result"
        }
      ]
    },
    {
      "cell_type": "code",
      "metadata": {
        "colab": {
          "base_uri": "https://localhost:8080/"
        },
        "id": "zEIuE7McWr0r",
        "outputId": "f86ae6cc-36a3-434b-df0f-dad6711b39ce"
      },
      "source": [
        "# Let's double check if this is true:\n",
        "\n",
        "ratings[(ratings.user_id == 3204) & (ratings.book_id == 8946)]  "
      ],
      "execution_count": null,
      "outputs": [
        {
          "data": {
            "text/html": [
              "<div>\n",
              "<style scoped>\n",
              "    .dataframe tbody tr th:only-of-type {\n",
              "        vertical-align: middle;\n",
              "    }\n",
              "\n",
              "    .dataframe tbody tr th {\n",
              "        vertical-align: top;\n",
              "    }\n",
              "\n",
              "    .dataframe thead th {\n",
              "        text-align: right;\n",
              "    }\n",
              "</style>\n",
              "<table border=\"1\" class=\"dataframe\">\n",
              "  <thead>\n",
              "    <tr style=\"text-align: right;\">\n",
              "      <th></th>\n",
              "      <th>book_id</th>\n",
              "      <th>user_id</th>\n",
              "      <th>rating</th>\n",
              "    </tr>\n",
              "  </thead>\n",
              "  <tbody>\n",
              "    <tr>\n",
              "      <th>883706</th>\n",
              "      <td>8946</td>\n",
              "      <td>3204</td>\n",
              "      <td>5</td>\n",
              "    </tr>\n",
              "    <tr>\n",
              "      <th>883707</th>\n",
              "      <td>8946</td>\n",
              "      <td>3204</td>\n",
              "      <td>5</td>\n",
              "    </tr>\n",
              "    <tr>\n",
              "      <th>883708</th>\n",
              "      <td>8946</td>\n",
              "      <td>3204</td>\n",
              "      <td>5</td>\n",
              "    </tr>\n",
              "    <tr>\n",
              "      <th>883709</th>\n",
              "      <td>8946</td>\n",
              "      <td>3204</td>\n",
              "      <td>5</td>\n",
              "    </tr>\n",
              "    <tr>\n",
              "      <th>883710</th>\n",
              "      <td>8946</td>\n",
              "      <td>3204</td>\n",
              "      <td>4</td>\n",
              "    </tr>\n",
              "  </tbody>\n",
              "</table>\n",
              "</div>"
            ],
            "text/plain": [
              "        book_id  user_id  rating\n",
              "883706     8946     3204       5\n",
              "883707     8946     3204       5\n",
              "883708     8946     3204       5\n",
              "883709     8946     3204       5\n",
              "883710     8946     3204       4"
            ]
          },
          "execution_count": 34,
          "metadata": {
            "tags": []
          },
          "output_type": "execute_result"
        }
      ]
    },
    {
      "cell_type": "code",
      "metadata": {
        "colab": {
          "base_uri": "https://localhost:8080/"
        },
        "id": "OK2_7jNVWr0r",
        "outputId": "9232da1d-0877-43d9-c03e-96cc87b5d6f9"
      },
      "source": [
        "# Here I calculate the rating mean per user and book, so that I can later replace the mean to the rating value\n",
        "# and get rid of the duplicates rows\n",
        "\n",
        "userRatesPerBookMean = ratings.groupby(['user_id', 'book_id'], as_index = False).mean().round(0).sort_values('rating', ascending = False)\n",
        "userRatesPerBookMean.head(15)"
      ],
      "execution_count": null,
      "outputs": [
        {
          "data": {
            "text/html": [
              "<div>\n",
              "<style scoped>\n",
              "    .dataframe tbody tr th:only-of-type {\n",
              "        vertical-align: middle;\n",
              "    }\n",
              "\n",
              "    .dataframe tbody tr th {\n",
              "        vertical-align: top;\n",
              "    }\n",
              "\n",
              "    .dataframe thead th {\n",
              "        text-align: right;\n",
              "    }\n",
              "</style>\n",
              "<table border=\"1\" class=\"dataframe\">\n",
              "  <thead>\n",
              "    <tr style=\"text-align: right;\">\n",
              "      <th></th>\n",
              "      <th>user_id</th>\n",
              "      <th>book_id</th>\n",
              "      <th>rating</th>\n",
              "    </tr>\n",
              "  </thead>\n",
              "  <tbody>\n",
              "    <tr>\n",
              "      <th>354506</th>\n",
              "      <td>17855</td>\n",
              "      <td>8511</td>\n",
              "      <td>5.0</td>\n",
              "    </tr>\n",
              "    <tr>\n",
              "      <th>386280</th>\n",
              "      <td>19581</td>\n",
              "      <td>9665</td>\n",
              "      <td>5.0</td>\n",
              "    </tr>\n",
              "    <tr>\n",
              "      <th>821433</th>\n",
              "      <td>43668</td>\n",
              "      <td>1336</td>\n",
              "      <td>5.0</td>\n",
              "    </tr>\n",
              "    <tr>\n",
              "      <th>821434</th>\n",
              "      <td>43668</td>\n",
              "      <td>1473</td>\n",
              "      <td>5.0</td>\n",
              "    </tr>\n",
              "    <tr>\n",
              "      <th>821435</th>\n",
              "      <td>43668</td>\n",
              "      <td>1483</td>\n",
              "      <td>5.0</td>\n",
              "    </tr>\n",
              "    <tr>\n",
              "      <th>821437</th>\n",
              "      <td>43668</td>\n",
              "      <td>1513</td>\n",
              "      <td>5.0</td>\n",
              "    </tr>\n",
              "    <tr>\n",
              "      <th>821438</th>\n",
              "      <td>43668</td>\n",
              "      <td>1556</td>\n",
              "      <td>5.0</td>\n",
              "    </tr>\n",
              "    <tr>\n",
              "      <th>821439</th>\n",
              "      <td>43668</td>\n",
              "      <td>1585</td>\n",
              "      <td>5.0</td>\n",
              "    </tr>\n",
              "    <tr>\n",
              "      <th>821442</th>\n",
              "      <td>43668</td>\n",
              "      <td>1840</td>\n",
              "      <td>5.0</td>\n",
              "    </tr>\n",
              "    <tr>\n",
              "      <th>821444</th>\n",
              "      <td>43668</td>\n",
              "      <td>1932</td>\n",
              "      <td>5.0</td>\n",
              "    </tr>\n",
              "    <tr>\n",
              "      <th>386282</th>\n",
              "      <td>19581</td>\n",
              "      <td>9856</td>\n",
              "      <td>5.0</td>\n",
              "    </tr>\n",
              "    <tr>\n",
              "      <th>821448</th>\n",
              "      <td>43668</td>\n",
              "      <td>2237</td>\n",
              "      <td>5.0</td>\n",
              "    </tr>\n",
              "    <tr>\n",
              "      <th>386279</th>\n",
              "      <td>19581</td>\n",
              "      <td>9615</td>\n",
              "      <td>5.0</td>\n",
              "    </tr>\n",
              "    <tr>\n",
              "      <th>821431</th>\n",
              "      <td>43668</td>\n",
              "      <td>1297</td>\n",
              "      <td>5.0</td>\n",
              "    </tr>\n",
              "    <tr>\n",
              "      <th>386278</th>\n",
              "      <td>19581</td>\n",
              "      <td>9589</td>\n",
              "      <td>5.0</td>\n",
              "    </tr>\n",
              "  </tbody>\n",
              "</table>\n",
              "</div>"
            ],
            "text/plain": [
              "        user_id  book_id  rating\n",
              "354506    17855     8511     5.0\n",
              "386280    19581     9665     5.0\n",
              "821433    43668     1336     5.0\n",
              "821434    43668     1473     5.0\n",
              "821435    43668     1483     5.0\n",
              "821437    43668     1513     5.0\n",
              "821438    43668     1556     5.0\n",
              "821439    43668     1585     5.0\n",
              "821442    43668     1840     5.0\n",
              "821444    43668     1932     5.0\n",
              "386282    19581     9856     5.0\n",
              "821448    43668     2237     5.0\n",
              "386279    19581     9615     5.0\n",
              "821431    43668     1297     5.0\n",
              "386278    19581     9589     5.0"
            ]
          },
          "execution_count": 35,
          "metadata": {
            "tags": []
          },
          "output_type": "execute_result"
        }
      ]
    },
    {
      "cell_type": "code",
      "metadata": {
        "colab": {
          "base_uri": "https://localhost:8080/"
        },
        "id": "LFp8HDFmWr0s",
        "outputId": "3e77fd02-e8c1-4b05-c756-41cd49e9da8f"
      },
      "source": [
        "# Let's double check if that worked ok:\n",
        "\n",
        "userRatesPerBookMean[(userRatesPerBookMean.user_id == 3204) & (userRatesPerBookMean.book_id == 8946)]  "
      ],
      "execution_count": null,
      "outputs": [
        {
          "data": {
            "text/html": [
              "<div>\n",
              "<style scoped>\n",
              "    .dataframe tbody tr th:only-of-type {\n",
              "        vertical-align: middle;\n",
              "    }\n",
              "\n",
              "    .dataframe tbody tr th {\n",
              "        vertical-align: top;\n",
              "    }\n",
              "\n",
              "    .dataframe thead th {\n",
              "        text-align: right;\n",
              "    }\n",
              "</style>\n",
              "<table border=\"1\" class=\"dataframe\">\n",
              "  <thead>\n",
              "    <tr style=\"text-align: right;\">\n",
              "      <th></th>\n",
              "      <th>user_id</th>\n",
              "      <th>book_id</th>\n",
              "      <th>rating</th>\n",
              "    </tr>\n",
              "  </thead>\n",
              "  <tbody>\n",
              "    <tr>\n",
              "      <th>59787</th>\n",
              "      <td>3204</td>\n",
              "      <td>8946</td>\n",
              "      <td>5.0</td>\n",
              "    </tr>\n",
              "  </tbody>\n",
              "</table>\n",
              "</div>"
            ],
            "text/plain": [
              "       user_id  book_id  rating\n",
              "59787     3204     8946     5.0"
            ]
          },
          "execution_count": 36,
          "metadata": {
            "tags": []
          },
          "output_type": "execute_result"
        }
      ]
    },
    {
      "cell_type": "code",
      "metadata": {
        "colab": {
          "base_uri": "https://localhost:8080/"
        },
        "id": "u-8oqoftWr0s",
        "outputId": "ef7b6f8a-ecc9-455c-8b41-9bc22e014002"
      },
      "source": [
        "# We create now a table grouped by user and book pair, calculating mean and number of rating that a user has made for the\n",
        "# same book\n",
        "\n",
        "ratings['count'] = ratings['rating']\n",
        "\n",
        "userRatesPerBook = ratings.groupby(['user_id', 'book_id'], as_index = False) \\\n",
        "                   .agg({'rating' : 'mean', 'count' : 'count'}) \\\n",
        "                   .rename(columns = {'rating':'mean'}) \\\n",
        "                   .sort_values('count', ascending = False)\n",
        "\n",
        "ratings = ratings.drop(['count'], axis = 1)\n",
        "            \n",
        "userRatesPerBook['mean'] = userRatesPerBook['mean'].round(0)\n",
        "userRatesPerBook.head()"
      ],
      "execution_count": null,
      "outputs": [
        {
          "data": {
            "text/html": [
              "<div>\n",
              "<style scoped>\n",
              "    .dataframe tbody tr th:only-of-type {\n",
              "        vertical-align: middle;\n",
              "    }\n",
              "\n",
              "    .dataframe tbody tr th {\n",
              "        vertical-align: top;\n",
              "    }\n",
              "\n",
              "    .dataframe thead th {\n",
              "        text-align: right;\n",
              "    }\n",
              "</style>\n",
              "<table border=\"1\" class=\"dataframe\">\n",
              "  <thead>\n",
              "    <tr style=\"text-align: right;\">\n",
              "      <th></th>\n",
              "      <th>user_id</th>\n",
              "      <th>book_id</th>\n",
              "      <th>mean</th>\n",
              "      <th>count</th>\n",
              "    </tr>\n",
              "  </thead>\n",
              "  <tbody>\n",
              "    <tr>\n",
              "      <th>59787</th>\n",
              "      <td>3204</td>\n",
              "      <td>8946</td>\n",
              "      <td>5.0</td>\n",
              "      <td>5</td>\n",
              "    </tr>\n",
              "    <tr>\n",
              "      <th>95001</th>\n",
              "      <td>5091</td>\n",
              "      <td>8946</td>\n",
              "      <td>5.0</td>\n",
              "      <td>4</td>\n",
              "    </tr>\n",
              "    <tr>\n",
              "      <th>572</th>\n",
              "      <td>42</td>\n",
              "      <td>8946</td>\n",
              "      <td>5.0</td>\n",
              "      <td>4</td>\n",
              "    </tr>\n",
              "    <tr>\n",
              "      <th>42643</th>\n",
              "      <td>2308</td>\n",
              "      <td>8946</td>\n",
              "      <td>5.0</td>\n",
              "      <td>4</td>\n",
              "    </tr>\n",
              "    <tr>\n",
              "      <th>665335</th>\n",
              "      <td>34548</td>\n",
              "      <td>7420</td>\n",
              "      <td>5.0</td>\n",
              "      <td>4</td>\n",
              "    </tr>\n",
              "  </tbody>\n",
              "</table>\n",
              "</div>"
            ],
            "text/plain": [
              "        user_id  book_id  mean  count\n",
              "59787      3204     8946   5.0      5\n",
              "95001      5091     8946   5.0      4\n",
              "572          42     8946   5.0      4\n",
              "42643      2308     8946   5.0      4\n",
              "665335    34548     7420   5.0      4"
            ]
          },
          "execution_count": 37,
          "metadata": {
            "tags": []
          },
          "output_type": "execute_result"
        }
      ]
    },
    {
      "cell_type": "code",
      "metadata": {
        "colab": {
          "base_uri": "https://localhost:8080/"
        },
        "id": "dppE58YbWr0t",
        "outputId": "e3287756-f744-4402-b94c-136326e2472c"
      },
      "source": [
        "# Now I append the mean and count per each user and book to the ratings table:\n",
        "\n",
        "ratings = pd.merge(ratings, userRatesPerBook, on = ['user_id', 'book_id'])\n",
        "ratings.head()"
      ],
      "execution_count": null,
      "outputs": [
        {
          "data": {
            "text/html": [
              "<div>\n",
              "<style scoped>\n",
              "    .dataframe tbody tr th:only-of-type {\n",
              "        vertical-align: middle;\n",
              "    }\n",
              "\n",
              "    .dataframe tbody tr th {\n",
              "        vertical-align: top;\n",
              "    }\n",
              "\n",
              "    .dataframe thead th {\n",
              "        text-align: right;\n",
              "    }\n",
              "</style>\n",
              "<table border=\"1\" class=\"dataframe\">\n",
              "  <thead>\n",
              "    <tr style=\"text-align: right;\">\n",
              "      <th></th>\n",
              "      <th>book_id</th>\n",
              "      <th>user_id</th>\n",
              "      <th>rating</th>\n",
              "      <th>mean</th>\n",
              "      <th>count</th>\n",
              "    </tr>\n",
              "  </thead>\n",
              "  <tbody>\n",
              "    <tr>\n",
              "      <th>0</th>\n",
              "      <td>1</td>\n",
              "      <td>314</td>\n",
              "      <td>5</td>\n",
              "      <td>5.0</td>\n",
              "      <td>1</td>\n",
              "    </tr>\n",
              "    <tr>\n",
              "      <th>1</th>\n",
              "      <td>1</td>\n",
              "      <td>439</td>\n",
              "      <td>3</td>\n",
              "      <td>3.0</td>\n",
              "      <td>1</td>\n",
              "    </tr>\n",
              "    <tr>\n",
              "      <th>2</th>\n",
              "      <td>1</td>\n",
              "      <td>588</td>\n",
              "      <td>5</td>\n",
              "      <td>5.0</td>\n",
              "      <td>1</td>\n",
              "    </tr>\n",
              "    <tr>\n",
              "      <th>3</th>\n",
              "      <td>1</td>\n",
              "      <td>1169</td>\n",
              "      <td>4</td>\n",
              "      <td>4.0</td>\n",
              "      <td>1</td>\n",
              "    </tr>\n",
              "    <tr>\n",
              "      <th>4</th>\n",
              "      <td>1</td>\n",
              "      <td>1185</td>\n",
              "      <td>4</td>\n",
              "      <td>4.0</td>\n",
              "      <td>1</td>\n",
              "    </tr>\n",
              "  </tbody>\n",
              "</table>\n",
              "</div>"
            ],
            "text/plain": [
              "   book_id  user_id  rating  mean  count\n",
              "0        1      314       5   5.0      1\n",
              "1        1      439       3   3.0      1\n",
              "2        1      588       5   5.0      1\n",
              "3        1     1169       4   4.0      1\n",
              "4        1     1185       4   4.0      1"
            ]
          },
          "execution_count": 38,
          "metadata": {
            "tags": []
          },
          "output_type": "execute_result"
        }
      ]
    },
    {
      "cell_type": "code",
      "metadata": {
        "colab": {
          "base_uri": "https://localhost:8080/"
        },
        "id": "xpWk0Tf9Wr0t",
        "outputId": "fa6c252d-eec3-499b-95ba-dd75220bbfd8"
      },
      "source": [
        "ratings.sort_values('count', ascending = False).head(15)"
      ],
      "execution_count": null,
      "outputs": [
        {
          "data": {
            "text/html": [
              "<div>\n",
              "<style scoped>\n",
              "    .dataframe tbody tr th:only-of-type {\n",
              "        vertical-align: middle;\n",
              "    }\n",
              "\n",
              "    .dataframe tbody tr th {\n",
              "        vertical-align: top;\n",
              "    }\n",
              "\n",
              "    .dataframe thead th {\n",
              "        text-align: right;\n",
              "    }\n",
              "</style>\n",
              "<table border=\"1\" class=\"dataframe\">\n",
              "  <thead>\n",
              "    <tr style=\"text-align: right;\">\n",
              "      <th></th>\n",
              "      <th>book_id</th>\n",
              "      <th>user_id</th>\n",
              "      <th>rating</th>\n",
              "      <th>mean</th>\n",
              "      <th>count</th>\n",
              "    </tr>\n",
              "  </thead>\n",
              "  <tbody>\n",
              "    <tr>\n",
              "      <th>883708</th>\n",
              "      <td>8946</td>\n",
              "      <td>3204</td>\n",
              "      <td>5</td>\n",
              "      <td>5.0</td>\n",
              "      <td>5</td>\n",
              "    </tr>\n",
              "    <tr>\n",
              "      <th>883706</th>\n",
              "      <td>8946</td>\n",
              "      <td>3204</td>\n",
              "      <td>5</td>\n",
              "      <td>5.0</td>\n",
              "      <td>5</td>\n",
              "    </tr>\n",
              "    <tr>\n",
              "      <th>883709</th>\n",
              "      <td>8946</td>\n",
              "      <td>3204</td>\n",
              "      <td>5</td>\n",
              "      <td>5.0</td>\n",
              "      <td>5</td>\n",
              "    </tr>\n",
              "    <tr>\n",
              "      <th>883707</th>\n",
              "      <td>8946</td>\n",
              "      <td>3204</td>\n",
              "      <td>5</td>\n",
              "      <td>5.0</td>\n",
              "      <td>5</td>\n",
              "    </tr>\n",
              "    <tr>\n",
              "      <th>883710</th>\n",
              "      <td>8946</td>\n",
              "      <td>3204</td>\n",
              "      <td>4</td>\n",
              "      <td>5.0</td>\n",
              "      <td>5</td>\n",
              "    </tr>\n",
              "    <tr>\n",
              "      <th>251243</th>\n",
              "      <td>2515</td>\n",
              "      <td>4359</td>\n",
              "      <td>5</td>\n",
              "      <td>5.0</td>\n",
              "      <td>4</td>\n",
              "    </tr>\n",
              "    <tr>\n",
              "      <th>251242</th>\n",
              "      <td>2515</td>\n",
              "      <td>4359</td>\n",
              "      <td>5</td>\n",
              "      <td>5.0</td>\n",
              "      <td>4</td>\n",
              "    </tr>\n",
              "    <tr>\n",
              "      <th>251241</th>\n",
              "      <td>2515</td>\n",
              "      <td>4359</td>\n",
              "      <td>5</td>\n",
              "      <td>5.0</td>\n",
              "      <td>4</td>\n",
              "    </tr>\n",
              "    <tr>\n",
              "      <th>251244</th>\n",
              "      <td>2515</td>\n",
              "      <td>4359</td>\n",
              "      <td>5</td>\n",
              "      <td>5.0</td>\n",
              "      <td>4</td>\n",
              "    </tr>\n",
              "    <tr>\n",
              "      <th>883700</th>\n",
              "      <td>8946</td>\n",
              "      <td>2308</td>\n",
              "      <td>5</td>\n",
              "      <td>5.0</td>\n",
              "      <td>4</td>\n",
              "    </tr>\n",
              "    <tr>\n",
              "      <th>644169</th>\n",
              "      <td>6472</td>\n",
              "      <td>691</td>\n",
              "      <td>5</td>\n",
              "      <td>5.0</td>\n",
              "      <td>4</td>\n",
              "    </tr>\n",
              "    <tr>\n",
              "      <th>736957</th>\n",
              "      <td>7420</td>\n",
              "      <td>34548</td>\n",
              "      <td>5</td>\n",
              "      <td>5.0</td>\n",
              "      <td>4</td>\n",
              "    </tr>\n",
              "    <tr>\n",
              "      <th>736956</th>\n",
              "      <td>7420</td>\n",
              "      <td>34548</td>\n",
              "      <td>5</td>\n",
              "      <td>5.0</td>\n",
              "      <td>4</td>\n",
              "    </tr>\n",
              "    <tr>\n",
              "      <th>736955</th>\n",
              "      <td>7420</td>\n",
              "      <td>34548</td>\n",
              "      <td>5</td>\n",
              "      <td>5.0</td>\n",
              "      <td>4</td>\n",
              "    </tr>\n",
              "    <tr>\n",
              "      <th>736954</th>\n",
              "      <td>7420</td>\n",
              "      <td>34548</td>\n",
              "      <td>5</td>\n",
              "      <td>5.0</td>\n",
              "      <td>4</td>\n",
              "    </tr>\n",
              "  </tbody>\n",
              "</table>\n",
              "</div>"
            ],
            "text/plain": [
              "        book_id  user_id  rating  mean  count\n",
              "883708     8946     3204       5   5.0      5\n",
              "883706     8946     3204       5   5.0      5\n",
              "883709     8946     3204       5   5.0      5\n",
              "883707     8946     3204       5   5.0      5\n",
              "883710     8946     3204       4   5.0      5\n",
              "251243     2515     4359       5   5.0      4\n",
              "251242     2515     4359       5   5.0      4\n",
              "251241     2515     4359       5   5.0      4\n",
              "251244     2515     4359       5   5.0      4\n",
              "883700     8946     2308       5   5.0      4\n",
              "644169     6472      691       5   5.0      4\n",
              "736957     7420    34548       5   5.0      4\n",
              "736956     7420    34548       5   5.0      4\n",
              "736955     7420    34548       5   5.0      4\n",
              "736954     7420    34548       5   5.0      4"
            ]
          },
          "execution_count": 39,
          "metadata": {
            "tags": []
          },
          "output_type": "execute_result"
        }
      ]
    },
    {
      "cell_type": "code",
      "metadata": {
        "colab": {
          "base_uri": "https://localhost:8080/"
        },
        "id": "_uIyiX9mWr0u",
        "outputId": "40c0cf72-390b-46c8-b8b0-e12d133b5bd6"
      },
      "source": [
        "ratings.shape    # 981.820 rows x 5 columns"
      ],
      "execution_count": null,
      "outputs": [
        {
          "data": {
            "text/plain": [
              "(981819, 5)"
            ]
          },
          "execution_count": 40,
          "metadata": {
            "tags": []
          },
          "output_type": "execute_result"
        }
      ]
    },
    {
      "cell_type": "code",
      "metadata": {
        "id": "pnSfyc9PWr0u"
      },
      "source": [
        "# We can now drop the duplicates records for the combination user/book with more than 1 rating\n",
        "\n",
        "ratings = ratings.drop_duplicates(subset = ['book_id', 'user_id'], keep = 'first', inplace = False)\\\n",
        "                                  .sort_values('count', ascending = False)"
      ],
      "execution_count": null,
      "outputs": []
    },
    {
      "cell_type": "code",
      "metadata": {
        "id": "_NqIApeQWr0v"
      },
      "source": [
        "ratings = ratings.drop(['rating', 'count'], axis = 1)"
      ],
      "execution_count": null,
      "outputs": []
    },
    {
      "cell_type": "code",
      "metadata": {
        "colab": {
          "base_uri": "https://localhost:8080/"
        },
        "id": "IjgHhJ5bWr0v",
        "outputId": "d99bab5b-446b-46fc-ecaf-aa3c717be091"
      },
      "source": [
        "ratings.head()"
      ],
      "execution_count": null,
      "outputs": [
        {
          "data": {
            "text/html": [
              "<div>\n",
              "<style scoped>\n",
              "    .dataframe tbody tr th:only-of-type {\n",
              "        vertical-align: middle;\n",
              "    }\n",
              "\n",
              "    .dataframe tbody tr th {\n",
              "        vertical-align: top;\n",
              "    }\n",
              "\n",
              "    .dataframe thead th {\n",
              "        text-align: right;\n",
              "    }\n",
              "</style>\n",
              "<table border=\"1\" class=\"dataframe\">\n",
              "  <thead>\n",
              "    <tr style=\"text-align: right;\">\n",
              "      <th></th>\n",
              "      <th>book_id</th>\n",
              "      <th>user_id</th>\n",
              "      <th>mean</th>\n",
              "    </tr>\n",
              "  </thead>\n",
              "  <tbody>\n",
              "    <tr>\n",
              "      <th>883706</th>\n",
              "      <td>8946</td>\n",
              "      <td>3204</td>\n",
              "      <td>5.0</td>\n",
              "    </tr>\n",
              "    <tr>\n",
              "      <th>883651</th>\n",
              "      <td>8946</td>\n",
              "      <td>42</td>\n",
              "      <td>5.0</td>\n",
              "    </tr>\n",
              "    <tr>\n",
              "      <th>251241</th>\n",
              "      <td>2515</td>\n",
              "      <td>4359</td>\n",
              "      <td>5.0</td>\n",
              "    </tr>\n",
              "    <tr>\n",
              "      <th>644166</th>\n",
              "      <td>6472</td>\n",
              "      <td>691</td>\n",
              "      <td>5.0</td>\n",
              "    </tr>\n",
              "    <tr>\n",
              "      <th>883717</th>\n",
              "      <td>8946</td>\n",
              "      <td>5091</td>\n",
              "      <td>5.0</td>\n",
              "    </tr>\n",
              "  </tbody>\n",
              "</table>\n",
              "</div>"
            ],
            "text/plain": [
              "        book_id  user_id  mean\n",
              "883706     8946     3204   5.0\n",
              "883651     8946       42   5.0\n",
              "251241     2515     4359   5.0\n",
              "644166     6472      691   5.0\n",
              "883717     8946     5091   5.0"
            ]
          },
          "execution_count": 43,
          "metadata": {
            "tags": []
          },
          "output_type": "execute_result"
        }
      ]
    },
    {
      "cell_type": "code",
      "metadata": {
        "colab": {
          "base_uri": "https://localhost:8080/"
        },
        "id": "XaLpQ0fxWr0w",
        "outputId": "eeade5cf-7480-42fa-cd54-d33fb5c572b4"
      },
      "source": [
        "ratings.shape  # 979.542 rows x 3 columns: 2.278 records removed"
      ],
      "execution_count": null,
      "outputs": [
        {
          "data": {
            "text/plain": [
              "(979541, 3)"
            ]
          },
          "execution_count": 44,
          "metadata": {
            "tags": []
          },
          "output_type": "execute_result"
        }
      ]
    },
    {
      "cell_type": "code",
      "metadata": {
        "id": "a48DugFiWr0w"
      },
      "source": [
        ""
      ],
      "execution_count": null,
      "outputs": []
    },
    {
      "cell_type": "code",
      "metadata": {
        "id": "T1ACv_WrWr0x"
      },
      "source": [
        "# I restore the 'ratings' table column names as they were prior to the modification I have made\n",
        "ratings.columns = ['book_id', 'user_id', 'rating']"
      ],
      "execution_count": null,
      "outputs": []
    },
    {
      "cell_type": "code",
      "metadata": {
        "colab": {
          "base_uri": "https://localhost:8080/"
        },
        "id": "8lOltDCGWr0x",
        "outputId": "a4337b29-24b9-4f97-a144-f2519d4fce98"
      },
      "source": [
        "ratings.columns"
      ],
      "execution_count": null,
      "outputs": [
        {
          "data": {
            "text/plain": [
              "Index(['book_id', 'user_id', 'rating'], dtype='object')"
            ]
          },
          "execution_count": 46,
          "metadata": {
            "tags": []
          },
          "output_type": "execute_result"
        }
      ]
    },
    {
      "cell_type": "markdown",
      "metadata": {
        "id": "3Tl9ct97Wr0y"
      },
      "source": [
        "<br>"
      ]
    },
    {
      "cell_type": "markdown",
      "metadata": {
        "collapsed": true,
        "id": "oWEqpf8xWr0y"
      },
      "source": [
        "With the purpose of making more relevant recommendations, let's have a look at what is the ratings distribution per users: in other words, let's see if there are users who have rated very few books."
      ]
    },
    {
      "cell_type": "code",
      "metadata": {
        "colab": {
          "base_uri": "https://localhost:8080/"
        },
        "id": "vOqv9MlQWr0y",
        "outputId": "8f0809ff-fb4c-4865-e7cf-cf62197652ff"
      },
      "source": [
        "ratesPerUser = ratings[['user_id', 'rating']].groupby(['user_id'], as_index = False) \\\n",
        "                      .count() \\\n",
        "                      .rename(columns = {'rating' : 'totalRatings'}) \\\n",
        "                      .sort_values('totalRatings', ascending = False)\n",
        "\n",
        "ratesPerUser.head(10)"
      ],
      "execution_count": null,
      "outputs": [
        {
          "data": {
            "text/html": [
              "<div>\n",
              "<style scoped>\n",
              "    .dataframe tbody tr th:only-of-type {\n",
              "        vertical-align: middle;\n",
              "    }\n",
              "\n",
              "    .dataframe tbody tr th {\n",
              "        vertical-align: top;\n",
              "    }\n",
              "\n",
              "    .dataframe thead th {\n",
              "        text-align: right;\n",
              "    }\n",
              "</style>\n",
              "<table border=\"1\" class=\"dataframe\">\n",
              "  <thead>\n",
              "    <tr style=\"text-align: right;\">\n",
              "      <th></th>\n",
              "      <th>user_id</th>\n",
              "      <th>totalRatings</th>\n",
              "    </tr>\n",
              "  </thead>\n",
              "  <tbody>\n",
              "    <tr>\n",
              "      <th>12873</th>\n",
              "      <td>12874</td>\n",
              "      <td>200</td>\n",
              "    </tr>\n",
              "    <tr>\n",
              "      <th>30943</th>\n",
              "      <td>30944</td>\n",
              "      <td>200</td>\n",
              "    </tr>\n",
              "    <tr>\n",
              "      <th>52035</th>\n",
              "      <td>52036</td>\n",
              "      <td>199</td>\n",
              "    </tr>\n",
              "    <tr>\n",
              "      <th>28157</th>\n",
              "      <td>28158</td>\n",
              "      <td>199</td>\n",
              "    </tr>\n",
              "    <tr>\n",
              "      <th>12380</th>\n",
              "      <td>12381</td>\n",
              "      <td>199</td>\n",
              "    </tr>\n",
              "    <tr>\n",
              "      <th>45553</th>\n",
              "      <td>45554</td>\n",
              "      <td>197</td>\n",
              "    </tr>\n",
              "    <tr>\n",
              "      <th>6629</th>\n",
              "      <td>6630</td>\n",
              "      <td>197</td>\n",
              "    </tr>\n",
              "    <tr>\n",
              "      <th>19728</th>\n",
              "      <td>19729</td>\n",
              "      <td>196</td>\n",
              "    </tr>\n",
              "    <tr>\n",
              "      <th>24142</th>\n",
              "      <td>24143</td>\n",
              "      <td>196</td>\n",
              "    </tr>\n",
              "    <tr>\n",
              "      <th>15603</th>\n",
              "      <td>15604</td>\n",
              "      <td>196</td>\n",
              "    </tr>\n",
              "  </tbody>\n",
              "</table>\n",
              "</div>"
            ],
            "text/plain": [
              "       user_id  totalRatings\n",
              "12873    12874           200\n",
              "30943    30944           200\n",
              "52035    52036           199\n",
              "28157    28158           199\n",
              "12380    12381           199\n",
              "45553    45554           197\n",
              "6629      6630           197\n",
              "19728    19729           196\n",
              "24142    24143           196\n",
              "15603    15604           196"
            ]
          },
          "execution_count": 47,
          "metadata": {
            "tags": []
          },
          "output_type": "execute_result"
        }
      ]
    },
    {
      "cell_type": "code",
      "metadata": {
        "colab": {
          "base_uri": "https://localhost:8080/"
        },
        "id": "fDSo2vL6Wr0z",
        "scrolled": true,
        "outputId": "11dccb87-ea27-4818-8794-ea511f25441c"
      },
      "source": [
        "plt.rcParams['figure.figsize'] = [20, 6]\n",
        "plt.hist(ratesPerUser['totalRatings'], bins = 50)\n",
        "plt.xticks(np.arange(min(ratesPerUser['totalRatings']), max(ratesPerUser['totalRatings'])+1, 4.0))\n",
        "plt.show()"
      ],
      "execution_count": null,
      "outputs": [
        {
          "data": {
            "image/png": "[encoded data removed]",
            "text/plain": [
              "<Figure size 1440x432 with 1 Axes>"
            ]
          },
          "metadata": {
            "tags": []
          },
          "output_type": "display_data"
        }
      ]
    },
    {
      "cell_type": "markdown",
      "metadata": {
        "id": "m6aACdSmWr00"
      },
      "source": [
        "The histogram above shows how many users have rated only 1 to 15 books. Considered that we are using only a subset (10k) of all the books listed in Goodreads, it will be pretty difficult to give accurate recommendation to users with that few ratings.  \n",
        "Cosnidering also the fact that this project has rather an illustrative purpose, I have decided to include only user that have rated at least 20 of the 10K books included in the analysis."
      ]
    },
    {
      "cell_type": "code",
      "metadata": {
        "id": "6hoUWuvmWr00"
      },
      "source": [
        "ratings = pd.merge(ratings, ratesPerUser, on = ['user_id'])"
      ],
      "execution_count": null,
      "outputs": []
    },
    {
      "cell_type": "code",
      "metadata": {
        "colab": {
          "base_uri": "https://localhost:8080/"
        },
        "id": "EYl9LQK3Wr00",
        "outputId": "86f39c50-aa4b-40f0-a9c1-e2fcf033f4ba"
      },
      "source": [
        "ratings.sort_values('totalRatings', ascending = False).head(10)"
      ],
      "execution_count": null,
      "outputs": [
        {
          "data": {
            "text/html": [
              "<div>\n",
              "<style scoped>\n",
              "    .dataframe tbody tr th:only-of-type {\n",
              "        vertical-align: middle;\n",
              "    }\n",
              "\n",
              "    .dataframe tbody tr th {\n",
              "        vertical-align: top;\n",
              "    }\n",
              "\n",
              "    .dataframe thead th {\n",
              "        text-align: right;\n",
              "    }\n",
              "</style>\n",
              "<table border=\"1\" class=\"dataframe\">\n",
              "  <thead>\n",
              "    <tr style=\"text-align: right;\">\n",
              "      <th></th>\n",
              "      <th>book_id</th>\n",
              "      <th>user_id</th>\n",
              "      <th>rating</th>\n",
              "      <th>totalRatings</th>\n",
              "    </tr>\n",
              "  </thead>\n",
              "  <tbody>\n",
              "    <tr>\n",
              "      <th>977744</th>\n",
              "      <td>21</td>\n",
              "      <td>30944</td>\n",
              "      <td>3.0</td>\n",
              "      <td>200</td>\n",
              "    </tr>\n",
              "    <tr>\n",
              "      <th>488867</th>\n",
              "      <td>102</td>\n",
              "      <td>12874</td>\n",
              "      <td>2.0</td>\n",
              "      <td>200</td>\n",
              "    </tr>\n",
              "    <tr>\n",
              "      <th>488856</th>\n",
              "      <td>576</td>\n",
              "      <td>12874</td>\n",
              "      <td>2.0</td>\n",
              "      <td>200</td>\n",
              "    </tr>\n",
              "    <tr>\n",
              "      <th>488857</th>\n",
              "      <td>579</td>\n",
              "      <td>12874</td>\n",
              "      <td>3.0</td>\n",
              "      <td>200</td>\n",
              "    </tr>\n",
              "    <tr>\n",
              "      <th>488858</th>\n",
              "      <td>485</td>\n",
              "      <td>12874</td>\n",
              "      <td>3.0</td>\n",
              "      <td>200</td>\n",
              "    </tr>\n",
              "    <tr>\n",
              "      <th>488859</th>\n",
              "      <td>498</td>\n",
              "      <td>12874</td>\n",
              "      <td>3.0</td>\n",
              "      <td>200</td>\n",
              "    </tr>\n",
              "    <tr>\n",
              "      <th>488860</th>\n",
              "      <td>497</td>\n",
              "      <td>12874</td>\n",
              "      <td>3.0</td>\n",
              "      <td>200</td>\n",
              "    </tr>\n",
              "    <tr>\n",
              "      <th>488861</th>\n",
              "      <td>465</td>\n",
              "      <td>12874</td>\n",
              "      <td>4.0</td>\n",
              "      <td>200</td>\n",
              "    </tr>\n",
              "    <tr>\n",
              "      <th>488862</th>\n",
              "      <td>479</td>\n",
              "      <td>12874</td>\n",
              "      <td>3.0</td>\n",
              "      <td>200</td>\n",
              "    </tr>\n",
              "    <tr>\n",
              "      <th>488863</th>\n",
              "      <td>471</td>\n",
              "      <td>12874</td>\n",
              "      <td>3.0</td>\n",
              "      <td>200</td>\n",
              "    </tr>\n",
              "  </tbody>\n",
              "</table>\n",
              "</div>"
            ],
            "text/plain": [
              "        book_id  user_id  rating  totalRatings\n",
              "977744       21    30944     3.0           200\n",
              "488867      102    12874     2.0           200\n",
              "488856      576    12874     2.0           200\n",
              "488857      579    12874     3.0           200\n",
              "488858      485    12874     3.0           200\n",
              "488859      498    12874     3.0           200\n",
              "488860      497    12874     3.0           200\n",
              "488861      465    12874     4.0           200\n",
              "488862      479    12874     3.0           200\n",
              "488863      471    12874     3.0           200"
            ]
          },
          "execution_count": 50,
          "metadata": {
            "tags": []
          },
          "output_type": "execute_result"
        }
      ]
    },
    {
      "cell_type": "code",
      "metadata": {
        "colab": {
          "base_uri": "https://localhost:8080/"
        },
        "id": "1s4Dia_gWr01",
        "outputId": "fb6baaf2-a534-4b74-a5e0-02ea92b8b28d"
      },
      "source": [
        "# Keeping only users with more than a 'minimum' of ratings\n",
        "minimumRatings = ratings.totalRatings <= 20\n",
        "np.sum(minimumRatings)"
      ],
      "execution_count": null,
      "outputs": [
        {
          "data": {
            "text/plain": [
              "272086"
            ]
          },
          "execution_count": 51,
          "metadata": {
            "tags": []
          },
          "output_type": "execute_result"
        }
      ]
    },
    {
      "cell_type": "code",
      "metadata": {
        "colab": {
          "base_uri": "https://localhost:8080/"
        },
        "id": "Pd_MVZYbWr01",
        "outputId": "0c7e65b3-1cd6-44e2-ec75-61a106e3e492"
      },
      "source": [
        "ratings = ratings[-minimumRatings]\n",
        "len(ratings)   # only 707.456 ratings have been kept"
      ],
      "execution_count": null,
      "outputs": [
        {
          "data": {
            "text/plain": [
              "707455"
            ]
          },
          "execution_count": 52,
          "metadata": {
            "tags": []
          },
          "output_type": "execute_result"
        }
      ]
    },
    {
      "cell_type": "code",
      "metadata": {
        "colab": {
          "base_uri": "https://localhost:8080/"
        },
        "id": "c1Lk5dHJWr02",
        "outputId": "8a3a9be5-c53c-48f7-e69c-b574a586e357"
      },
      "source": [
        "len(ratings.user_id.unique())  # total of remaining users after removing the ones with less than the established minimum"
      ],
      "execution_count": null,
      "outputs": [
        {
          "data": {
            "text/plain": [
              "13972"
            ]
          },
          "execution_count": 53,
          "metadata": {
            "tags": []
          },
          "output_type": "execute_result"
        }
      ]
    },
    {
      "cell_type": "code",
      "metadata": {
        "colab": {
          "base_uri": "https://localhost:8080/"
        },
        "id": "Nq4ZOcUlWr03",
        "outputId": "535ec2f2-9074-4040-d7db-7b6529879ca0"
      },
      "source": [
        "len(ratings.book_id.unique())  # total of remaining books after removing users with less than the established minimum"
      ],
      "execution_count": null,
      "outputs": [
        {
          "data": {
            "text/plain": [
              "9998"
            ]
          },
          "execution_count": 54,
          "metadata": {
            "tags": []
          },
          "output_type": "execute_result"
        }
      ]
    },
    {
      "cell_type": "markdown",
      "metadata": {
        "id": "xR2w2KZ5Wr03"
      },
      "source": [
        "Then I had a look at the same thing but about the books: how many books have very few ratings? Looking at the results, I have decided - for the same reason as above, that is to avoid 'obscure' recommendations of books that only few users have read - to remove books with less than 30 ratings received."
      ]
    },
    {
      "cell_type": "code",
      "metadata": {
        "colab": {
          "base_uri": "https://localhost:8080/"
        },
        "id": "n1R1VzQZWr04",
        "outputId": "c000a72f-f370-44f2-c192-b24409540010"
      },
      "source": [
        "ratesPerBook = ratings[['book_id', 'rating']].groupby(['book_id'], as_index = False) \\\n",
        "                      .count() \\\n",
        "                      .rename(columns = {'rating' : 'receivedRatings'}) \\\n",
        "                      .sort_values('receivedRatings', ascending = False)\n",
        "\n",
        "ratesPerBook.tail()"
      ],
      "execution_count": null,
      "outputs": [
        {
          "data": {
            "text/html": [
              "<div>\n",
              "<style scoped>\n",
              "    .dataframe tbody tr th:only-of-type {\n",
              "        vertical-align: middle;\n",
              "    }\n",
              "\n",
              "    .dataframe tbody tr th {\n",
              "        vertical-align: top;\n",
              "    }\n",
              "\n",
              "    .dataframe thead th {\n",
              "        text-align: right;\n",
              "    }\n",
              "</style>\n",
              "<table border=\"1\" class=\"dataframe\">\n",
              "  <thead>\n",
              "    <tr style=\"text-align: right;\">\n",
              "      <th></th>\n",
              "      <th>book_id</th>\n",
              "      <th>receivedRatings</th>\n",
              "    </tr>\n",
              "  </thead>\n",
              "  <tbody>\n",
              "    <tr>\n",
              "      <th>9342</th>\n",
              "      <td>9345</td>\n",
              "      <td>2</td>\n",
              "    </tr>\n",
              "    <tr>\n",
              "      <th>9855</th>\n",
              "      <td>9858</td>\n",
              "      <td>1</td>\n",
              "    </tr>\n",
              "    <tr>\n",
              "      <th>9087</th>\n",
              "      <td>9090</td>\n",
              "      <td>1</td>\n",
              "    </tr>\n",
              "    <tr>\n",
              "      <th>8802</th>\n",
              "      <td>8804</td>\n",
              "      <td>1</td>\n",
              "    </tr>\n",
              "    <tr>\n",
              "      <th>8371</th>\n",
              "      <td>8372</td>\n",
              "      <td>1</td>\n",
              "    </tr>\n",
              "  </tbody>\n",
              "</table>\n",
              "</div>"
            ],
            "text/plain": [
              "      book_id  receivedRatings\n",
              "9342     9345                2\n",
              "9855     9858                1\n",
              "9087     9090                1\n",
              "8802     8804                1\n",
              "8371     8372                1"
            ]
          },
          "execution_count": 55,
          "metadata": {
            "tags": []
          },
          "output_type": "execute_result"
        }
      ]
    },
    {
      "cell_type": "code",
      "metadata": {
        "colab": {
          "base_uri": "https://localhost:8080/"
        },
        "id": "pwguMdSpWr04",
        "outputId": "d662bfbe-b18f-4c6f-afcc-cb790a288358"
      },
      "source": [
        "plt.rcParams['figure.figsize'] = [20, 6]\n",
        "plt.hist(ratesPerBook['receivedRatings'], bins = 50)\n",
        "plt.xticks(np.arange(min(ratesPerBook['receivedRatings']), max(ratesPerBook['receivedRatings'])+1, 4.0))\n",
        "plt.show()"
      ],
      "execution_count": null,
      "outputs": [
        {
          "data": {
            "image/png": "[encoded data removed]",
            "text/plain": [
              "<Figure size 1440x432 with 1 Axes>"
            ]
          },
          "metadata": {
            "tags": []
          },
          "output_type": "display_data"
        }
      ]
    },
    {
      "cell_type": "code",
      "metadata": {
        "id": "9NoAKJ8PWr05"
      },
      "source": [
        "ratings = pd.merge(ratings, ratesPerBook, on = ['book_id'])"
      ],
      "execution_count": null,
      "outputs": []
    },
    {
      "cell_type": "code",
      "metadata": {
        "colab": {
          "base_uri": "https://localhost:8080/"
        },
        "id": "HZBzfCHFWr05",
        "outputId": "6a18ca13-8ba1-455c-af87-fa4ad91d3464"
      },
      "source": [
        "# Keeping only books with more than a 'minimum' of ratings received\n",
        "\n",
        "minimumReceived = ratings.receivedRatings < 30\n",
        "np.sum(minimumReceived)"
      ],
      "execution_count": null,
      "outputs": [
        {
          "data": {
            "text/plain": [
              "21710"
            ]
          },
          "execution_count": 58,
          "metadata": {
            "tags": []
          },
          "output_type": "execute_result"
        }
      ]
    },
    {
      "cell_type": "code",
      "metadata": {
        "colab": {
          "base_uri": "https://localhost:8080/"
        },
        "id": "cz1P9c8dWr06",
        "outputId": "33c4d23f-af4d-49df-d432-9c7ff0d78309"
      },
      "source": [
        "ratings = ratings[-minimumReceived]\n",
        "len(ratings)"
      ],
      "execution_count": null,
      "outputs": [
        {
          "data": {
            "text/plain": [
              "685745"
            ]
          },
          "execution_count": 59,
          "metadata": {
            "tags": []
          },
          "output_type": "execute_result"
        }
      ]
    },
    {
      "cell_type": "code",
      "metadata": {
        "colab": {
          "base_uri": "https://localhost:8080/"
        },
        "id": "9D90BY5QWr06",
        "outputId": "1c90786f-d988-4ff1-d5d1-8b5f006ed500"
      },
      "source": [
        "len(ratings.user_id.unique())   # total of remaining users after removing the ones with less than the established minimum"
      ],
      "execution_count": null,
      "outputs": [
        {
          "data": {
            "text/plain": [
              "13971"
            ]
          },
          "execution_count": 60,
          "metadata": {
            "tags": []
          },
          "output_type": "execute_result"
        }
      ]
    },
    {
      "cell_type": "code",
      "metadata": {
        "colab": {
          "base_uri": "https://localhost:8080/"
        },
        "id": "0JethD4oWr07",
        "outputId": "ed196dac-5b23-4b68-e3ab-612d59789781"
      },
      "source": [
        "len(ratings.book_id.unique())    # total of remaining books after removing the ones with less than the established minimum"
      ],
      "execution_count": null,
      "outputs": [
        {
          "data": {
            "text/plain": [
              "8885"
            ]
          },
          "execution_count": 61,
          "metadata": {
            "tags": []
          },
          "output_type": "execute_result"
        }
      ]
    },
    {
      "cell_type": "code",
      "metadata": {
        "colab": {
          "base_uri": "https://localhost:8080/"
        },
        "id": "KXn-TAaMWr07",
        "outputId": "17fea693-49e8-4522-c386-90009f44d4f1"
      },
      "source": [
        "ratings.shape"
      ],
      "execution_count": null,
      "outputs": [
        {
          "data": {
            "text/plain": [
              "(685745, 5)"
            ]
          },
          "execution_count": 62,
          "metadata": {
            "tags": []
          },
          "output_type": "execute_result"
        }
      ]
    },
    {
      "cell_type": "markdown",
      "metadata": {
        "id": "EIPS45GZWr08"
      },
      "source": [
        "<br>"
      ]
    },
    {
      "cell_type": "markdown",
      "metadata": {
        "id": "Q-83x68yWr08"
      },
      "source": [
        "-------"
      ]
    },
    {
      "cell_type": "markdown",
      "metadata": {
        "id": "LEBn5ZC0Wr08"
      },
      "source": [
        "<br>"
      ]
    },
    {
      "cell_type": "markdown",
      "metadata": {
        "id": "n-H7wSezWr09"
      },
      "source": [
        "To start off, I have tried to calculate a first type of Top-N recommendation: the top rated books. \n",
        "After having removed the books and users above, the result doesn't change much compared to the what shown right after the  data loading: Bill Watterson and his Calvin and Hobbes is still dominating the chart."
      ]
    },
    {
      "cell_type": "code",
      "metadata": {
        "id": "RqnJyiZVWr09"
      },
      "source": [
        "# For illustrative purpose, let's first grab author and title for the books dataset:\n",
        "showingTitles = pd.merge(ratings, books[['id', 'authors', 'title']], how = 'left', left_on = ['book_id'], right_on = ['id'])"
      ],
      "execution_count": null,
      "outputs": []
    },
    {
      "cell_type": "code",
      "metadata": {
        "colab": {
          "base_uri": "https://localhost:8080/"
        },
        "id": "x0dLZfIpWr0-",
        "outputId": "e11aa3d8-49a8-4b46-9fc1-5e045eead044"
      },
      "source": [
        "topRated = showingTitles.groupby(['book_id'], as_index = False) \\\n",
        "                      .agg({'rating' : 'mean', \\\n",
        "                           'authors': 'first', \\\n",
        "                           'title' : 'first'})\n",
        "topRated.sort_values('rating', ascending = False).head(10)"
      ],
      "execution_count": null,
      "outputs": [
        {
          "data": {
            "text/html": [
              "<div>\n",
              "<style scoped>\n",
              "    .dataframe tbody tr th:only-of-type {\n",
              "        vertical-align: middle;\n",
              "    }\n",
              "\n",
              "    .dataframe tbody tr th {\n",
              "        vertical-align: top;\n",
              "    }\n",
              "\n",
              "    .dataframe thead th {\n",
              "        text-align: right;\n",
              "    }\n",
              "</style>\n",
              "<table border=\"1\" class=\"dataframe\">\n",
              "  <thead>\n",
              "    <tr style=\"text-align: right;\">\n",
              "      <th></th>\n",
              "      <th>book_id</th>\n",
              "      <th>rating</th>\n",
              "      <th>authors</th>\n",
              "      <th>title</th>\n",
              "    </tr>\n",
              "  </thead>\n",
              "  <tbody>\n",
              "    <tr>\n",
              "      <th>6631</th>\n",
              "      <td>6920</td>\n",
              "      <td>4.806452</td>\n",
              "      <td>Bill Watterson</td>\n",
              "      <td>The Indispensable Calvin and Hobbes</td>\n",
              "    </tr>\n",
              "    <tr>\n",
              "      <th>8622</th>\n",
              "      <td>9566</td>\n",
              "      <td>4.800000</td>\n",
              "      <td>Bill Watterson</td>\n",
              "      <td>Attack of the Deranged Mutant Killer Monster S...</td>\n",
              "    </tr>\n",
              "    <tr>\n",
              "      <th>5094</th>\n",
              "      <td>5207</td>\n",
              "      <td>4.774648</td>\n",
              "      <td>Bill Watterson</td>\n",
              "      <td>The Days Are Just Packed: A Calvin and Hobbes ...</td>\n",
              "    </tr>\n",
              "    <tr>\n",
              "      <th>8237</th>\n",
              "      <td>8978</td>\n",
              "      <td>4.767857</td>\n",
              "      <td>Bill Watterson</td>\n",
              "      <td>The Revenge of the Baby-Sat</td>\n",
              "    </tr>\n",
              "    <tr>\n",
              "      <th>4061</th>\n",
              "      <td>4107</td>\n",
              "      <td>4.750000</td>\n",
              "      <td>Andrew Williamson, Andrew Williamson</td>\n",
              "      <td>Harry Potter: A Pop-Up Book: Based on the Film...</td>\n",
              "    </tr>\n",
              "    <tr>\n",
              "      <th>6341</th>\n",
              "      <td>6590</td>\n",
              "      <td>4.750000</td>\n",
              "      <td>Bill Watterson</td>\n",
              "      <td>The Authoritative Calvin and Hobbes: A Calvin ...</td>\n",
              "    </tr>\n",
              "    <tr>\n",
              "      <th>7602</th>\n",
              "      <td>8109</td>\n",
              "      <td>4.745763</td>\n",
              "      <td>Neil Gaiman, Mike Dringenberg, Chris Bachalo, ...</td>\n",
              "      <td>The Absolute Sandman, Volume One</td>\n",
              "    </tr>\n",
              "    <tr>\n",
              "      <th>6142</th>\n",
              "      <td>6361</td>\n",
              "      <td>4.738095</td>\n",
              "      <td>Bill Watterson</td>\n",
              "      <td>There's Treasure Everywhere: A Calvin and Hobb...</td>\n",
              "    </tr>\n",
              "    <tr>\n",
              "      <th>4422</th>\n",
              "      <td>4483</td>\n",
              "      <td>4.738095</td>\n",
              "      <td>Bill Watterson</td>\n",
              "      <td>It's a Magical World: A Calvin and Hobbes Coll...</td>\n",
              "    </tr>\n",
              "    <tr>\n",
              "      <th>3596</th>\n",
              "      <td>3628</td>\n",
              "      <td>4.734694</td>\n",
              "      <td>Bill Watterson</td>\n",
              "      <td>The Complete Calvin and Hobbes</td>\n",
              "    </tr>\n",
              "  </tbody>\n",
              "</table>\n",
              "</div>"
            ],
            "text/plain": [
              "      book_id  ...                                              title\n",
              "6631     6920  ...                The Indispensable Calvin and Hobbes\n",
              "8622     9566  ...  Attack of the Deranged Mutant Killer Monster S...\n",
              "5094     5207  ...  The Days Are Just Packed: A Calvin and Hobbes ...\n",
              "8237     8978  ...                        The Revenge of the Baby-Sat\n",
              "4061     4107  ...  Harry Potter: A Pop-Up Book: Based on the Film...\n",
              "6341     6590  ...  The Authoritative Calvin and Hobbes: A Calvin ...\n",
              "7602     8109  ...                   The Absolute Sandman, Volume One\n",
              "6142     6361  ...  There's Treasure Everywhere: A Calvin and Hobb...\n",
              "4422     4483  ...  It's a Magical World: A Calvin and Hobbes Coll...\n",
              "3596     3628  ...                     The Complete Calvin and Hobbes\n",
              "\n",
              "[10 rows x 4 columns]"
            ]
          },
          "execution_count": 64,
          "metadata": {
            "tags": []
          },
          "output_type": "execute_result"
        }
      ]
    },
    {
      "cell_type": "markdown",
      "metadata": {
        "id": "FIREM9C6Wr0-"
      },
      "source": [
        "<br>"
      ]
    },
    {
      "cell_type": "markdown",
      "metadata": {
        "id": "nH1MEAA2Wr0-"
      },
      "source": [
        "---------"
      ]
    },
    {
      "cell_type": "markdown",
      "metadata": {
        "id": "S_GCg8Z_Wr0_"
      },
      "source": [
        "<br>"
      ]
    },
    {
      "cell_type": "markdown",
      "metadata": {
        "id": "0ShuGVOAWr0_"
      },
      "source": [
        "### 2. Content-Based Filtering (Tag-Based)"
      ]
    },
    {
      "cell_type": "markdown",
      "metadata": {
        "id": "3h_qzxIMWr0_"
      },
      "source": [
        "As long as the first Top-N recommendation created doesn't seem at all to be useful, I have build a \"Content-Based\" recommendation, leveraging the knowledge we have from the tags dataset using tags and other information from the book metadata."
      ]
    },
    {
      "cell_type": "markdown",
      "metadata": {
        "id": "upatMi4rWr1A"
      },
      "source": [
        "However, as shown below, the tags dataset contains format-free definition, which include a vast variety of tags. Most of them are not saying much of the book itself and its contect or characteristics (e.g. 'to-read', 'favourite', 'book-I-own', 'made-me-cry', etc).\n",
        "For this reason I have decide to include only the tags that are representative of the book 'genre' according to Goodreads itself: the tags used in fact are scraped from their genre section and contain a vast variety of tags. The others have been filtered out."
      ]
    },
    {
      "cell_type": "code",
      "metadata": {
        "colab": {
          "base_uri": "https://localhost:8080/"
        },
        "id": "HSIQkNGNWr1A",
        "outputId": "a479f07f-d429-4cec-b250-ef52565aee9d"
      },
      "source": [
        "showingTagName = pd.merge(bookTags, tags, on = 'tag_id')\n",
        "showingTagName.sort_values('goodreads_book_id').head(20)"
      ],
      "execution_count": null,
      "outputs": [
        {
          "data": {
            "text/html": [
              "<div>\n",
              "<style scoped>\n",
              "    .dataframe tbody tr th:only-of-type {\n",
              "        vertical-align: middle;\n",
              "    }\n",
              "\n",
              "    .dataframe tbody tr th {\n",
              "        vertical-align: top;\n",
              "    }\n",
              "\n",
              "    .dataframe thead th {\n",
              "        text-align: right;\n",
              "    }\n",
              "</style>\n",
              "<table border=\"1\" class=\"dataframe\">\n",
              "  <thead>\n",
              "    <tr style=\"text-align: right;\">\n",
              "      <th></th>\n",
              "      <th>goodreads_book_id</th>\n",
              "      <th>tag_id</th>\n",
              "      <th>count</th>\n",
              "      <th>tag_name</th>\n",
              "    </tr>\n",
              "  </thead>\n",
              "  <tbody>\n",
              "    <tr>\n",
              "      <th>0</th>\n",
              "      <td>1</td>\n",
              "      <td>30574</td>\n",
              "      <td>167697</td>\n",
              "      <td>to-read</td>\n",
              "    </tr>\n",
              "    <tr>\n",
              "      <th>258362</th>\n",
              "      <td>1</td>\n",
              "      <td>33165</td>\n",
              "      <td>338</td>\n",
              "      <td>youth</td>\n",
              "    </tr>\n",
              "    <tr>\n",
              "      <th>250046</th>\n",
              "      <td>1</td>\n",
              "      <td>17213</td>\n",
              "      <td>347</td>\n",
              "      <td>kindle</td>\n",
              "    </tr>\n",
              "    <tr>\n",
              "      <th>246919</th>\n",
              "      <td>1</td>\n",
              "      <td>27535</td>\n",
              "      <td>348</td>\n",
              "      <td>shelfari-favorites</td>\n",
              "    </tr>\n",
              "    <tr>\n",
              "      <th>245888</th>\n",
              "      <td>1</td>\n",
              "      <td>16799</td>\n",
              "      <td>351</td>\n",
              "      <td>juvenile</td>\n",
              "    </tr>\n",
              "    <tr>\n",
              "      <th>245375</th>\n",
              "      <td>1</td>\n",
              "      <td>18851</td>\n",
              "      <td>354</td>\n",
              "      <td>made-me-cry</td>\n",
              "    </tr>\n",
              "    <tr>\n",
              "      <th>240136</th>\n",
              "      <td>1</td>\n",
              "      <td>25151</td>\n",
              "      <td>364</td>\n",
              "      <td>read-in-2015</td>\n",
              "    </tr>\n",
              "    <tr>\n",
              "      <th>238876</th>\n",
              "      <td>1</td>\n",
              "      <td>11550</td>\n",
              "      <td>368</td>\n",
              "      <td>favorite-series</td>\n",
              "    </tr>\n",
              "    <tr>\n",
              "      <th>237950</th>\n",
              "      <td>1</td>\n",
              "      <td>11491</td>\n",
              "      <td>384</td>\n",
              "      <td>faves</td>\n",
              "    </tr>\n",
              "    <tr>\n",
              "      <th>237815</th>\n",
              "      <td>1</td>\n",
              "      <td>32654</td>\n",
              "      <td>386</td>\n",
              "      <td>wizards</td>\n",
              "    </tr>\n",
              "    <tr>\n",
              "      <th>236195</th>\n",
              "      <td>1</td>\n",
              "      <td>26897</td>\n",
              "      <td>392</td>\n",
              "      <td>scifi-fantasy</td>\n",
              "    </tr>\n",
              "    <tr>\n",
              "      <th>235846</th>\n",
              "      <td>1</td>\n",
              "      <td>615</td>\n",
              "      <td>399</td>\n",
              "      <td>2005</td>\n",
              "    </tr>\n",
              "    <tr>\n",
              "      <th>231762</th>\n",
              "      <td>1</td>\n",
              "      <td>21989</td>\n",
              "      <td>410</td>\n",
              "      <td>novel</td>\n",
              "    </tr>\n",
              "    <tr>\n",
              "      <th>230408</th>\n",
              "      <td>1</td>\n",
              "      <td>33124</td>\n",
              "      <td>416</td>\n",
              "      <td>young-adult-fiction</td>\n",
              "    </tr>\n",
              "    <tr>\n",
              "      <th>223860</th>\n",
              "      <td>1</td>\n",
              "      <td>3371</td>\n",
              "      <td>433</td>\n",
              "      <td>audio</td>\n",
              "    </tr>\n",
              "    <tr>\n",
              "      <th>214445</th>\n",
              "      <td>1</td>\n",
              "      <td>18045</td>\n",
              "      <td>440</td>\n",
              "      <td>library</td>\n",
              "    </tr>\n",
              "    <tr>\n",
              "      <th>213432</th>\n",
              "      <td>1</td>\n",
              "      <td>6960</td>\n",
              "      <td>445</td>\n",
              "      <td>childrens-books</td>\n",
              "    </tr>\n",
              "    <tr>\n",
              "      <th>207918</th>\n",
              "      <td>1</td>\n",
              "      <td>22689</td>\n",
              "      <td>446</td>\n",
              "      <td>own-it</td>\n",
              "    </tr>\n",
              "    <tr>\n",
              "      <th>206741</th>\n",
              "      <td>1</td>\n",
              "      <td>20824</td>\n",
              "      <td>449</td>\n",
              "      <td>my-favorites</td>\n",
              "    </tr>\n",
              "    <tr>\n",
              "      <th>206725</th>\n",
              "      <td>1</td>\n",
              "      <td>14024</td>\n",
              "      <td>450</td>\n",
              "      <td>harry-potter-series</td>\n",
              "    </tr>\n",
              "  </tbody>\n",
              "</table>\n",
              "</div>"
            ],
            "text/plain": [
              "        goodreads_book_id  tag_id   count             tag_name\n",
              "0                       1   30574  167697              to-read\n",
              "258362                  1   33165     338                youth\n",
              "250046                  1   17213     347               kindle\n",
              "246919                  1   27535     348   shelfari-favorites\n",
              "245888                  1   16799     351             juvenile\n",
              "245375                  1   18851     354          made-me-cry\n",
              "240136                  1   25151     364         read-in-2015\n",
              "238876                  1   11550     368      favorite-series\n",
              "237950                  1   11491     384                faves\n",
              "237815                  1   32654     386              wizards\n",
              "236195                  1   26897     392        scifi-fantasy\n",
              "235846                  1     615     399                 2005\n",
              "231762                  1   21989     410                novel\n",
              "230408                  1   33124     416  young-adult-fiction\n",
              "223860                  1    3371     433                audio\n",
              "214445                  1   18045     440              library\n",
              "213432                  1    6960     445      childrens-books\n",
              "207918                  1   22689     446               own-it\n",
              "206741                  1   20824     449         my-favorites\n",
              "206725                  1   14024     450  harry-potter-series"
            ]
          },
          "execution_count": 65,
          "metadata": {
            "tags": []
          },
          "output_type": "execute_result"
        }
      ]
    },
    {
      "cell_type": "code",
      "metadata": {
        "colab": {
          "base_uri": "https://localhost:8080/"
        },
        "id": "2sZcAfD4Wr1B",
        "outputId": "2d1518f7-12ec-4b51-be09-d3ac4b67923a"
      },
      "source": [
        "mostUsedTags = showingTagName.groupby(['tag_name'], as_index = False) \\\n",
        "                      .agg({'goodreads_book_id' : 'count'}) \\\n",
        "                      .rename(columns = {'goodreads_book_id' : 'number'}) \\\n",
        "                      .sort_values('number', ascending = False)\n",
        "mostUsedTags.head()"
      ],
      "execution_count": null,
      "outputs": [
        {
          "data": {
            "text/html": [
              "<div>\n",
              "<style scoped>\n",
              "    .dataframe tbody tr th:only-of-type {\n",
              "        vertical-align: middle;\n",
              "    }\n",
              "\n",
              "    .dataframe tbody tr th {\n",
              "        vertical-align: top;\n",
              "    }\n",
              "\n",
              "    .dataframe thead th {\n",
              "        text-align: right;\n",
              "    }\n",
              "</style>\n",
              "<table border=\"1\" class=\"dataframe\">\n",
              "  <thead>\n",
              "    <tr style=\"text-align: right;\">\n",
              "      <th></th>\n",
              "      <th>tag_name</th>\n",
              "      <th>number</th>\n",
              "    </tr>\n",
              "  </thead>\n",
              "  <tbody>\n",
              "    <tr>\n",
              "      <th>30574</th>\n",
              "      <td>to-read</td>\n",
              "      <td>9983</td>\n",
              "    </tr>\n",
              "    <tr>\n",
              "      <th>11557</th>\n",
              "      <td>favorites</td>\n",
              "      <td>9881</td>\n",
              "    </tr>\n",
              "    <tr>\n",
              "      <th>22743</th>\n",
              "      <td>owned</td>\n",
              "      <td>9858</td>\n",
              "    </tr>\n",
              "    <tr>\n",
              "      <th>5207</th>\n",
              "      <td>books-i-own</td>\n",
              "      <td>9799</td>\n",
              "    </tr>\n",
              "    <tr>\n",
              "      <th>8717</th>\n",
              "      <td>currently-reading</td>\n",
              "      <td>9776</td>\n",
              "    </tr>\n",
              "  </tbody>\n",
              "</table>\n",
              "</div>"
            ],
            "text/plain": [
              "                tag_name  number\n",
              "30574            to-read    9983\n",
              "11557          favorites    9881\n",
              "22743              owned    9858\n",
              "5207         books-i-own    9799\n",
              "8717   currently-reading    9776"
            ]
          },
          "execution_count": 66,
          "metadata": {
            "tags": []
          },
          "output_type": "execute_result"
        }
      ]
    },
    {
      "cell_type": "markdown",
      "metadata": {
        "id": "VydzXJnYWr1B"
      },
      "source": [
        "<br>"
      ]
    },
    {
      "cell_type": "markdown",
      "metadata": {
        "id": "_L7goVcCWr1C"
      },
      "source": [
        "So I have used the genres.csv files, which was generated by scraping Goodreads website, and it is shown in the other notebook."
      ]
    },
    {
      "cell_type": "code",
      "metadata": {
        "colab": {
          "base_uri": "https://localhost:8080/"
        },
        "id": "KDFUHr3rWr1C",
        "outputId": "f61e57b6-92bd-47c1-c0ad-1380b41ebe6d"
      },
      "source": [
        "genres = pd.read_csv('https://raw.githubusercontent.com/sethitanmay1/Book-recommendation-system/main/genres.csv')\n",
        "genres.head(10)"
      ],
      "execution_count": null,
      "outputs": [
        {
          "data": {
            "text/html": [
              "<div>\n",
              "<style scoped>\n",
              "    .dataframe tbody tr th:only-of-type {\n",
              "        vertical-align: middle;\n",
              "    }\n",
              "\n",
              "    .dataframe tbody tr th {\n",
              "        vertical-align: top;\n",
              "    }\n",
              "\n",
              "    .dataframe thead th {\n",
              "        text-align: right;\n",
              "    }\n",
              "</style>\n",
              "<table border=\"1\" class=\"dataframe\">\n",
              "  <thead>\n",
              "    <tr style=\"text-align: right;\">\n",
              "      <th></th>\n",
              "      <th>Unnamed: 0</th>\n",
              "      <th>tag_name</th>\n",
              "    </tr>\n",
              "  </thead>\n",
              "  <tbody>\n",
              "    <tr>\n",
              "      <th>0</th>\n",
              "      <td>0</td>\n",
              "      <td>art</td>\n",
              "    </tr>\n",
              "    <tr>\n",
              "      <th>1</th>\n",
              "      <td>1</td>\n",
              "      <td>biography</td>\n",
              "    </tr>\n",
              "    <tr>\n",
              "      <th>2</th>\n",
              "      <td>2</td>\n",
              "      <td>business</td>\n",
              "    </tr>\n",
              "    <tr>\n",
              "      <th>3</th>\n",
              "      <td>3</td>\n",
              "      <td>children-s</td>\n",
              "    </tr>\n",
              "    <tr>\n",
              "      <th>4</th>\n",
              "      <td>4</td>\n",
              "      <td>christian</td>\n",
              "    </tr>\n",
              "    <tr>\n",
              "      <th>5</th>\n",
              "      <td>5</td>\n",
              "      <td>classics</td>\n",
              "    </tr>\n",
              "    <tr>\n",
              "      <th>6</th>\n",
              "      <td>6</td>\n",
              "      <td>comics</td>\n",
              "    </tr>\n",
              "    <tr>\n",
              "      <th>7</th>\n",
              "      <td>7</td>\n",
              "      <td>cookbooks</td>\n",
              "    </tr>\n",
              "    <tr>\n",
              "      <th>8</th>\n",
              "      <td>8</td>\n",
              "      <td>ebooks</td>\n",
              "    </tr>\n",
              "    <tr>\n",
              "      <th>9</th>\n",
              "      <td>9</td>\n",
              "      <td>fantasy</td>\n",
              "    </tr>\n",
              "  </tbody>\n",
              "</table>\n",
              "</div>"
            ],
            "text/plain": [
              "   Unnamed: 0    tag_name\n",
              "0           0         art\n",
              "1           1   biography\n",
              "2           2    business\n",
              "3           3  children-s\n",
              "4           4   christian\n",
              "5           5    classics\n",
              "6           6      comics\n",
              "7           7   cookbooks\n",
              "8           8      ebooks\n",
              "9           9     fantasy"
            ]
          },
          "execution_count": 67,
          "metadata": {
            "tags": []
          },
          "output_type": "execute_result"
        }
      ]
    },
    {
      "cell_type": "code",
      "metadata": {
        "colab": {
          "base_uri": "https://localhost:8080/"
        },
        "id": "czgLoi0aWr1D",
        "outputId": "f2f4b21d-bf0f-4b5f-c04f-a6b4ae3345fb"
      },
      "source": [
        "genres.shape    # 1235 rows X 2 columns"
      ],
      "execution_count": null,
      "outputs": [
        {
          "data": {
            "text/plain": [
              "(1235, 2)"
            ]
          },
          "execution_count": 68,
          "metadata": {
            "tags": []
          },
          "output_type": "execute_result"
        }
      ]
    },
    {
      "cell_type": "code",
      "metadata": {
        "id": "R1rgM6BYWr1E"
      },
      "source": [
        "# First I convert the genres to a list\n",
        "genreList = genres['tag_name'].tolist()"
      ],
      "execution_count": null,
      "outputs": []
    },
    {
      "cell_type": "code",
      "metadata": {
        "colab": {
          "base_uri": "https://localhost:8080/"
        },
        "id": "adWy1Q5gWr1E",
        "outputId": "df82b842-3fdc-4895-9daa-a0727f269875"
      },
      "source": [
        "len(genreList)    # 1235 genre-tags have been scraped from Goodreads website"
      ],
      "execution_count": null,
      "outputs": [
        {
          "data": {
            "text/plain": [
              "1235"
            ]
          },
          "execution_count": 70,
          "metadata": {
            "tags": []
          },
          "output_type": "execute_result"
        }
      ]
    },
    {
      "cell_type": "code",
      "metadata": {
        "colab": {
          "base_uri": "https://localhost:8080/"
        },
        "id": "Q0zdAm1CWr1E",
        "outputId": "c40cd5b7-607e-49db-f716-abb45b5af641"
      },
      "source": [
        "len(tags.tag_name.unique())   # the original tag dataset included 34.252 tags"
      ],
      "execution_count": null,
      "outputs": [
        {
          "data": {
            "text/plain": [
              "34252"
            ]
          },
          "execution_count": 71,
          "metadata": {
            "tags": []
          },
          "output_type": "execute_result"
        }
      ]
    },
    {
      "cell_type": "code",
      "metadata": {
        "colab": {
          "base_uri": "https://localhost:8080/"
        },
        "id": "hAjUyjwKWr1F",
        "outputId": "1e8c4eb1-d58e-4f2d-8cdc-eadbe5036796"
      },
      "source": [
        "genreTags = tags.loc[tags['tag_name'].isin(genreList)]\n",
        "len(genreTags)    # 832 tags (of out the 1235) scraped from the Genre Section in Goodreads website are included in the \n",
        "                  # original tags table."
      ],
      "execution_count": null,
      "outputs": [
        {
          "data": {
            "text/plain": [
              "832"
            ]
          },
          "execution_count": 72,
          "metadata": {
            "tags": []
          },
          "output_type": "execute_result"
        }
      ]
    },
    {
      "cell_type": "markdown",
      "metadata": {
        "id": "YlpOE4tDWr1F"
      },
      "source": [
        "Then I have merged the bookTags dataset with the genreTags, so that now I have the information of what books in the dataset have been tagged with at least one of the 832 genre-tags used by Goodreads in their genres section.\n",
        "\n",
        "The idea is then to measure the similarity between each book pair, so that the system will be able to recommend Top-N similar books for any selected title from the ones included in the analysis.\n",
        "In order to be able to properly perform content based filtering, first I have to put all the tags related to one single book in a single string: each tag must be separated from each other with a space, to be accounted as a single word.\n",
        "Then I will perform pairwise similarity scores between books."
      ]
    },
    {
      "cell_type": "code",
      "metadata": {
        "id": "bu638rYfWr1G"
      },
      "source": [
        "mostCommonTags = pd.merge(bookTags, genreTags, on = ['tag_id'])"
      ],
      "execution_count": null,
      "outputs": []
    },
    {
      "cell_type": "code",
      "metadata": {
        "id": "n7R1Y4SFWr1G"
      },
      "source": [
        "stringedTags = mostCommonTags.groupby('goodreads_book_id')['tag_name'].apply(lambda x: \"%s\" % ' '.join(x)).reset_index()"
      ],
      "execution_count": null,
      "outputs": []
    },
    {
      "cell_type": "code",
      "metadata": {
        "colab": {
          "base_uri": "https://localhost:8080/"
        },
        "id": "eQ2vgNnjWr1H",
        "outputId": "f01ede37-fcaa-42f8-ba55-5ac944f9183f"
      },
      "source": [
        "stringedTags.head(20)"
      ],
      "execution_count": null,
      "outputs": [
        {
          "data": {
            "text/html": [
              "<div>\n",
              "<style scoped>\n",
              "    .dataframe tbody tr th:only-of-type {\n",
              "        vertical-align: middle;\n",
              "    }\n",
              "\n",
              "    .dataframe tbody tr th {\n",
              "        vertical-align: top;\n",
              "    }\n",
              "\n",
              "    .dataframe thead th {\n",
              "        text-align: right;\n",
              "    }\n",
              "</style>\n",
              "<table border=\"1\" class=\"dataframe\">\n",
              "  <thead>\n",
              "    <tr style=\"text-align: right;\">\n",
              "      <th></th>\n",
              "      <th>goodreads_book_id</th>\n",
              "      <th>tag_name</th>\n",
              "    </tr>\n",
              "  </thead>\n",
              "  <tbody>\n",
              "    <tr>\n",
              "      <th>0</th>\n",
              "      <td>1</td>\n",
              "      <td>fantasy young-adult fiction magic childrens ad...</td>\n",
              "    </tr>\n",
              "    <tr>\n",
              "      <th>1</th>\n",
              "      <td>2</td>\n",
              "      <td>fantasy young-adult fiction magic children-s n...</td>\n",
              "    </tr>\n",
              "    <tr>\n",
              "      <th>2</th>\n",
              "      <td>3</td>\n",
              "      <td>fantasy young-adult fiction magic childrens ad...</td>\n",
              "    </tr>\n",
              "    <tr>\n",
              "      <th>3</th>\n",
              "      <td>5</td>\n",
              "      <td>fantasy young-adult fiction magic childrens ad...</td>\n",
              "    </tr>\n",
              "    <tr>\n",
              "      <th>4</th>\n",
              "      <td>6</td>\n",
              "      <td>fantasy young-adult fiction childrens adventur...</td>\n",
              "    </tr>\n",
              "    <tr>\n",
              "      <th>5</th>\n",
              "      <td>8</td>\n",
              "      <td>fantasy young-adult fiction magic childrens ad...</td>\n",
              "    </tr>\n",
              "    <tr>\n",
              "      <th>6</th>\n",
              "      <td>10</td>\n",
              "      <td>fantasy young-adult fiction magic childrens ad...</td>\n",
              "    </tr>\n",
              "    <tr>\n",
              "      <th>7</th>\n",
              "      <td>11</td>\n",
              "      <td>fantasy young-adult fiction adventure classics...</td>\n",
              "    </tr>\n",
              "    <tr>\n",
              "      <th>8</th>\n",
              "      <td>13</td>\n",
              "      <td>fantasy young-adult fiction adventure classics...</td>\n",
              "    </tr>\n",
              "    <tr>\n",
              "      <th>9</th>\n",
              "      <td>21</td>\n",
              "      <td>fiction humor funny adult space science abando...</td>\n",
              "    </tr>\n",
              "    <tr>\n",
              "      <th>10</th>\n",
              "      <td>24</td>\n",
              "      <td>fiction adventure contemporary humor funny com...</td>\n",
              "    </tr>\n",
              "    <tr>\n",
              "      <th>11</th>\n",
              "      <td>25</td>\n",
              "      <td>fiction adventure contemporary humor funny com...</td>\n",
              "    </tr>\n",
              "    <tr>\n",
              "      <th>12</th>\n",
              "      <td>26</td>\n",
              "      <td>fiction adventure contemporary humor funny com...</td>\n",
              "    </tr>\n",
              "    <tr>\n",
              "      <th>13</th>\n",
              "      <td>27</td>\n",
              "      <td>fiction adventure contemporary humor funny com...</td>\n",
              "    </tr>\n",
              "    <tr>\n",
              "      <th>14</th>\n",
              "      <td>28</td>\n",
              "      <td>fiction adventure contemporary humor funny com...</td>\n",
              "    </tr>\n",
              "    <tr>\n",
              "      <th>15</th>\n",
              "      <td>29</td>\n",
              "      <td>contemporary humor funny comedy adult literatu...</td>\n",
              "    </tr>\n",
              "    <tr>\n",
              "      <th>16</th>\n",
              "      <td>30</td>\n",
              "      <td>fantasy young-adult fiction magic childrens ad...</td>\n",
              "    </tr>\n",
              "    <tr>\n",
              "      <th>17</th>\n",
              "      <td>33</td>\n",
              "      <td>fantasy young-adult fiction magic adventure cl...</td>\n",
              "    </tr>\n",
              "    <tr>\n",
              "      <th>18</th>\n",
              "      <td>34</td>\n",
              "      <td>fantasy young-adult fiction magic adventure cl...</td>\n",
              "    </tr>\n",
              "    <tr>\n",
              "      <th>19</th>\n",
              "      <td>36</td>\n",
              "      <td>fantasy fiction science-fiction-fantasy high-f...</td>\n",
              "    </tr>\n",
              "  </tbody>\n",
              "</table>\n",
              "</div>"
            ],
            "text/plain": [
              "    goodreads_book_id                                           tag_name\n",
              "0                   1  fantasy young-adult fiction magic childrens ad...\n",
              "1                   2  fantasy young-adult fiction magic children-s n...\n",
              "2                   3  fantasy young-adult fiction magic childrens ad...\n",
              "3                   5  fantasy young-adult fiction magic childrens ad...\n",
              "4                   6  fantasy young-adult fiction childrens adventur...\n",
              "5                   8  fantasy young-adult fiction magic childrens ad...\n",
              "6                  10  fantasy young-adult fiction magic childrens ad...\n",
              "7                  11  fantasy young-adult fiction adventure classics...\n",
              "8                  13  fantasy young-adult fiction adventure classics...\n",
              "9                  21  fiction humor funny adult space science abando...\n",
              "10                 24  fiction adventure contemporary humor funny com...\n",
              "11                 25  fiction adventure contemporary humor funny com...\n",
              "12                 26  fiction adventure contemporary humor funny com...\n",
              "13                 27  fiction adventure contemporary humor funny com...\n",
              "14                 28  fiction adventure contemporary humor funny com...\n",
              "15                 29  contemporary humor funny comedy adult literatu...\n",
              "16                 30  fantasy young-adult fiction magic childrens ad...\n",
              "17                 33  fantasy young-adult fiction magic adventure cl...\n",
              "18                 34  fantasy young-adult fiction magic adventure cl...\n",
              "19                 36  fantasy fiction science-fiction-fantasy high-f..."
            ]
          },
          "execution_count": 75,
          "metadata": {
            "tags": []
          },
          "output_type": "execute_result"
        }
      ]
    },
    {
      "cell_type": "code",
      "metadata": {
        "id": "ZTGc5zhdWr1H"
      },
      "source": [
        "# I go retrieve the author and book information from the book dataset, so that I will be able to actually see\n",
        "# the title of the book instead of just seeing the id.\n",
        "\n",
        "stringedTags = pd.merge(stringedTags, books[['book_id', 'authors', 'title']], left_on = ['goodreads_book_id'], \\\n",
        "                       right_on = ['book_id']).drop('book_id', axis = 1)"
      ],
      "execution_count": null,
      "outputs": []
    },
    {
      "cell_type": "code",
      "metadata": {
        "colab": {
          "base_uri": "https://localhost:8080/"
        },
        "id": "z6o8kIbFWr1I",
        "scrolled": true,
        "outputId": "f539f9cd-28b2-46ac-e067-72fd963192ee"
      },
      "source": [
        "stringedTags.head(5)"
      ],
      "execution_count": null,
      "outputs": [
        {
          "data": {
            "text/html": [
              "<div>\n",
              "<style scoped>\n",
              "    .dataframe tbody tr th:only-of-type {\n",
              "        vertical-align: middle;\n",
              "    }\n",
              "\n",
              "    .dataframe tbody tr th {\n",
              "        vertical-align: top;\n",
              "    }\n",
              "\n",
              "    .dataframe thead th {\n",
              "        text-align: right;\n",
              "    }\n",
              "</style>\n",
              "<table border=\"1\" class=\"dataframe\">\n",
              "  <thead>\n",
              "    <tr style=\"text-align: right;\">\n",
              "      <th></th>\n",
              "      <th>goodreads_book_id</th>\n",
              "      <th>tag_name</th>\n",
              "      <th>authors</th>\n",
              "      <th>title</th>\n",
              "    </tr>\n",
              "  </thead>\n",
              "  <tbody>\n",
              "    <tr>\n",
              "      <th>0</th>\n",
              "      <td>1</td>\n",
              "      <td>fantasy young-adult fiction magic childrens ad...</td>\n",
              "      <td>J.K. Rowling, Mary GrandPré</td>\n",
              "      <td>Harry Potter and the Half-Blood Prince (Harry ...</td>\n",
              "    </tr>\n",
              "    <tr>\n",
              "      <th>1</th>\n",
              "      <td>2</td>\n",
              "      <td>fantasy young-adult fiction magic children-s n...</td>\n",
              "      <td>J.K. Rowling, Mary GrandPré</td>\n",
              "      <td>Harry Potter and the Order of the Phoenix (Har...</td>\n",
              "    </tr>\n",
              "    <tr>\n",
              "      <th>2</th>\n",
              "      <td>3</td>\n",
              "      <td>fantasy young-adult fiction magic childrens ad...</td>\n",
              "      <td>J.K. Rowling, Mary GrandPré</td>\n",
              "      <td>Harry Potter and the Sorcerer's Stone (Harry P...</td>\n",
              "    </tr>\n",
              "    <tr>\n",
              "      <th>3</th>\n",
              "      <td>5</td>\n",
              "      <td>fantasy young-adult fiction magic childrens ad...</td>\n",
              "      <td>J.K. Rowling, Mary GrandPré, Rufus Beck</td>\n",
              "      <td>Harry Potter and the Prisoner of Azkaban (Harr...</td>\n",
              "    </tr>\n",
              "    <tr>\n",
              "      <th>4</th>\n",
              "      <td>6</td>\n",
              "      <td>fantasy young-adult fiction childrens adventur...</td>\n",
              "      <td>J.K. Rowling, Mary GrandPré</td>\n",
              "      <td>Harry Potter and the Goblet of Fire (Harry Pot...</td>\n",
              "    </tr>\n",
              "  </tbody>\n",
              "</table>\n",
              "</div>"
            ],
            "text/plain": [
              "   goodreads_book_id  ...                                              title\n",
              "0                  1  ...  Harry Potter and the Half-Blood Prince (Harry ...\n",
              "1                  2  ...  Harry Potter and the Order of the Phoenix (Har...\n",
              "2                  3  ...  Harry Potter and the Sorcerer's Stone (Harry P...\n",
              "3                  5  ...  Harry Potter and the Prisoner of Azkaban (Harr...\n",
              "4                  6  ...  Harry Potter and the Goblet of Fire (Harry Pot...\n",
              "\n",
              "[5 rows x 4 columns]"
            ]
          },
          "execution_count": 77,
          "metadata": {
            "tags": []
          },
          "output_type": "execute_result"
        }
      ]
    },
    {
      "cell_type": "markdown",
      "metadata": {
        "id": "MgAwaCR5Wr1I"
      },
      "source": [
        "Other than the genre-tags,a very important information that we can add to the stringed tag of each book is the author. Including the author will produce a higher similarity score between 2 books written by the same author, which seems reasonable a as someone who likes a book from an author is most likely going to like also other books from the same person."
      ]
    },
    {
      "cell_type": "code",
      "metadata": {
        "id": "H9Xj_34zWr1J"
      },
      "source": [
        "# First of all, I put everything in lowercase and I remove the space between the name and the surname, to make it count\n",
        "# as one single word all the time.\n",
        "stringedTags['authors'] = stringedTags['authors'].astype('str').apply(lambda x: str.lower(x.replace(\" \", \"\")))"
      ],
      "execution_count": null,
      "outputs": []
    },
    {
      "cell_type": "code",
      "metadata": {
        "colab": {
          "base_uri": "https://localhost:8080/"
        },
        "id": "aE8bYKcUWr1J",
        "outputId": "a4962c30-0ce2-4c5a-d2e8-cd7e7ef25981"
      },
      "source": [
        "stringedTags.head(5)"
      ],
      "execution_count": null,
      "outputs": [
        {
          "data": {
            "text/html": [
              "<div>\n",
              "<style scoped>\n",
              "    .dataframe tbody tr th:only-of-type {\n",
              "        vertical-align: middle;\n",
              "    }\n",
              "\n",
              "    .dataframe tbody tr th {\n",
              "        vertical-align: top;\n",
              "    }\n",
              "\n",
              "    .dataframe thead th {\n",
              "        text-align: right;\n",
              "    }\n",
              "</style>\n",
              "<table border=\"1\" class=\"dataframe\">\n",
              "  <thead>\n",
              "    <tr style=\"text-align: right;\">\n",
              "      <th></th>\n",
              "      <th>goodreads_book_id</th>\n",
              "      <th>tag_name</th>\n",
              "      <th>authors</th>\n",
              "      <th>title</th>\n",
              "    </tr>\n",
              "  </thead>\n",
              "  <tbody>\n",
              "    <tr>\n",
              "      <th>0</th>\n",
              "      <td>1</td>\n",
              "      <td>fantasy young-adult fiction magic childrens ad...</td>\n",
              "      <td>j.k.rowling,marygrandpré</td>\n",
              "      <td>Harry Potter and the Half-Blood Prince (Harry ...</td>\n",
              "    </tr>\n",
              "    <tr>\n",
              "      <th>1</th>\n",
              "      <td>2</td>\n",
              "      <td>fantasy young-adult fiction magic children-s n...</td>\n",
              "      <td>j.k.rowling,marygrandpré</td>\n",
              "      <td>Harry Potter and the Order of the Phoenix (Har...</td>\n",
              "    </tr>\n",
              "    <tr>\n",
              "      <th>2</th>\n",
              "      <td>3</td>\n",
              "      <td>fantasy young-adult fiction magic childrens ad...</td>\n",
              "      <td>j.k.rowling,marygrandpré</td>\n",
              "      <td>Harry Potter and the Sorcerer's Stone (Harry P...</td>\n",
              "    </tr>\n",
              "    <tr>\n",
              "      <th>3</th>\n",
              "      <td>5</td>\n",
              "      <td>fantasy young-adult fiction magic childrens ad...</td>\n",
              "      <td>j.k.rowling,marygrandpré,rufusbeck</td>\n",
              "      <td>Harry Potter and the Prisoner of Azkaban (Harr...</td>\n",
              "    </tr>\n",
              "    <tr>\n",
              "      <th>4</th>\n",
              "      <td>6</td>\n",
              "      <td>fantasy young-adult fiction childrens adventur...</td>\n",
              "      <td>j.k.rowling,marygrandpré</td>\n",
              "      <td>Harry Potter and the Goblet of Fire (Harry Pot...</td>\n",
              "    </tr>\n",
              "  </tbody>\n",
              "</table>\n",
              "</div>"
            ],
            "text/plain": [
              "   goodreads_book_id  ...                                              title\n",
              "0                  1  ...  Harry Potter and the Half-Blood Prince (Harry ...\n",
              "1                  2  ...  Harry Potter and the Order of the Phoenix (Har...\n",
              "2                  3  ...  Harry Potter and the Sorcerer's Stone (Harry P...\n",
              "3                  5  ...  Harry Potter and the Prisoner of Azkaban (Harr...\n",
              "4                  6  ...  Harry Potter and the Goblet of Fire (Harry Pot...\n",
              "\n",
              "[5 rows x 4 columns]"
            ]
          },
          "execution_count": 79,
          "metadata": {
            "tags": []
          },
          "output_type": "execute_result"
        }
      ]
    },
    {
      "cell_type": "code",
      "metadata": {
        "id": "RAkmb0byWr1J"
      },
      "source": [
        "# With the same operation, I remove the comma between the names as well\n",
        "stringedTags['authors'] = stringedTags['authors'].astype('str').apply(lambda x: str.lower(x.replace(\",\", \" \")))"
      ],
      "execution_count": null,
      "outputs": []
    },
    {
      "cell_type": "code",
      "metadata": {
        "colab": {
          "base_uri": "https://localhost:8080/"
        },
        "id": "nLt80Wa3Wr1K",
        "outputId": "fe335f4c-3514-47e7-b8d6-7793e7c1cd31"
      },
      "source": [
        "stringedTags.head(20)"
      ],
      "execution_count": null,
      "outputs": [
        {
          "data": {
            "text/html": [
              "<div>\n",
              "<style scoped>\n",
              "    .dataframe tbody tr th:only-of-type {\n",
              "        vertical-align: middle;\n",
              "    }\n",
              "\n",
              "    .dataframe tbody tr th {\n",
              "        vertical-align: top;\n",
              "    }\n",
              "\n",
              "    .dataframe thead th {\n",
              "        text-align: right;\n",
              "    }\n",
              "</style>\n",
              "<table border=\"1\" class=\"dataframe\">\n",
              "  <thead>\n",
              "    <tr style=\"text-align: right;\">\n",
              "      <th></th>\n",
              "      <th>goodreads_book_id</th>\n",
              "      <th>tag_name</th>\n",
              "      <th>authors</th>\n",
              "      <th>title</th>\n",
              "    </tr>\n",
              "  </thead>\n",
              "  <tbody>\n",
              "    <tr>\n",
              "      <th>0</th>\n",
              "      <td>1</td>\n",
              "      <td>fantasy young-adult fiction magic childrens ad...</td>\n",
              "      <td>j.k.rowling marygrandpré</td>\n",
              "      <td>Harry Potter and the Half-Blood Prince (Harry ...</td>\n",
              "    </tr>\n",
              "    <tr>\n",
              "      <th>1</th>\n",
              "      <td>2</td>\n",
              "      <td>fantasy young-adult fiction magic children-s n...</td>\n",
              "      <td>j.k.rowling marygrandpré</td>\n",
              "      <td>Harry Potter and the Order of the Phoenix (Har...</td>\n",
              "    </tr>\n",
              "    <tr>\n",
              "      <th>2</th>\n",
              "      <td>3</td>\n",
              "      <td>fantasy young-adult fiction magic childrens ad...</td>\n",
              "      <td>j.k.rowling marygrandpré</td>\n",
              "      <td>Harry Potter and the Sorcerer's Stone (Harry P...</td>\n",
              "    </tr>\n",
              "    <tr>\n",
              "      <th>3</th>\n",
              "      <td>5</td>\n",
              "      <td>fantasy young-adult fiction magic childrens ad...</td>\n",
              "      <td>j.k.rowling marygrandpré rufusbeck</td>\n",
              "      <td>Harry Potter and the Prisoner of Azkaban (Harr...</td>\n",
              "    </tr>\n",
              "    <tr>\n",
              "      <th>4</th>\n",
              "      <td>6</td>\n",
              "      <td>fantasy young-adult fiction childrens adventur...</td>\n",
              "      <td>j.k.rowling marygrandpré</td>\n",
              "      <td>Harry Potter and the Goblet of Fire (Harry Pot...</td>\n",
              "    </tr>\n",
              "    <tr>\n",
              "      <th>5</th>\n",
              "      <td>8</td>\n",
              "      <td>fantasy young-adult fiction magic childrens ad...</td>\n",
              "      <td>j.k.rowling marygrandpré</td>\n",
              "      <td>Harry Potter Boxed Set, Books 1-5 (Harry Potte...</td>\n",
              "    </tr>\n",
              "    <tr>\n",
              "      <th>6</th>\n",
              "      <td>10</td>\n",
              "      <td>fantasy young-adult fiction magic childrens ad...</td>\n",
              "      <td>j.k.rowling</td>\n",
              "      <td>Harry Potter Collection (Harry Potter, #1-6)</td>\n",
              "    </tr>\n",
              "    <tr>\n",
              "      <th>7</th>\n",
              "      <td>11</td>\n",
              "      <td>fantasy young-adult fiction adventure classics...</td>\n",
              "      <td>douglasadams</td>\n",
              "      <td>The Hitchhiker's Guide to the Galaxy (Hitchhik...</td>\n",
              "    </tr>\n",
              "    <tr>\n",
              "      <th>8</th>\n",
              "      <td>13</td>\n",
              "      <td>fantasy young-adult fiction adventure classics...</td>\n",
              "      <td>douglasadams</td>\n",
              "      <td>The Ultimate Hitchhiker's Guide to the Galaxy</td>\n",
              "    </tr>\n",
              "    <tr>\n",
              "      <th>9</th>\n",
              "      <td>21</td>\n",
              "      <td>fiction humor funny adult space science abando...</td>\n",
              "      <td>billbryson</td>\n",
              "      <td>A Short History of Nearly Everything</td>\n",
              "    </tr>\n",
              "    <tr>\n",
              "      <th>10</th>\n",
              "      <td>24</td>\n",
              "      <td>fiction adventure contemporary humor funny com...</td>\n",
              "      <td>billbryson</td>\n",
              "      <td>In a Sunburned Country</td>\n",
              "    </tr>\n",
              "    <tr>\n",
              "      <th>11</th>\n",
              "      <td>25</td>\n",
              "      <td>fiction adventure contemporary humor funny com...</td>\n",
              "      <td>billbryson</td>\n",
              "      <td>I'm a Stranger Here Myself: Notes on Returning...</td>\n",
              "    </tr>\n",
              "    <tr>\n",
              "      <th>12</th>\n",
              "      <td>26</td>\n",
              "      <td>fiction adventure contemporary humor funny com...</td>\n",
              "      <td>billbryson</td>\n",
              "      <td>The Lost Continent: Travels in Small Town America</td>\n",
              "    </tr>\n",
              "    <tr>\n",
              "      <th>13</th>\n",
              "      <td>27</td>\n",
              "      <td>fiction adventure contemporary humor funny com...</td>\n",
              "      <td>billbryson</td>\n",
              "      <td>Neither Here nor There: Travels in Europe</td>\n",
              "    </tr>\n",
              "    <tr>\n",
              "      <th>14</th>\n",
              "      <td>28</td>\n",
              "      <td>fiction adventure contemporary humor funny com...</td>\n",
              "      <td>billbryson</td>\n",
              "      <td>Notes from a Small Island</td>\n",
              "    </tr>\n",
              "    <tr>\n",
              "      <th>15</th>\n",
              "      <td>29</td>\n",
              "      <td>contemporary humor funny comedy adult literatu...</td>\n",
              "      <td>billbryson</td>\n",
              "      <td>The Mother Tongue: English and How It Got That...</td>\n",
              "    </tr>\n",
              "    <tr>\n",
              "      <th>16</th>\n",
              "      <td>30</td>\n",
              "      <td>fantasy young-adult fiction magic childrens ad...</td>\n",
              "      <td>j.r.r.tolkien</td>\n",
              "      <td>J.R.R. Tolkien 4-Book Boxed Set: The Hobbit an...</td>\n",
              "    </tr>\n",
              "    <tr>\n",
              "      <th>17</th>\n",
              "      <td>33</td>\n",
              "      <td>fantasy young-adult fiction magic adventure cl...</td>\n",
              "      <td>j.r.r.tolkien</td>\n",
              "      <td>The Lord of the Rings (The Lord of the Rings, ...</td>\n",
              "    </tr>\n",
              "    <tr>\n",
              "      <th>18</th>\n",
              "      <td>34</td>\n",
              "      <td>fantasy young-adult fiction magic adventure cl...</td>\n",
              "      <td>j.r.r.tolkien</td>\n",
              "      <td>The Fellowship of the Ring (The Lord of the Ri...</td>\n",
              "    </tr>\n",
              "    <tr>\n",
              "      <th>19</th>\n",
              "      <td>36</td>\n",
              "      <td>fantasy fiction science-fiction-fantasy high-f...</td>\n",
              "      <td>chrissmith christopherlee richardtaylor</td>\n",
              "      <td>The Lord of the Rings: Weapons and Warfare</td>\n",
              "    </tr>\n",
              "  </tbody>\n",
              "</table>\n",
              "</div>"
            ],
            "text/plain": [
              "    goodreads_book_id  ...                                              title\n",
              "0                   1  ...  Harry Potter and the Half-Blood Prince (Harry ...\n",
              "1                   2  ...  Harry Potter and the Order of the Phoenix (Har...\n",
              "2                   3  ...  Harry Potter and the Sorcerer's Stone (Harry P...\n",
              "3                   5  ...  Harry Potter and the Prisoner of Azkaban (Harr...\n",
              "4                   6  ...  Harry Potter and the Goblet of Fire (Harry Pot...\n",
              "5                   8  ...  Harry Potter Boxed Set, Books 1-5 (Harry Potte...\n",
              "6                  10  ...       Harry Potter Collection (Harry Potter, #1-6)\n",
              "7                  11  ...  The Hitchhiker's Guide to the Galaxy (Hitchhik...\n",
              "8                  13  ...      The Ultimate Hitchhiker's Guide to the Galaxy\n",
              "9                  21  ...               A Short History of Nearly Everything\n",
              "10                 24  ...                             In a Sunburned Country\n",
              "11                 25  ...  I'm a Stranger Here Myself: Notes on Returning...\n",
              "12                 26  ...  The Lost Continent: Travels in Small Town America\n",
              "13                 27  ...          Neither Here nor There: Travels in Europe\n",
              "14                 28  ...                          Notes from a Small Island\n",
              "15                 29  ...  The Mother Tongue: English and How It Got That...\n",
              "16                 30  ...  J.R.R. Tolkien 4-Book Boxed Set: The Hobbit an...\n",
              "17                 33  ...  The Lord of the Rings (The Lord of the Rings, ...\n",
              "18                 34  ...  The Fellowship of the Ring (The Lord of the Ri...\n",
              "19                 36  ...         The Lord of the Rings: Weapons and Warfare\n",
              "\n",
              "[20 rows x 4 columns]"
            ]
          },
          "execution_count": 81,
          "metadata": {
            "tags": []
          },
          "output_type": "execute_result"
        }
      ]
    },
    {
      "cell_type": "code",
      "metadata": {
        "id": "YRIhDelzWr1L"
      },
      "source": [
        "# Then I add the author(s) to the stringed genre-tags\n",
        "stringedTags['all_tags'] = stringedTags['tag_name'] + \" \" + stringedTags['authors']"
      ],
      "execution_count": null,
      "outputs": []
    },
    {
      "cell_type": "code",
      "metadata": {
        "colab": {
          "base_uri": "https://localhost:8080/"
        },
        "id": "u-DQHHPBWr1L",
        "outputId": "56106c3e-b26c-4c68-e585-ee48bd2f2897"
      },
      "source": [
        "# A example with one of Harry Potter's series book:\n",
        "stringedTags.all_tags[1]"
      ],
      "execution_count": null,
      "outputs": [
        {
          "data": {
            "application/vnd.google.colaboratory.intrinsic+json": {
              "type": "string"
            },
            "text/plain": [
              "'fantasy young-adult fiction magic children-s novels paranormal teen witches urban-fantasy supernatural mystery wizards juvenile romance coming-of-age science-fiction-fantasy boarding-school action british-literature young-adult-fantasy j.k.rowling marygrandpré'"
            ]
          },
          "execution_count": 83,
          "metadata": {
            "tags": []
          },
          "output_type": "execute_result"
        }
      ]
    },
    {
      "cell_type": "markdown",
      "metadata": {
        "id": "pkYmKHDfWr1M"
      },
      "source": [
        "Now I use the 'CountVectorizer' function, that will generate a matrix in which the columns represent all the tag-words that I have included in the analysis and the rows represent the books.\n",
        "\n",
        "From that matrix (the 'tagMatrix'), I have calculated a similarity score between each book pair, choosing the 'cosine' as a metric of distance."
      ]
    },
    {
      "cell_type": "code",
      "metadata": {
        "id": "ZXFJG-9kWr1M"
      },
      "source": [
        "countVec = CountVectorizer(analyzer = 'word', ngram_range = (1, 2), min_df = 0, stop_words = 'english')"
      ],
      "execution_count": null,
      "outputs": []
    },
    {
      "cell_type": "code",
      "metadata": {
        "id": "tKnR0IG2Wr1N"
      },
      "source": [
        "tagMatrix = countVec.fit_transform(stringedTags['all_tags'])"
      ],
      "execution_count": null,
      "outputs": []
    },
    {
      "cell_type": "code",
      "metadata": {
        "colab": {
          "base_uri": "https://localhost:8080/"
        },
        "id": "YW4yfY3gWr1N",
        "outputId": "2d6c77f2-dd16-4bdf-c75f-c3098d901a4c"
      },
      "source": [
        "tagMatrix"
      ],
      "execution_count": null,
      "outputs": [
        {
          "data": {
            "text/plain": [
              "<10000x26750 sparse matrix of type '<class 'numpy.int64'>'\n",
              "\twith 509529 stored elements in Compressed Sparse Row format>"
            ]
          },
          "execution_count": 86,
          "metadata": {
            "tags": []
          },
          "output_type": "execute_result"
        }
      ]
    },
    {
      "cell_type": "code",
      "metadata": {
        "id": "pqUpIJPfWr1O"
      },
      "source": [
        "cosineSim = cosine_similarity(tagMatrix, tagMatrix)"
      ],
      "execution_count": null,
      "outputs": []
    },
    {
      "cell_type": "code",
      "metadata": {
        "colab": {
          "base_uri": "https://localhost:8080/"
        },
        "id": "EQ-Gw4S3Wr1O",
        "outputId": "128679d7-1d67-4b43-8b37-2f4182744ea6"
      },
      "source": [
        "cosineSim.shape"
      ],
      "execution_count": null,
      "outputs": [
        {
          "data": {
            "text/plain": [
              "(10000, 10000)"
            ]
          },
          "execution_count": 88,
          "metadata": {
            "tags": []
          },
          "output_type": "execute_result"
        }
      ]
    },
    {
      "cell_type": "code",
      "metadata": {
        "colab": {
          "base_uri": "https://localhost:8080/"
        },
        "id": "JkfdlsfSWr1O",
        "outputId": "4b7b37b1-a189-4f3e-d94b-2094747ef2bb"
      },
      "source": [
        "cosineSim"
      ],
      "execution_count": null,
      "outputs": [
        {
          "data": {
            "text/plain": [
              "array([[1.        , 0.7643608 , 0.92288947, ..., 0.27508955, 0.21854335,\n",
              "        0.22239287],\n",
              "       [0.7643608 , 1.        , 0.71674754, ..., 0.26169537, 0.21271497,\n",
              "        0.19981092],\n",
              "       [0.92288947, 0.71674754, 1.        , ..., 0.18654789, 0.1717795 ,\n",
              "        0.17928749],\n",
              "       ...,\n",
              "       [0.27508955, 0.26169537, 0.18654789, ..., 1.        , 0.25668451,\n",
              "        0.27820744],\n",
              "       [0.21854335, 0.21271497, 0.1717795 , ..., 0.25668451, 1.        ,\n",
              "        0.77234329],\n",
              "       [0.22239287, 0.19981092, 0.17928749, ..., 0.27820744, 0.77234329,\n",
              "        1.        ]])"
            ]
          },
          "execution_count": 89,
          "metadata": {
            "tags": []
          },
          "output_type": "execute_result"
        }
      ]
    },
    {
      "cell_type": "markdown",
      "metadata": {
        "id": "QkHwrlKXWr1P"
      },
      "source": [
        "The next step is retrieving the titles of the books (from the 'stringedTags' dataset, column 'title') and use tham as index, so that I can create a function, called 'topRecommendations' that takes in a book title and scores all cosine similarity of that title with each book in the dataset; then - after sorting by the highest similarity and after dropping the first observation (that will show the similarity of the book with itself, which is the maximum valu) it grabs only the first 10 most similar books to that title and return them in the form of a top-10 recommendation."
      ]
    },
    {
      "cell_type": "code",
      "metadata": {
        "id": "dLYTyTFVWr1P"
      },
      "source": [
        "stringedTags = stringedTags.reset_index()\n",
        "bookTitles = stringedTags['title']\n",
        "indices = pd.Series(stringedTags.index, index = bookTitles)"
      ],
      "execution_count": null,
      "outputs": []
    },
    {
      "cell_type": "code",
      "metadata": {
        "id": "UvyB6NgzWr1Q"
      },
      "source": [
        "def topRecommendations(title):\n",
        "    index = indices[title]\n",
        "    similarityScore = list(enumerate(cosineSim[index]))\n",
        "    similarityScore = sorted(similarityScore, key = lambda x: x[1], reverse = True)\n",
        "    similarityScore = similarityScore[1:10]\n",
        "    bookIndex = [i[0] for i in similarityScore]\n",
        "    return bookTitles.iloc[bookIndex]"
      ],
      "execution_count": null,
      "outputs": []
    },
    {
      "cell_type": "markdown",
      "metadata": {
        "id": "q1NaYX-eWr1Q"
      },
      "source": [
        "Having a look at few books, it looks like this content-based recommender system is able to capture similarity within books based on the tags I have used, giving interesting and relevant recommendations."
      ]
    },
    {
      "cell_type": "code",
      "metadata": {
        "colab": {
          "base_uri": "https://localhost:8080/"
        },
        "id": "N4K9MKB4Wr1R",
        "outputId": "9665941e-ac3e-4881-8c22-a13711325b69"
      },
      "source": [
        "topRecommendations('Harry Potter and the Half-Blood Prince (Harry Potter, #6)').head(10)"
      ],
      "execution_count": null,
      "outputs": [
        {
          "data": {
            "text/plain": [
              "3890    Harry Potter and the Deathly Hallows (Harry Po...\n",
              "2       Harry Potter and the Sorcerer's Stone (Harry P...\n",
              "1276    Harry Potter and the Chamber of Secrets (Harry...\n",
              "4       Harry Potter and the Goblet of Fire (Harry Pot...\n",
              "5686             Harry Potter Boxset (Harry Potter, #1-7)\n",
              "3       Harry Potter and the Prisoner of Azkaban (Harr...\n",
              "3488    The Harry Potter Collection 1-4 (Harry Potter,...\n",
              "5891    Harry Potter and the Order of the Phoenix (Har...\n",
              "5       Harry Potter Boxed Set, Books 1-5 (Harry Potte...\n",
              "Name: title, dtype: object"
            ]
          },
          "execution_count": 92,
          "metadata": {
            "tags": []
          },
          "output_type": "execute_result"
        }
      ]
    },
    {
      "cell_type": "code",
      "metadata": {
        "colab": {
          "base_uri": "https://localhost:8080/"
        },
        "id": "H2pRkc3FWr1R",
        "outputId": "2edd191f-0724-4c10-c065-edff2305bd1c"
      },
      "source": [
        "topRecommendations('The Catcher in the Rye').head(10)"
      ],
      "execution_count": null,
      "outputs": [
        {
          "data": {
            "text/plain": [
              "350             The Great Gatsby\n",
              "198        To Kill a Mockingbird\n",
              "87               Of Mice and Men\n",
              "326          The Grapes of Wrath\n",
              "1209    A Tree Grows in Brooklyn\n",
              "4224                  The Chosen\n",
              "1048         Death of a Salesman\n",
              "982                 Housekeeping\n",
              "174      The Old Man and the Sea\n",
              "Name: title, dtype: object"
            ]
          },
          "execution_count": 93,
          "metadata": {
            "tags": []
          },
          "output_type": "execute_result"
        }
      ]
    },
    {
      "cell_type": "code",
      "metadata": {
        "colab": {
          "base_uri": "https://localhost:8080/"
        },
        "id": "yU6rcZ1fWr1S",
        "outputId": "e84e3ffc-8361-4fff-f913-46eef49dc31d"
      },
      "source": [
        "topRecommendations('Fear and Loathing in Las Vegas').head(10)"
      ],
      "execution_count": null,
      "outputs": [
        {
          "data": {
            "text/plain": [
              "2954          On the Road\n",
              "5043      The Dharma Bums\n",
              "2628          Post Office\n",
              "1463        The Rum Diary\n",
              "2235                Women\n",
              "2236           Ham on Rye\n",
              "578         Infinite Jest\n",
              "1653                Junky\n",
              "839     Desolation Angels\n",
              "Name: title, dtype: object"
            ]
          },
          "execution_count": 94,
          "metadata": {
            "tags": []
          },
          "output_type": "execute_result"
        }
      ]
    },
    {
      "cell_type": "code",
      "metadata": {
        "colab": {
          "base_uri": "https://localhost:8080/"
        },
        "id": "rOXNhPjrWr1T",
        "outputId": "d57aaa2b-508d-456f-d016-5d651e3a2a24"
      },
      "source": [
        "topRecommendations('The Great Gatsby').head(10)"
      ],
      "execution_count": null,
      "outputs": [
        {
          "data": {
            "text/plain": [
              "87              Of Mice and Men\n",
              "405      The Catcher in the Rye\n",
              "1048        Death of a Salesman\n",
              "440                 Ethan Frome\n",
              "174     The Old Man and the Sea\n",
              "198       To Kill a Mockingbird\n",
              "326         The Grapes of Wrath\n",
              "1381               The Crucible\n",
              "445                   The Pearl\n",
              "Name: title, dtype: object"
            ]
          },
          "execution_count": 95,
          "metadata": {
            "tags": []
          },
          "output_type": "execute_result"
        }
      ]
    },
    {
      "cell_type": "code",
      "metadata": {
        "colab": {
          "base_uri": "https://localhost:8080/"
        },
        "id": "SMdIJFxZWr1T",
        "outputId": "299bd8d3-de16-441d-c5e9-fd296f8bbc62"
      },
      "source": [
        "topRecommendations('Middlesex').head(10)"
      ],
      "execution_count": null,
      "outputs": [
        {
          "data": {
            "text/plain": [
              "9930                                              The Nix\n",
              "9743                                    Go Set a Watchman\n",
              "7958                                              Arcadia\n",
              "9869                                               LaRose\n",
              "9366    Some Luck (Last Hundred Years: A Family Saga, #1)\n",
              "3064                            Plainsong (Plainsong, #1)\n",
              "6458                                              Tinkers\n",
              "6223                                    Home (Gilead, #2)\n",
              "1030                            The Bonesetter's Daughter\n",
              "Name: title, dtype: object"
            ]
          },
          "execution_count": 96,
          "metadata": {
            "tags": []
          },
          "output_type": "execute_result"
        }
      ]
    },
    {
      "cell_type": "code",
      "metadata": {
        "colab": {
          "base_uri": "https://localhost:8080/"
        },
        "id": "52PFuWvsWr1U",
        "outputId": "0163fe64-c03a-44a2-e278-cb944ffdf422"
      },
      "source": [
        "topRecommendations('Slaughterhouse-Five').head(10)"
      ],
      "execution_count": null,
      "outputs": [
        {
          "data": {
            "text/plain": [
              "4112                  Catch-22\n",
              "2629        Johnny Got His Gun\n",
              "877         A Farewell to Arms\n",
              "3885              Cat's Cradle\n",
              "5423                   Grendel\n",
              "775               Mother Night\n",
              "382     Breakfast of Champions\n",
              "635                Animal Farm\n",
              "781                  Bluebeard\n",
              "Name: title, dtype: object"
            ]
          },
          "execution_count": 97,
          "metadata": {
            "tags": []
          },
          "output_type": "execute_result"
        }
      ]
    },
    {
      "cell_type": "markdown",
      "metadata": {
        "id": "HdRK4HlFWr1U"
      },
      "source": [
        "### 3. Item-Based Collaborative Filtering"
      ]
    },
    {
      "cell_type": "markdown",
      "metadata": {
        "id": "R-OXvJsxWr1V"
      },
      "source": [
        "Another type of recommender that I have decided to implement is based on 'Collaborative Filtering' technique. In this case, I have considered a Item-Based Collaborative Filtering.\n",
        "\n",
        "The starting point of this type of system is a user by book matrix, in which each row indicates a single user, and each columns represents a single book.\n",
        "With the intent of making the table more easy to read and displaying the book titles rather than the book ids, I have used the 'ratingsWithTitles' table.\n",
        "\n",
        "The resulting userByBook table contains an extremely high number of NAs, due to the fact that - as seen before - even the users who have read the highest number of books in our dataset, they have just read roughly 1% of all the books in the analysis."
      ]
    },
    {
      "cell_type": "code",
      "metadata": {
        "id": "o9loLT9-Wr1V"
      },
      "source": [
        "ratingsWithTitles = pd.merge(ratings, books[['id', 'title']], left_on = ['book_id'], right_on = ['id'])"
      ],
      "execution_count": null,
      "outputs": []
    },
    {
      "cell_type": "code",
      "metadata": {
        "colab": {
          "base_uri": "https://localhost:8080/"
        },
        "id": "kQoS0PRUWr1W",
        "outputId": "809eb7d6-f95c-4582-9eb5-8a32013ae6db"
      },
      "source": [
        "userByBook = pd.pivot_table(ratingsWithTitles, index = ['user_id'], columns = ['title'], values = ['rating'])\n",
        "userByBook"
      ],
      "execution_count": null,
      "outputs": [
        {
          "data": {
            "text/html": [
              "<div>\n",
              "<style scoped>\n",
              "    .dataframe tbody tr th:only-of-type {\n",
              "        vertical-align: middle;\n",
              "    }\n",
              "\n",
              "    .dataframe tbody tr th {\n",
              "        vertical-align: top;\n",
              "    }\n",
              "\n",
              "    .dataframe thead tr th {\n",
              "        text-align: left;\n",
              "    }\n",
              "\n",
              "    .dataframe thead tr:last-of-type th {\n",
              "        text-align: right;\n",
              "    }\n",
              "</style>\n",
              "<table border=\"1\" class=\"dataframe\">\n",
              "  <thead>\n",
              "    <tr>\n",
              "      <th></th>\n",
              "      <th colspan=\"81\" halign=\"left\">rating</th>\n",
              "    </tr>\n",
              "    <tr>\n",
              "      <th>title</th>\n",
              "      <th>Angels (Walsh Family, #3)</th>\n",
              "      <th>#GIRLBOSS</th>\n",
              "      <th>'Salem's Lot</th>\n",
              "      <th>'Tis (Frank McCourt, #2)</th>\n",
              "      <th>1,000 Places to See Before You Die</th>\n",
              "      <th>10% Happier: How I Tamed the Voice in My Head, Reduced Stress Without Losing My Edge, and Found Self-Help That Actually Works</th>\n",
              "      <th>100 Bullets, Vol. 1: First Shot, Last Call</th>\n",
              "      <th>100 Love Sonnets</th>\n",
              "      <th>100 Selected Poems</th>\n",
              "      <th>10th Anniversary (Women's Murder Club, #10)</th>\n",
              "      <th>11 Birthdays (Willow Falls, #1)</th>\n",
              "      <th>11/22/63</th>\n",
              "      <th>11th Hour (Women's Murder Club, #11)</th>\n",
              "      <th>12th of Never (Women's Murder Club, #12)</th>\n",
              "      <th>13 Little Blue Envelopes (Little Blue Envelope, #1)</th>\n",
              "      <th>14</th>\n",
              "      <th>1421: The Year China Discovered America</th>\n",
              "      <th>1491: New Revelations of the Americas Before Columbus</th>\n",
              "      <th>1493: Uncovering the New World Columbus Created</th>\n",
              "      <th>14th Deadly Sin (Women’s Murder Club, #14)</th>\n",
              "      <th>15th Affair (Women's Murder Club #15)</th>\n",
              "      <th>1776</th>\n",
              "      <th>1919</th>\n",
              "      <th>1984</th>\n",
              "      <th>1Q84</th>\n",
              "      <th>1Q84 BOOK 1 (1Q84, #1)</th>\n",
              "      <th>1st to Die (Women's Murder Club, #1)</th>\n",
              "      <th>2 States: The Story of My Marriage</th>\n",
              "      <th>2001: A Space Odyssey (Space Odyssey, #1)</th>\n",
              "      <th>2010: Odyssey Two (Space Odyssey, #2)</th>\n",
              "      <th>206 Bones (Temperance Brennan, #12)</th>\n",
              "      <th>2061: Odyssey Three (Space Odyssey, #3)</th>\n",
              "      <th>20th Century Ghosts</th>\n",
              "      <th>2312</th>\n",
              "      <th>2666</th>\n",
              "      <th>2BR02B</th>\n",
              "      <th>2nd Chance (Women's Murder Club, #2)</th>\n",
              "      <th>30 Days of Night, Vol. 1</th>\n",
              "      <th>300</th>\n",
              "      <th>3001: The Final Odyssey (Space Odyssey, #4)</th>\n",
              "      <th>...</th>\n",
              "      <th>You Belong To Me</th>\n",
              "      <th>You Can Heal Your Life</th>\n",
              "      <th>You Don't Have to Say You Love Me</th>\n",
              "      <th>You Know You Love Me (Gossip Girl, #2)</th>\n",
              "      <th>You Shall Know Our Velocity!</th>\n",
              "      <th>You Slay Me (Aisling Grey #1)</th>\n",
              "      <th>You Suck (A Love Story, #2)</th>\n",
              "      <th>You Were Mine (Rosemary Beach, #9)</th>\n",
              "      <th>You Will Know Me</th>\n",
              "      <th>You'll Grow Out of It</th>\n",
              "      <th>You're Never Weird on the Internet (Almost)</th>\n",
              "      <th>You've Been Warned</th>\n",
              "      <th>Your Heart Belongs to Me</th>\n",
              "      <th>Your Inner Fish: A Journey into the 3.5-Billion-Year History of the Human Body</th>\n",
              "      <th>Z for Zachariah</th>\n",
              "      <th>Z: A Novel of Zelda Fitzgerald</th>\n",
              "      <th>Zealot: The Life and Times of Jesus of Nazareth</th>\n",
              "      <th>Zeitoun</th>\n",
              "      <th>Zen Mind, Beginner's Mind: Informal Talks on Zen Meditation and Practice</th>\n",
              "      <th>Zen and the Art of Motorcycle Maintenance: An Inquiry Into Values</th>\n",
              "      <th>Zero Day (John Puller, #1)</th>\n",
              "      <th>Zero History (Blue Ant, #3)</th>\n",
              "      <th>Zero to One: Notes on Startups, or How to Build the Future</th>\n",
              "      <th>Zodiac</th>\n",
              "      <th>Zoe's Tale (Old Man's War, #4)</th>\n",
              "      <th>Zone One</th>\n",
              "      <th>Zoo</th>\n",
              "      <th>Zorba the Greek</th>\n",
              "      <th>Zorro</th>\n",
              "      <th>for colored girls who have considered suicide/when the rainbow is enuf</th>\n",
              "      <th>god is Not Great: How Religion Poisons Everything</th>\n",
              "      <th>number9dream</th>\n",
              "      <th>sTORI Telling</th>\n",
              "      <th>xxxHolic, Vol. 1 (xxxHOLiC, #1)</th>\n",
              "      <th>الفيل الأزرق</th>\n",
              "      <th>تراب الماس</th>\n",
              "      <th>عزازيل</th>\n",
              "      <th>هيبتا</th>\n",
              "      <th>يوتوبيا</th>\n",
              "      <th>ڤيرتيجو</th>\n",
              "    </tr>\n",
              "    <tr>\n",
              "      <th>user_id</th>\n",
              "      <th></th>\n",
              "      <th></th>\n",
              "      <th></th>\n",
              "      <th></th>\n",
              "      <th></th>\n",
              "      <th></th>\n",
              "      <th></th>\n",
              "      <th></th>\n",
              "      <th></th>\n",
              "      <th></th>\n",
              "      <th></th>\n",
              "      <th></th>\n",
              "      <th></th>\n",
              "      <th></th>\n",
              "      <th></th>\n",
              "      <th></th>\n",
              "      <th></th>\n",
              "      <th></th>\n",
              "      <th></th>\n",
              "      <th></th>\n",
              "      <th></th>\n",
              "      <th></th>\n",
              "      <th></th>\n",
              "      <th></th>\n",
              "      <th></th>\n",
              "      <th></th>\n",
              "      <th></th>\n",
              "      <th></th>\n",
              "      <th></th>\n",
              "      <th></th>\n",
              "      <th></th>\n",
              "      <th></th>\n",
              "      <th></th>\n",
              "      <th></th>\n",
              "      <th></th>\n",
              "      <th></th>\n",
              "      <th></th>\n",
              "      <th></th>\n",
              "      <th></th>\n",
              "      <th></th>\n",
              "      <th></th>\n",
              "      <th></th>\n",
              "      <th></th>\n",
              "      <th></th>\n",
              "      <th></th>\n",
              "      <th></th>\n",
              "      <th></th>\n",
              "      <th></th>\n",
              "      <th></th>\n",
              "      <th></th>\n",
              "      <th></th>\n",
              "      <th></th>\n",
              "      <th></th>\n",
              "      <th></th>\n",
              "      <th></th>\n",
              "      <th></th>\n",
              "      <th></th>\n",
              "      <th></th>\n",
              "      <th></th>\n",
              "      <th></th>\n",
              "      <th></th>\n",
              "      <th></th>\n",
              "      <th></th>\n",
              "      <th></th>\n",
              "      <th></th>\n",
              "      <th></th>\n",
              "      <th></th>\n",
              "      <th></th>\n",
              "      <th></th>\n",
              "      <th></th>\n",
              "      <th></th>\n",
              "      <th></th>\n",
              "      <th></th>\n",
              "      <th></th>\n",
              "      <th></th>\n",
              "      <th></th>\n",
              "      <th></th>\n",
              "      <th></th>\n",
              "      <th></th>\n",
              "      <th></th>\n",
              "      <th></th>\n",
              "    </tr>\n",
              "  </thead>\n",
              "  <tbody>\n",
              "    <tr>\n",
              "      <th>7</th>\n",
              "      <td>NaN</td>\n",
              "      <td>NaN</td>\n",
              "      <td>NaN</td>\n",
              "      <td>NaN</td>\n",
              "      <td>NaN</td>\n",
              "      <td>NaN</td>\n",
              "      <td>NaN</td>\n",
              "      <td>NaN</td>\n",
              "      <td>NaN</td>\n",
              "      <td>NaN</td>\n",
              "      <td>NaN</td>\n",
              "      <td>NaN</td>\n",
              "      <td>NaN</td>\n",
              "      <td>NaN</td>\n",
              "      <td>NaN</td>\n",
              "      <td>NaN</td>\n",
              "      <td>NaN</td>\n",
              "      <td>NaN</td>\n",
              "      <td>NaN</td>\n",
              "      <td>NaN</td>\n",
              "      <td>NaN</td>\n",
              "      <td>NaN</td>\n",
              "      <td>NaN</td>\n",
              "      <td>NaN</td>\n",
              "      <td>NaN</td>\n",
              "      <td>NaN</td>\n",
              "      <td>NaN</td>\n",
              "      <td>NaN</td>\n",
              "      <td>NaN</td>\n",
              "      <td>NaN</td>\n",
              "      <td>NaN</td>\n",
              "      <td>NaN</td>\n",
              "      <td>NaN</td>\n",
              "      <td>NaN</td>\n",
              "      <td>NaN</td>\n",
              "      <td>NaN</td>\n",
              "      <td>NaN</td>\n",
              "      <td>NaN</td>\n",
              "      <td>NaN</td>\n",
              "      <td>NaN</td>\n",
              "      <td>...</td>\n",
              "      <td>NaN</td>\n",
              "      <td>NaN</td>\n",
              "      <td>NaN</td>\n",
              "      <td>NaN</td>\n",
              "      <td>NaN</td>\n",
              "      <td>NaN</td>\n",
              "      <td>NaN</td>\n",
              "      <td>NaN</td>\n",
              "      <td>NaN</td>\n",
              "      <td>NaN</td>\n",
              "      <td>NaN</td>\n",
              "      <td>NaN</td>\n",
              "      <td>NaN</td>\n",
              "      <td>NaN</td>\n",
              "      <td>NaN</td>\n",
              "      <td>NaN</td>\n",
              "      <td>NaN</td>\n",
              "      <td>NaN</td>\n",
              "      <td>NaN</td>\n",
              "      <td>NaN</td>\n",
              "      <td>NaN</td>\n",
              "      <td>NaN</td>\n",
              "      <td>NaN</td>\n",
              "      <td>4.0</td>\n",
              "      <td>NaN</td>\n",
              "      <td>NaN</td>\n",
              "      <td>NaN</td>\n",
              "      <td>NaN</td>\n",
              "      <td>NaN</td>\n",
              "      <td>NaN</td>\n",
              "      <td>NaN</td>\n",
              "      <td>NaN</td>\n",
              "      <td>NaN</td>\n",
              "      <td>NaN</td>\n",
              "      <td>NaN</td>\n",
              "      <td>NaN</td>\n",
              "      <td>NaN</td>\n",
              "      <td>NaN</td>\n",
              "      <td>NaN</td>\n",
              "      <td>NaN</td>\n",
              "    </tr>\n",
              "    <tr>\n",
              "      <th>19</th>\n",
              "      <td>NaN</td>\n",
              "      <td>NaN</td>\n",
              "      <td>NaN</td>\n",
              "      <td>NaN</td>\n",
              "      <td>NaN</td>\n",
              "      <td>NaN</td>\n",
              "      <td>NaN</td>\n",
              "      <td>NaN</td>\n",
              "      <td>NaN</td>\n",
              "      <td>NaN</td>\n",
              "      <td>NaN</td>\n",
              "      <td>NaN</td>\n",
              "      <td>NaN</td>\n",
              "      <td>NaN</td>\n",
              "      <td>NaN</td>\n",
              "      <td>NaN</td>\n",
              "      <td>NaN</td>\n",
              "      <td>NaN</td>\n",
              "      <td>NaN</td>\n",
              "      <td>NaN</td>\n",
              "      <td>NaN</td>\n",
              "      <td>NaN</td>\n",
              "      <td>NaN</td>\n",
              "      <td>NaN</td>\n",
              "      <td>NaN</td>\n",
              "      <td>NaN</td>\n",
              "      <td>NaN</td>\n",
              "      <td>NaN</td>\n",
              "      <td>NaN</td>\n",
              "      <td>NaN</td>\n",
              "      <td>NaN</td>\n",
              "      <td>NaN</td>\n",
              "      <td>NaN</td>\n",
              "      <td>NaN</td>\n",
              "      <td>NaN</td>\n",
              "      <td>NaN</td>\n",
              "      <td>NaN</td>\n",
              "      <td>NaN</td>\n",
              "      <td>NaN</td>\n",
              "      <td>NaN</td>\n",
              "      <td>...</td>\n",
              "      <td>NaN</td>\n",
              "      <td>NaN</td>\n",
              "      <td>NaN</td>\n",
              "      <td>NaN</td>\n",
              "      <td>NaN</td>\n",
              "      <td>NaN</td>\n",
              "      <td>NaN</td>\n",
              "      <td>NaN</td>\n",
              "      <td>NaN</td>\n",
              "      <td>NaN</td>\n",
              "      <td>NaN</td>\n",
              "      <td>NaN</td>\n",
              "      <td>NaN</td>\n",
              "      <td>NaN</td>\n",
              "      <td>NaN</td>\n",
              "      <td>NaN</td>\n",
              "      <td>NaN</td>\n",
              "      <td>NaN</td>\n",
              "      <td>NaN</td>\n",
              "      <td>NaN</td>\n",
              "      <td>NaN</td>\n",
              "      <td>NaN</td>\n",
              "      <td>NaN</td>\n",
              "      <td>NaN</td>\n",
              "      <td>NaN</td>\n",
              "      <td>NaN</td>\n",
              "      <td>NaN</td>\n",
              "      <td>NaN</td>\n",
              "      <td>NaN</td>\n",
              "      <td>NaN</td>\n",
              "      <td>NaN</td>\n",
              "      <td>NaN</td>\n",
              "      <td>NaN</td>\n",
              "      <td>NaN</td>\n",
              "      <td>NaN</td>\n",
              "      <td>NaN</td>\n",
              "      <td>NaN</td>\n",
              "      <td>NaN</td>\n",
              "      <td>NaN</td>\n",
              "      <td>NaN</td>\n",
              "    </tr>\n",
              "    <tr>\n",
              "      <th>23</th>\n",
              "      <td>NaN</td>\n",
              "      <td>NaN</td>\n",
              "      <td>NaN</td>\n",
              "      <td>NaN</td>\n",
              "      <td>NaN</td>\n",
              "      <td>NaN</td>\n",
              "      <td>NaN</td>\n",
              "      <td>NaN</td>\n",
              "      <td>NaN</td>\n",
              "      <td>NaN</td>\n",
              "      <td>NaN</td>\n",
              "      <td>NaN</td>\n",
              "      <td>NaN</td>\n",
              "      <td>NaN</td>\n",
              "      <td>NaN</td>\n",
              "      <td>NaN</td>\n",
              "      <td>NaN</td>\n",
              "      <td>NaN</td>\n",
              "      <td>NaN</td>\n",
              "      <td>NaN</td>\n",
              "      <td>NaN</td>\n",
              "      <td>NaN</td>\n",
              "      <td>NaN</td>\n",
              "      <td>NaN</td>\n",
              "      <td>NaN</td>\n",
              "      <td>NaN</td>\n",
              "      <td>NaN</td>\n",
              "      <td>NaN</td>\n",
              "      <td>NaN</td>\n",
              "      <td>NaN</td>\n",
              "      <td>NaN</td>\n",
              "      <td>NaN</td>\n",
              "      <td>NaN</td>\n",
              "      <td>NaN</td>\n",
              "      <td>NaN</td>\n",
              "      <td>NaN</td>\n",
              "      <td>NaN</td>\n",
              "      <td>NaN</td>\n",
              "      <td>NaN</td>\n",
              "      <td>NaN</td>\n",
              "      <td>...</td>\n",
              "      <td>NaN</td>\n",
              "      <td>NaN</td>\n",
              "      <td>NaN</td>\n",
              "      <td>NaN</td>\n",
              "      <td>NaN</td>\n",
              "      <td>NaN</td>\n",
              "      <td>NaN</td>\n",
              "      <td>NaN</td>\n",
              "      <td>NaN</td>\n",
              "      <td>NaN</td>\n",
              "      <td>NaN</td>\n",
              "      <td>NaN</td>\n",
              "      <td>NaN</td>\n",
              "      <td>NaN</td>\n",
              "      <td>NaN</td>\n",
              "      <td>NaN</td>\n",
              "      <td>NaN</td>\n",
              "      <td>NaN</td>\n",
              "      <td>NaN</td>\n",
              "      <td>NaN</td>\n",
              "      <td>NaN</td>\n",
              "      <td>NaN</td>\n",
              "      <td>NaN</td>\n",
              "      <td>NaN</td>\n",
              "      <td>NaN</td>\n",
              "      <td>NaN</td>\n",
              "      <td>NaN</td>\n",
              "      <td>NaN</td>\n",
              "      <td>NaN</td>\n",
              "      <td>NaN</td>\n",
              "      <td>NaN</td>\n",
              "      <td>NaN</td>\n",
              "      <td>NaN</td>\n",
              "      <td>NaN</td>\n",
              "      <td>NaN</td>\n",
              "      <td>NaN</td>\n",
              "      <td>NaN</td>\n",
              "      <td>NaN</td>\n",
              "      <td>NaN</td>\n",
              "      <td>NaN</td>\n",
              "    </tr>\n",
              "    <tr>\n",
              "      <th>27</th>\n",
              "      <td>NaN</td>\n",
              "      <td>NaN</td>\n",
              "      <td>NaN</td>\n",
              "      <td>NaN</td>\n",
              "      <td>NaN</td>\n",
              "      <td>NaN</td>\n",
              "      <td>NaN</td>\n",
              "      <td>NaN</td>\n",
              "      <td>NaN</td>\n",
              "      <td>NaN</td>\n",
              "      <td>NaN</td>\n",
              "      <td>NaN</td>\n",
              "      <td>NaN</td>\n",
              "      <td>NaN</td>\n",
              "      <td>NaN</td>\n",
              "      <td>NaN</td>\n",
              "      <td>NaN</td>\n",
              "      <td>NaN</td>\n",
              "      <td>NaN</td>\n",
              "      <td>NaN</td>\n",
              "      <td>NaN</td>\n",
              "      <td>NaN</td>\n",
              "      <td>NaN</td>\n",
              "      <td>NaN</td>\n",
              "      <td>NaN</td>\n",
              "      <td>NaN</td>\n",
              "      <td>NaN</td>\n",
              "      <td>NaN</td>\n",
              "      <td>NaN</td>\n",
              "      <td>NaN</td>\n",
              "      <td>NaN</td>\n",
              "      <td>NaN</td>\n",
              "      <td>NaN</td>\n",
              "      <td>NaN</td>\n",
              "      <td>NaN</td>\n",
              "      <td>NaN</td>\n",
              "      <td>NaN</td>\n",
              "      <td>NaN</td>\n",
              "      <td>NaN</td>\n",
              "      <td>NaN</td>\n",
              "      <td>...</td>\n",
              "      <td>NaN</td>\n",
              "      <td>NaN</td>\n",
              "      <td>NaN</td>\n",
              "      <td>NaN</td>\n",
              "      <td>NaN</td>\n",
              "      <td>NaN</td>\n",
              "      <td>NaN</td>\n",
              "      <td>NaN</td>\n",
              "      <td>NaN</td>\n",
              "      <td>NaN</td>\n",
              "      <td>NaN</td>\n",
              "      <td>NaN</td>\n",
              "      <td>NaN</td>\n",
              "      <td>NaN</td>\n",
              "      <td>NaN</td>\n",
              "      <td>NaN</td>\n",
              "      <td>NaN</td>\n",
              "      <td>NaN</td>\n",
              "      <td>NaN</td>\n",
              "      <td>NaN</td>\n",
              "      <td>NaN</td>\n",
              "      <td>NaN</td>\n",
              "      <td>NaN</td>\n",
              "      <td>NaN</td>\n",
              "      <td>NaN</td>\n",
              "      <td>NaN</td>\n",
              "      <td>NaN</td>\n",
              "      <td>NaN</td>\n",
              "      <td>NaN</td>\n",
              "      <td>NaN</td>\n",
              "      <td>NaN</td>\n",
              "      <td>NaN</td>\n",
              "      <td>NaN</td>\n",
              "      <td>NaN</td>\n",
              "      <td>NaN</td>\n",
              "      <td>NaN</td>\n",
              "      <td>NaN</td>\n",
              "      <td>NaN</td>\n",
              "      <td>NaN</td>\n",
              "      <td>NaN</td>\n",
              "    </tr>\n",
              "    <tr>\n",
              "      <th>35</th>\n",
              "      <td>NaN</td>\n",
              "      <td>NaN</td>\n",
              "      <td>NaN</td>\n",
              "      <td>NaN</td>\n",
              "      <td>NaN</td>\n",
              "      <td>NaN</td>\n",
              "      <td>NaN</td>\n",
              "      <td>NaN</td>\n",
              "      <td>NaN</td>\n",
              "      <td>NaN</td>\n",
              "      <td>NaN</td>\n",
              "      <td>NaN</td>\n",
              "      <td>NaN</td>\n",
              "      <td>NaN</td>\n",
              "      <td>NaN</td>\n",
              "      <td>NaN</td>\n",
              "      <td>NaN</td>\n",
              "      <td>NaN</td>\n",
              "      <td>NaN</td>\n",
              "      <td>NaN</td>\n",
              "      <td>NaN</td>\n",
              "      <td>NaN</td>\n",
              "      <td>NaN</td>\n",
              "      <td>NaN</td>\n",
              "      <td>NaN</td>\n",
              "      <td>NaN</td>\n",
              "      <td>NaN</td>\n",
              "      <td>NaN</td>\n",
              "      <td>NaN</td>\n",
              "      <td>NaN</td>\n",
              "      <td>NaN</td>\n",
              "      <td>NaN</td>\n",
              "      <td>NaN</td>\n",
              "      <td>NaN</td>\n",
              "      <td>NaN</td>\n",
              "      <td>NaN</td>\n",
              "      <td>NaN</td>\n",
              "      <td>NaN</td>\n",
              "      <td>NaN</td>\n",
              "      <td>NaN</td>\n",
              "      <td>...</td>\n",
              "      <td>NaN</td>\n",
              "      <td>NaN</td>\n",
              "      <td>NaN</td>\n",
              "      <td>NaN</td>\n",
              "      <td>NaN</td>\n",
              "      <td>NaN</td>\n",
              "      <td>NaN</td>\n",
              "      <td>NaN</td>\n",
              "      <td>NaN</td>\n",
              "      <td>NaN</td>\n",
              "      <td>NaN</td>\n",
              "      <td>NaN</td>\n",
              "      <td>NaN</td>\n",
              "      <td>NaN</td>\n",
              "      <td>NaN</td>\n",
              "      <td>NaN</td>\n",
              "      <td>NaN</td>\n",
              "      <td>NaN</td>\n",
              "      <td>NaN</td>\n",
              "      <td>NaN</td>\n",
              "      <td>NaN</td>\n",
              "      <td>NaN</td>\n",
              "      <td>NaN</td>\n",
              "      <td>NaN</td>\n",
              "      <td>NaN</td>\n",
              "      <td>NaN</td>\n",
              "      <td>NaN</td>\n",
              "      <td>NaN</td>\n",
              "      <td>NaN</td>\n",
              "      <td>NaN</td>\n",
              "      <td>NaN</td>\n",
              "      <td>NaN</td>\n",
              "      <td>NaN</td>\n",
              "      <td>NaN</td>\n",
              "      <td>NaN</td>\n",
              "      <td>NaN</td>\n",
              "      <td>NaN</td>\n",
              "      <td>NaN</td>\n",
              "      <td>NaN</td>\n",
              "      <td>NaN</td>\n",
              "    </tr>\n",
              "    <tr>\n",
              "      <th>...</th>\n",
              "      <td>...</td>\n",
              "      <td>...</td>\n",
              "      <td>...</td>\n",
              "      <td>...</td>\n",
              "      <td>...</td>\n",
              "      <td>...</td>\n",
              "      <td>...</td>\n",
              "      <td>...</td>\n",
              "      <td>...</td>\n",
              "      <td>...</td>\n",
              "      <td>...</td>\n",
              "      <td>...</td>\n",
              "      <td>...</td>\n",
              "      <td>...</td>\n",
              "      <td>...</td>\n",
              "      <td>...</td>\n",
              "      <td>...</td>\n",
              "      <td>...</td>\n",
              "      <td>...</td>\n",
              "      <td>...</td>\n",
              "      <td>...</td>\n",
              "      <td>...</td>\n",
              "      <td>...</td>\n",
              "      <td>...</td>\n",
              "      <td>...</td>\n",
              "      <td>...</td>\n",
              "      <td>...</td>\n",
              "      <td>...</td>\n",
              "      <td>...</td>\n",
              "      <td>...</td>\n",
              "      <td>...</td>\n",
              "      <td>...</td>\n",
              "      <td>...</td>\n",
              "      <td>...</td>\n",
              "      <td>...</td>\n",
              "      <td>...</td>\n",
              "      <td>...</td>\n",
              "      <td>...</td>\n",
              "      <td>...</td>\n",
              "      <td>...</td>\n",
              "      <td>...</td>\n",
              "      <td>...</td>\n",
              "      <td>...</td>\n",
              "      <td>...</td>\n",
              "      <td>...</td>\n",
              "      <td>...</td>\n",
              "      <td>...</td>\n",
              "      <td>...</td>\n",
              "      <td>...</td>\n",
              "      <td>...</td>\n",
              "      <td>...</td>\n",
              "      <td>...</td>\n",
              "      <td>...</td>\n",
              "      <td>...</td>\n",
              "      <td>...</td>\n",
              "      <td>...</td>\n",
              "      <td>...</td>\n",
              "      <td>...</td>\n",
              "      <td>...</td>\n",
              "      <td>...</td>\n",
              "      <td>...</td>\n",
              "      <td>...</td>\n",
              "      <td>...</td>\n",
              "      <td>...</td>\n",
              "      <td>...</td>\n",
              "      <td>...</td>\n",
              "      <td>...</td>\n",
              "      <td>...</td>\n",
              "      <td>...</td>\n",
              "      <td>...</td>\n",
              "      <td>...</td>\n",
              "      <td>...</td>\n",
              "      <td>...</td>\n",
              "      <td>...</td>\n",
              "      <td>...</td>\n",
              "      <td>...</td>\n",
              "      <td>...</td>\n",
              "      <td>...</td>\n",
              "      <td>...</td>\n",
              "      <td>...</td>\n",
              "      <td>...</td>\n",
              "    </tr>\n",
              "    <tr>\n",
              "      <th>53403</th>\n",
              "      <td>NaN</td>\n",
              "      <td>NaN</td>\n",
              "      <td>NaN</td>\n",
              "      <td>NaN</td>\n",
              "      <td>NaN</td>\n",
              "      <td>NaN</td>\n",
              "      <td>NaN</td>\n",
              "      <td>NaN</td>\n",
              "      <td>NaN</td>\n",
              "      <td>NaN</td>\n",
              "      <td>NaN</td>\n",
              "      <td>NaN</td>\n",
              "      <td>NaN</td>\n",
              "      <td>NaN</td>\n",
              "      <td>NaN</td>\n",
              "      <td>NaN</td>\n",
              "      <td>NaN</td>\n",
              "      <td>NaN</td>\n",
              "      <td>NaN</td>\n",
              "      <td>NaN</td>\n",
              "      <td>NaN</td>\n",
              "      <td>NaN</td>\n",
              "      <td>NaN</td>\n",
              "      <td>NaN</td>\n",
              "      <td>NaN</td>\n",
              "      <td>NaN</td>\n",
              "      <td>NaN</td>\n",
              "      <td>NaN</td>\n",
              "      <td>NaN</td>\n",
              "      <td>NaN</td>\n",
              "      <td>NaN</td>\n",
              "      <td>NaN</td>\n",
              "      <td>NaN</td>\n",
              "      <td>NaN</td>\n",
              "      <td>NaN</td>\n",
              "      <td>NaN</td>\n",
              "      <td>NaN</td>\n",
              "      <td>NaN</td>\n",
              "      <td>NaN</td>\n",
              "      <td>NaN</td>\n",
              "      <td>...</td>\n",
              "      <td>NaN</td>\n",
              "      <td>NaN</td>\n",
              "      <td>NaN</td>\n",
              "      <td>NaN</td>\n",
              "      <td>NaN</td>\n",
              "      <td>NaN</td>\n",
              "      <td>NaN</td>\n",
              "      <td>NaN</td>\n",
              "      <td>NaN</td>\n",
              "      <td>NaN</td>\n",
              "      <td>NaN</td>\n",
              "      <td>NaN</td>\n",
              "      <td>NaN</td>\n",
              "      <td>NaN</td>\n",
              "      <td>NaN</td>\n",
              "      <td>NaN</td>\n",
              "      <td>NaN</td>\n",
              "      <td>NaN</td>\n",
              "      <td>NaN</td>\n",
              "      <td>NaN</td>\n",
              "      <td>NaN</td>\n",
              "      <td>NaN</td>\n",
              "      <td>NaN</td>\n",
              "      <td>NaN</td>\n",
              "      <td>NaN</td>\n",
              "      <td>NaN</td>\n",
              "      <td>NaN</td>\n",
              "      <td>NaN</td>\n",
              "      <td>NaN</td>\n",
              "      <td>NaN</td>\n",
              "      <td>NaN</td>\n",
              "      <td>NaN</td>\n",
              "      <td>NaN</td>\n",
              "      <td>NaN</td>\n",
              "      <td>NaN</td>\n",
              "      <td>NaN</td>\n",
              "      <td>NaN</td>\n",
              "      <td>NaN</td>\n",
              "      <td>NaN</td>\n",
              "      <td>NaN</td>\n",
              "    </tr>\n",
              "    <tr>\n",
              "      <th>53409</th>\n",
              "      <td>NaN</td>\n",
              "      <td>NaN</td>\n",
              "      <td>NaN</td>\n",
              "      <td>NaN</td>\n",
              "      <td>NaN</td>\n",
              "      <td>NaN</td>\n",
              "      <td>NaN</td>\n",
              "      <td>NaN</td>\n",
              "      <td>NaN</td>\n",
              "      <td>NaN</td>\n",
              "      <td>NaN</td>\n",
              "      <td>NaN</td>\n",
              "      <td>NaN</td>\n",
              "      <td>NaN</td>\n",
              "      <td>NaN</td>\n",
              "      <td>NaN</td>\n",
              "      <td>NaN</td>\n",
              "      <td>NaN</td>\n",
              "      <td>NaN</td>\n",
              "      <td>NaN</td>\n",
              "      <td>NaN</td>\n",
              "      <td>NaN</td>\n",
              "      <td>NaN</td>\n",
              "      <td>NaN</td>\n",
              "      <td>NaN</td>\n",
              "      <td>NaN</td>\n",
              "      <td>NaN</td>\n",
              "      <td>NaN</td>\n",
              "      <td>NaN</td>\n",
              "      <td>NaN</td>\n",
              "      <td>NaN</td>\n",
              "      <td>NaN</td>\n",
              "      <td>NaN</td>\n",
              "      <td>NaN</td>\n",
              "      <td>NaN</td>\n",
              "      <td>NaN</td>\n",
              "      <td>NaN</td>\n",
              "      <td>NaN</td>\n",
              "      <td>NaN</td>\n",
              "      <td>NaN</td>\n",
              "      <td>...</td>\n",
              "      <td>NaN</td>\n",
              "      <td>NaN</td>\n",
              "      <td>NaN</td>\n",
              "      <td>NaN</td>\n",
              "      <td>NaN</td>\n",
              "      <td>NaN</td>\n",
              "      <td>NaN</td>\n",
              "      <td>NaN</td>\n",
              "      <td>NaN</td>\n",
              "      <td>NaN</td>\n",
              "      <td>NaN</td>\n",
              "      <td>NaN</td>\n",
              "      <td>NaN</td>\n",
              "      <td>NaN</td>\n",
              "      <td>NaN</td>\n",
              "      <td>5.0</td>\n",
              "      <td>NaN</td>\n",
              "      <td>NaN</td>\n",
              "      <td>NaN</td>\n",
              "      <td>NaN</td>\n",
              "      <td>NaN</td>\n",
              "      <td>NaN</td>\n",
              "      <td>NaN</td>\n",
              "      <td>NaN</td>\n",
              "      <td>NaN</td>\n",
              "      <td>NaN</td>\n",
              "      <td>NaN</td>\n",
              "      <td>NaN</td>\n",
              "      <td>NaN</td>\n",
              "      <td>NaN</td>\n",
              "      <td>NaN</td>\n",
              "      <td>NaN</td>\n",
              "      <td>NaN</td>\n",
              "      <td>NaN</td>\n",
              "      <td>NaN</td>\n",
              "      <td>NaN</td>\n",
              "      <td>NaN</td>\n",
              "      <td>NaN</td>\n",
              "      <td>NaN</td>\n",
              "      <td>NaN</td>\n",
              "    </tr>\n",
              "    <tr>\n",
              "      <th>53411</th>\n",
              "      <td>NaN</td>\n",
              "      <td>NaN</td>\n",
              "      <td>NaN</td>\n",
              "      <td>NaN</td>\n",
              "      <td>NaN</td>\n",
              "      <td>NaN</td>\n",
              "      <td>NaN</td>\n",
              "      <td>NaN</td>\n",
              "      <td>NaN</td>\n",
              "      <td>NaN</td>\n",
              "      <td>NaN</td>\n",
              "      <td>NaN</td>\n",
              "      <td>NaN</td>\n",
              "      <td>NaN</td>\n",
              "      <td>NaN</td>\n",
              "      <td>NaN</td>\n",
              "      <td>NaN</td>\n",
              "      <td>NaN</td>\n",
              "      <td>NaN</td>\n",
              "      <td>NaN</td>\n",
              "      <td>NaN</td>\n",
              "      <td>NaN</td>\n",
              "      <td>NaN</td>\n",
              "      <td>NaN</td>\n",
              "      <td>NaN</td>\n",
              "      <td>NaN</td>\n",
              "      <td>NaN</td>\n",
              "      <td>NaN</td>\n",
              "      <td>NaN</td>\n",
              "      <td>NaN</td>\n",
              "      <td>NaN</td>\n",
              "      <td>NaN</td>\n",
              "      <td>NaN</td>\n",
              "      <td>NaN</td>\n",
              "      <td>NaN</td>\n",
              "      <td>NaN</td>\n",
              "      <td>NaN</td>\n",
              "      <td>NaN</td>\n",
              "      <td>NaN</td>\n",
              "      <td>NaN</td>\n",
              "      <td>...</td>\n",
              "      <td>NaN</td>\n",
              "      <td>NaN</td>\n",
              "      <td>NaN</td>\n",
              "      <td>NaN</td>\n",
              "      <td>NaN</td>\n",
              "      <td>NaN</td>\n",
              "      <td>NaN</td>\n",
              "      <td>NaN</td>\n",
              "      <td>NaN</td>\n",
              "      <td>NaN</td>\n",
              "      <td>NaN</td>\n",
              "      <td>NaN</td>\n",
              "      <td>NaN</td>\n",
              "      <td>NaN</td>\n",
              "      <td>NaN</td>\n",
              "      <td>NaN</td>\n",
              "      <td>NaN</td>\n",
              "      <td>NaN</td>\n",
              "      <td>NaN</td>\n",
              "      <td>NaN</td>\n",
              "      <td>NaN</td>\n",
              "      <td>NaN</td>\n",
              "      <td>NaN</td>\n",
              "      <td>NaN</td>\n",
              "      <td>NaN</td>\n",
              "      <td>NaN</td>\n",
              "      <td>NaN</td>\n",
              "      <td>NaN</td>\n",
              "      <td>NaN</td>\n",
              "      <td>NaN</td>\n",
              "      <td>NaN</td>\n",
              "      <td>NaN</td>\n",
              "      <td>NaN</td>\n",
              "      <td>NaN</td>\n",
              "      <td>NaN</td>\n",
              "      <td>NaN</td>\n",
              "      <td>NaN</td>\n",
              "      <td>NaN</td>\n",
              "      <td>NaN</td>\n",
              "      <td>NaN</td>\n",
              "    </tr>\n",
              "    <tr>\n",
              "      <th>53413</th>\n",
              "      <td>NaN</td>\n",
              "      <td>NaN</td>\n",
              "      <td>NaN</td>\n",
              "      <td>NaN</td>\n",
              "      <td>NaN</td>\n",
              "      <td>NaN</td>\n",
              "      <td>NaN</td>\n",
              "      <td>NaN</td>\n",
              "      <td>NaN</td>\n",
              "      <td>NaN</td>\n",
              "      <td>NaN</td>\n",
              "      <td>NaN</td>\n",
              "      <td>NaN</td>\n",
              "      <td>NaN</td>\n",
              "      <td>NaN</td>\n",
              "      <td>NaN</td>\n",
              "      <td>NaN</td>\n",
              "      <td>NaN</td>\n",
              "      <td>NaN</td>\n",
              "      <td>NaN</td>\n",
              "      <td>NaN</td>\n",
              "      <td>NaN</td>\n",
              "      <td>NaN</td>\n",
              "      <td>NaN</td>\n",
              "      <td>NaN</td>\n",
              "      <td>NaN</td>\n",
              "      <td>NaN</td>\n",
              "      <td>NaN</td>\n",
              "      <td>NaN</td>\n",
              "      <td>NaN</td>\n",
              "      <td>NaN</td>\n",
              "      <td>NaN</td>\n",
              "      <td>NaN</td>\n",
              "      <td>NaN</td>\n",
              "      <td>NaN</td>\n",
              "      <td>NaN</td>\n",
              "      <td>NaN</td>\n",
              "      <td>NaN</td>\n",
              "      <td>NaN</td>\n",
              "      <td>NaN</td>\n",
              "      <td>...</td>\n",
              "      <td>NaN</td>\n",
              "      <td>NaN</td>\n",
              "      <td>NaN</td>\n",
              "      <td>NaN</td>\n",
              "      <td>NaN</td>\n",
              "      <td>NaN</td>\n",
              "      <td>NaN</td>\n",
              "      <td>NaN</td>\n",
              "      <td>NaN</td>\n",
              "      <td>NaN</td>\n",
              "      <td>NaN</td>\n",
              "      <td>NaN</td>\n",
              "      <td>NaN</td>\n",
              "      <td>NaN</td>\n",
              "      <td>NaN</td>\n",
              "      <td>NaN</td>\n",
              "      <td>NaN</td>\n",
              "      <td>NaN</td>\n",
              "      <td>NaN</td>\n",
              "      <td>NaN</td>\n",
              "      <td>NaN</td>\n",
              "      <td>NaN</td>\n",
              "      <td>NaN</td>\n",
              "      <td>NaN</td>\n",
              "      <td>NaN</td>\n",
              "      <td>NaN</td>\n",
              "      <td>NaN</td>\n",
              "      <td>NaN</td>\n",
              "      <td>NaN</td>\n",
              "      <td>NaN</td>\n",
              "      <td>NaN</td>\n",
              "      <td>NaN</td>\n",
              "      <td>NaN</td>\n",
              "      <td>NaN</td>\n",
              "      <td>NaN</td>\n",
              "      <td>NaN</td>\n",
              "      <td>NaN</td>\n",
              "      <td>NaN</td>\n",
              "      <td>NaN</td>\n",
              "      <td>NaN</td>\n",
              "    </tr>\n",
              "    <tr>\n",
              "      <th>55000</th>\n",
              "      <td>NaN</td>\n",
              "      <td>NaN</td>\n",
              "      <td>NaN</td>\n",
              "      <td>NaN</td>\n",
              "      <td>NaN</td>\n",
              "      <td>NaN</td>\n",
              "      <td>NaN</td>\n",
              "      <td>NaN</td>\n",
              "      <td>NaN</td>\n",
              "      <td>NaN</td>\n",
              "      <td>NaN</td>\n",
              "      <td>NaN</td>\n",
              "      <td>NaN</td>\n",
              "      <td>NaN</td>\n",
              "      <td>NaN</td>\n",
              "      <td>NaN</td>\n",
              "      <td>NaN</td>\n",
              "      <td>NaN</td>\n",
              "      <td>NaN</td>\n",
              "      <td>NaN</td>\n",
              "      <td>NaN</td>\n",
              "      <td>NaN</td>\n",
              "      <td>NaN</td>\n",
              "      <td>5.0</td>\n",
              "      <td>NaN</td>\n",
              "      <td>NaN</td>\n",
              "      <td>NaN</td>\n",
              "      <td>NaN</td>\n",
              "      <td>NaN</td>\n",
              "      <td>NaN</td>\n",
              "      <td>NaN</td>\n",
              "      <td>NaN</td>\n",
              "      <td>NaN</td>\n",
              "      <td>NaN</td>\n",
              "      <td>NaN</td>\n",
              "      <td>NaN</td>\n",
              "      <td>NaN</td>\n",
              "      <td>NaN</td>\n",
              "      <td>NaN</td>\n",
              "      <td>NaN</td>\n",
              "      <td>...</td>\n",
              "      <td>NaN</td>\n",
              "      <td>NaN</td>\n",
              "      <td>NaN</td>\n",
              "      <td>NaN</td>\n",
              "      <td>NaN</td>\n",
              "      <td>NaN</td>\n",
              "      <td>NaN</td>\n",
              "      <td>NaN</td>\n",
              "      <td>NaN</td>\n",
              "      <td>NaN</td>\n",
              "      <td>NaN</td>\n",
              "      <td>NaN</td>\n",
              "      <td>NaN</td>\n",
              "      <td>NaN</td>\n",
              "      <td>NaN</td>\n",
              "      <td>NaN</td>\n",
              "      <td>NaN</td>\n",
              "      <td>NaN</td>\n",
              "      <td>NaN</td>\n",
              "      <td>NaN</td>\n",
              "      <td>NaN</td>\n",
              "      <td>NaN</td>\n",
              "      <td>NaN</td>\n",
              "      <td>NaN</td>\n",
              "      <td>NaN</td>\n",
              "      <td>NaN</td>\n",
              "      <td>NaN</td>\n",
              "      <td>NaN</td>\n",
              "      <td>NaN</td>\n",
              "      <td>NaN</td>\n",
              "      <td>NaN</td>\n",
              "      <td>NaN</td>\n",
              "      <td>NaN</td>\n",
              "      <td>NaN</td>\n",
              "      <td>NaN</td>\n",
              "      <td>NaN</td>\n",
              "      <td>NaN</td>\n",
              "      <td>NaN</td>\n",
              "      <td>NaN</td>\n",
              "      <td>NaN</td>\n",
              "    </tr>\n",
              "  </tbody>\n",
              "</table>\n",
              "<p>13971 rows × 8854 columns</p>\n",
              "</div>"
            ],
            "text/plain": [
              "                            rating                         ...                      \n",
              "title    Angels (Walsh Family, #3) #GIRLBOSS 'Salem's Lot  ... هيبتا يوتوبيا ڤيرتيجو\n",
              "user_id                                                    ...                      \n",
              "7                              NaN       NaN          NaN  ...   NaN     NaN     NaN\n",
              "19                             NaN       NaN          NaN  ...   NaN     NaN     NaN\n",
              "23                             NaN       NaN          NaN  ...   NaN     NaN     NaN\n",
              "27                             NaN       NaN          NaN  ...   NaN     NaN     NaN\n",
              "35                             NaN       NaN          NaN  ...   NaN     NaN     NaN\n",
              "...                            ...       ...          ...  ...   ...     ...     ...\n",
              "53403                          NaN       NaN          NaN  ...   NaN     NaN     NaN\n",
              "53409                          NaN       NaN          NaN  ...   NaN     NaN     NaN\n",
              "53411                          NaN       NaN          NaN  ...   NaN     NaN     NaN\n",
              "53413                          NaN       NaN          NaN  ...   NaN     NaN     NaN\n",
              "55000                          NaN       NaN          NaN  ...   NaN     NaN     NaN\n",
              "\n",
              "[13971 rows x 8854 columns]"
            ]
          },
          "execution_count": 99,
          "metadata": {
            "tags": []
          },
          "output_type": "execute_result"
        }
      ]
    },
    {
      "cell_type": "code",
      "metadata": {
        "colab": {
          "base_uri": "https://localhost:8080/"
        },
        "id": "Mn1JxAlxWr1W",
        "outputId": "f5ecaaf6-4bd4-4a8f-9c06-eb4f3bdff87a"
      },
      "source": [
        "userByBook.shape"
      ],
      "execution_count": null,
      "outputs": [
        {
          "data": {
            "text/plain": [
              "(13971, 8854)"
            ]
          },
          "execution_count": 100,
          "metadata": {
            "tags": []
          },
          "output_type": "execute_result"
        }
      ]
    },
    {
      "cell_type": "code",
      "metadata": {
        "id": "1gq9GpnTWr1X"
      },
      "source": [
        "# Removing level in columns\n",
        "userByBook.columns = userByBook.columns.droplevel(0)"
      ],
      "execution_count": null,
      "outputs": []
    },
    {
      "cell_type": "markdown",
      "metadata": {
        "id": "8n-GiEI2Wr1X"
      },
      "source": [
        "The goal in item-based collaborative filtering is to score the similarity between book pairs, based on the ratings they have received by the pool of users. To obtain a matrix in which each rows and columns will represent a single book and the values in the matrix represent the similarity between them, I have used the corr() function, which computes pairwise correlation of columns, excluding NA values, using Pearson as default method."
      ]
    },
    {
      "cell_type": "markdown",
      "metadata": {
        "id": "eEZViLOVWr1Y"
      },
      "source": [
        "In order to get better recommendations and avoid that not very relevant books will pop up in the Top-N list, I have played with the min_periods parameter within the corr() function, which allows to drop from the correlation computation all the books that are not supported by at least a certain number of people that rated both titles.\n",
        "I have set the parameter to 50, 40 and 30 with the intent of having a look at the three of them and see which one looks more reliable."
      ]
    },
    {
      "cell_type": "code",
      "metadata": {
        "id": "D5cnKEW7Wr1Y"
      },
      "source": [
        "# Attempt number 2, using min_periods = 50\n",
        "corrMatrix50 = userByBook.corr(method = 'pearson', min_periods = 50)"
      ],
      "execution_count": null,
      "outputs": []
    },
    {
      "cell_type": "code",
      "metadata": {
        "colab": {
          "base_uri": "https://localhost:8080/"
        },
        "id": "c2aT3-ulWr1Y",
        "outputId": "6f6c231d-f8bc-4959-a74a-5198fbb0e03f"
      },
      "source": [
        "corrMatrix50"
      ],
      "execution_count": null,
      "outputs": [
        {
          "data": {
            "text/html": [
              "<div>\n",
              "<style scoped>\n",
              "    .dataframe tbody tr th:only-of-type {\n",
              "        vertical-align: middle;\n",
              "    }\n",
              "\n",
              "    .dataframe tbody tr th {\n",
              "        vertical-align: top;\n",
              "    }\n",
              "\n",
              "    .dataframe thead th {\n",
              "        text-align: right;\n",
              "    }\n",
              "</style>\n",
              "<table border=\"1\" class=\"dataframe\">\n",
              "  <thead>\n",
              "    <tr style=\"text-align: right;\">\n",
              "      <th>title</th>\n",
              "      <th>Angels (Walsh Family, #3)</th>\n",
              "      <th>#GIRLBOSS</th>\n",
              "      <th>'Salem's Lot</th>\n",
              "      <th>'Tis (Frank McCourt, #2)</th>\n",
              "      <th>1,000 Places to See Before You Die</th>\n",
              "      <th>10% Happier: How I Tamed the Voice in My Head, Reduced Stress Without Losing My Edge, and Found Self-Help That Actually Works</th>\n",
              "      <th>100 Bullets, Vol. 1: First Shot, Last Call</th>\n",
              "      <th>100 Love Sonnets</th>\n",
              "      <th>100 Selected Poems</th>\n",
              "      <th>10th Anniversary (Women's Murder Club, #10)</th>\n",
              "      <th>11 Birthdays (Willow Falls, #1)</th>\n",
              "      <th>11/22/63</th>\n",
              "      <th>11th Hour (Women's Murder Club, #11)</th>\n",
              "      <th>12th of Never (Women's Murder Club, #12)</th>\n",
              "      <th>13 Little Blue Envelopes (Little Blue Envelope, #1)</th>\n",
              "      <th>14</th>\n",
              "      <th>1421: The Year China Discovered America</th>\n",
              "      <th>1491: New Revelations of the Americas Before Columbus</th>\n",
              "      <th>1493: Uncovering the New World Columbus Created</th>\n",
              "      <th>14th Deadly Sin (Women’s Murder Club, #14)</th>\n",
              "      <th>15th Affair (Women's Murder Club #15)</th>\n",
              "      <th>1776</th>\n",
              "      <th>1919</th>\n",
              "      <th>1984</th>\n",
              "      <th>1Q84</th>\n",
              "      <th>1Q84 BOOK 1 (1Q84, #1)</th>\n",
              "      <th>1st to Die (Women's Murder Club, #1)</th>\n",
              "      <th>2 States: The Story of My Marriage</th>\n",
              "      <th>2001: A Space Odyssey (Space Odyssey, #1)</th>\n",
              "      <th>2010: Odyssey Two (Space Odyssey, #2)</th>\n",
              "      <th>206 Bones (Temperance Brennan, #12)</th>\n",
              "      <th>2061: Odyssey Three (Space Odyssey, #3)</th>\n",
              "      <th>20th Century Ghosts</th>\n",
              "      <th>2312</th>\n",
              "      <th>2666</th>\n",
              "      <th>2BR02B</th>\n",
              "      <th>2nd Chance (Women's Murder Club, #2)</th>\n",
              "      <th>30 Days of Night, Vol. 1</th>\n",
              "      <th>300</th>\n",
              "      <th>3001: The Final Odyssey (Space Odyssey, #4)</th>\n",
              "      <th>...</th>\n",
              "      <th>You Belong To Me</th>\n",
              "      <th>You Can Heal Your Life</th>\n",
              "      <th>You Don't Have to Say You Love Me</th>\n",
              "      <th>You Know You Love Me (Gossip Girl, #2)</th>\n",
              "      <th>You Shall Know Our Velocity!</th>\n",
              "      <th>You Slay Me (Aisling Grey #1)</th>\n",
              "      <th>You Suck (A Love Story, #2)</th>\n",
              "      <th>You Were Mine (Rosemary Beach, #9)</th>\n",
              "      <th>You Will Know Me</th>\n",
              "      <th>You'll Grow Out of It</th>\n",
              "      <th>You're Never Weird on the Internet (Almost)</th>\n",
              "      <th>You've Been Warned</th>\n",
              "      <th>Your Heart Belongs to Me</th>\n",
              "      <th>Your Inner Fish: A Journey into the 3.5-Billion-Year History of the Human Body</th>\n",
              "      <th>Z for Zachariah</th>\n",
              "      <th>Z: A Novel of Zelda Fitzgerald</th>\n",
              "      <th>Zealot: The Life and Times of Jesus of Nazareth</th>\n",
              "      <th>Zeitoun</th>\n",
              "      <th>Zen Mind, Beginner's Mind: Informal Talks on Zen Meditation and Practice</th>\n",
              "      <th>Zen and the Art of Motorcycle Maintenance: An Inquiry Into Values</th>\n",
              "      <th>Zero Day (John Puller, #1)</th>\n",
              "      <th>Zero History (Blue Ant, #3)</th>\n",
              "      <th>Zero to One: Notes on Startups, or How to Build the Future</th>\n",
              "      <th>Zodiac</th>\n",
              "      <th>Zoe's Tale (Old Man's War, #4)</th>\n",
              "      <th>Zone One</th>\n",
              "      <th>Zoo</th>\n",
              "      <th>Zorba the Greek</th>\n",
              "      <th>Zorro</th>\n",
              "      <th>for colored girls who have considered suicide/when the rainbow is enuf</th>\n",
              "      <th>god is Not Great: How Religion Poisons Everything</th>\n",
              "      <th>number9dream</th>\n",
              "      <th>sTORI Telling</th>\n",
              "      <th>xxxHolic, Vol. 1 (xxxHOLiC, #1)</th>\n",
              "      <th>الفيل الأزرق</th>\n",
              "      <th>تراب الماس</th>\n",
              "      <th>عزازيل</th>\n",
              "      <th>هيبتا</th>\n",
              "      <th>يوتوبيا</th>\n",
              "      <th>ڤيرتيجو</th>\n",
              "    </tr>\n",
              "    <tr>\n",
              "      <th>title</th>\n",
              "      <th></th>\n",
              "      <th></th>\n",
              "      <th></th>\n",
              "      <th></th>\n",
              "      <th></th>\n",
              "      <th></th>\n",
              "      <th></th>\n",
              "      <th></th>\n",
              "      <th></th>\n",
              "      <th></th>\n",
              "      <th></th>\n",
              "      <th></th>\n",
              "      <th></th>\n",
              "      <th></th>\n",
              "      <th></th>\n",
              "      <th></th>\n",
              "      <th></th>\n",
              "      <th></th>\n",
              "      <th></th>\n",
              "      <th></th>\n",
              "      <th></th>\n",
              "      <th></th>\n",
              "      <th></th>\n",
              "      <th></th>\n",
              "      <th></th>\n",
              "      <th></th>\n",
              "      <th></th>\n",
              "      <th></th>\n",
              "      <th></th>\n",
              "      <th></th>\n",
              "      <th></th>\n",
              "      <th></th>\n",
              "      <th></th>\n",
              "      <th></th>\n",
              "      <th></th>\n",
              "      <th></th>\n",
              "      <th></th>\n",
              "      <th></th>\n",
              "      <th></th>\n",
              "      <th></th>\n",
              "      <th></th>\n",
              "      <th></th>\n",
              "      <th></th>\n",
              "      <th></th>\n",
              "      <th></th>\n",
              "      <th></th>\n",
              "      <th></th>\n",
              "      <th></th>\n",
              "      <th></th>\n",
              "      <th></th>\n",
              "      <th></th>\n",
              "      <th></th>\n",
              "      <th></th>\n",
              "      <th></th>\n",
              "      <th></th>\n",
              "      <th></th>\n",
              "      <th></th>\n",
              "      <th></th>\n",
              "      <th></th>\n",
              "      <th></th>\n",
              "      <th></th>\n",
              "      <th></th>\n",
              "      <th></th>\n",
              "      <th></th>\n",
              "      <th></th>\n",
              "      <th></th>\n",
              "      <th></th>\n",
              "      <th></th>\n",
              "      <th></th>\n",
              "      <th></th>\n",
              "      <th></th>\n",
              "      <th></th>\n",
              "      <th></th>\n",
              "      <th></th>\n",
              "      <th></th>\n",
              "      <th></th>\n",
              "      <th></th>\n",
              "      <th></th>\n",
              "      <th></th>\n",
              "      <th></th>\n",
              "      <th></th>\n",
              "    </tr>\n",
              "  </thead>\n",
              "  <tbody>\n",
              "    <tr>\n",
              "      <th>Angels (Walsh Family, #3)</th>\n",
              "      <td>1.0</td>\n",
              "      <td>NaN</td>\n",
              "      <td>NaN</td>\n",
              "      <td>NaN</td>\n",
              "      <td>NaN</td>\n",
              "      <td>NaN</td>\n",
              "      <td>NaN</td>\n",
              "      <td>NaN</td>\n",
              "      <td>NaN</td>\n",
              "      <td>NaN</td>\n",
              "      <td>NaN</td>\n",
              "      <td>NaN</td>\n",
              "      <td>NaN</td>\n",
              "      <td>NaN</td>\n",
              "      <td>NaN</td>\n",
              "      <td>NaN</td>\n",
              "      <td>NaN</td>\n",
              "      <td>NaN</td>\n",
              "      <td>NaN</td>\n",
              "      <td>NaN</td>\n",
              "      <td>NaN</td>\n",
              "      <td>NaN</td>\n",
              "      <td>NaN</td>\n",
              "      <td>NaN</td>\n",
              "      <td>NaN</td>\n",
              "      <td>NaN</td>\n",
              "      <td>NaN</td>\n",
              "      <td>NaN</td>\n",
              "      <td>NaN</td>\n",
              "      <td>NaN</td>\n",
              "      <td>NaN</td>\n",
              "      <td>NaN</td>\n",
              "      <td>NaN</td>\n",
              "      <td>NaN</td>\n",
              "      <td>NaN</td>\n",
              "      <td>NaN</td>\n",
              "      <td>NaN</td>\n",
              "      <td>NaN</td>\n",
              "      <td>NaN</td>\n",
              "      <td>NaN</td>\n",
              "      <td>...</td>\n",
              "      <td>NaN</td>\n",
              "      <td>NaN</td>\n",
              "      <td>NaN</td>\n",
              "      <td>NaN</td>\n",
              "      <td>NaN</td>\n",
              "      <td>NaN</td>\n",
              "      <td>NaN</td>\n",
              "      <td>NaN</td>\n",
              "      <td>NaN</td>\n",
              "      <td>NaN</td>\n",
              "      <td>NaN</td>\n",
              "      <td>NaN</td>\n",
              "      <td>NaN</td>\n",
              "      <td>NaN</td>\n",
              "      <td>NaN</td>\n",
              "      <td>NaN</td>\n",
              "      <td>NaN</td>\n",
              "      <td>NaN</td>\n",
              "      <td>NaN</td>\n",
              "      <td>NaN</td>\n",
              "      <td>NaN</td>\n",
              "      <td>NaN</td>\n",
              "      <td>NaN</td>\n",
              "      <td>NaN</td>\n",
              "      <td>NaN</td>\n",
              "      <td>NaN</td>\n",
              "      <td>NaN</td>\n",
              "      <td>NaN</td>\n",
              "      <td>NaN</td>\n",
              "      <td>NaN</td>\n",
              "      <td>NaN</td>\n",
              "      <td>NaN</td>\n",
              "      <td>NaN</td>\n",
              "      <td>NaN</td>\n",
              "      <td>NaN</td>\n",
              "      <td>NaN</td>\n",
              "      <td>NaN</td>\n",
              "      <td>NaN</td>\n",
              "      <td>NaN</td>\n",
              "      <td>NaN</td>\n",
              "    </tr>\n",
              "    <tr>\n",
              "      <th>#GIRLBOSS</th>\n",
              "      <td>NaN</td>\n",
              "      <td>NaN</td>\n",
              "      <td>NaN</td>\n",
              "      <td>NaN</td>\n",
              "      <td>NaN</td>\n",
              "      <td>NaN</td>\n",
              "      <td>NaN</td>\n",
              "      <td>NaN</td>\n",
              "      <td>NaN</td>\n",
              "      <td>NaN</td>\n",
              "      <td>NaN</td>\n",
              "      <td>NaN</td>\n",
              "      <td>NaN</td>\n",
              "      <td>NaN</td>\n",
              "      <td>NaN</td>\n",
              "      <td>NaN</td>\n",
              "      <td>NaN</td>\n",
              "      <td>NaN</td>\n",
              "      <td>NaN</td>\n",
              "      <td>NaN</td>\n",
              "      <td>NaN</td>\n",
              "      <td>NaN</td>\n",
              "      <td>NaN</td>\n",
              "      <td>NaN</td>\n",
              "      <td>NaN</td>\n",
              "      <td>NaN</td>\n",
              "      <td>NaN</td>\n",
              "      <td>NaN</td>\n",
              "      <td>NaN</td>\n",
              "      <td>NaN</td>\n",
              "      <td>NaN</td>\n",
              "      <td>NaN</td>\n",
              "      <td>NaN</td>\n",
              "      <td>NaN</td>\n",
              "      <td>NaN</td>\n",
              "      <td>NaN</td>\n",
              "      <td>NaN</td>\n",
              "      <td>NaN</td>\n",
              "      <td>NaN</td>\n",
              "      <td>NaN</td>\n",
              "      <td>...</td>\n",
              "      <td>NaN</td>\n",
              "      <td>NaN</td>\n",
              "      <td>NaN</td>\n",
              "      <td>NaN</td>\n",
              "      <td>NaN</td>\n",
              "      <td>NaN</td>\n",
              "      <td>NaN</td>\n",
              "      <td>NaN</td>\n",
              "      <td>NaN</td>\n",
              "      <td>NaN</td>\n",
              "      <td>NaN</td>\n",
              "      <td>NaN</td>\n",
              "      <td>NaN</td>\n",
              "      <td>NaN</td>\n",
              "      <td>NaN</td>\n",
              "      <td>NaN</td>\n",
              "      <td>NaN</td>\n",
              "      <td>NaN</td>\n",
              "      <td>NaN</td>\n",
              "      <td>NaN</td>\n",
              "      <td>NaN</td>\n",
              "      <td>NaN</td>\n",
              "      <td>NaN</td>\n",
              "      <td>NaN</td>\n",
              "      <td>NaN</td>\n",
              "      <td>NaN</td>\n",
              "      <td>NaN</td>\n",
              "      <td>NaN</td>\n",
              "      <td>NaN</td>\n",
              "      <td>NaN</td>\n",
              "      <td>NaN</td>\n",
              "      <td>NaN</td>\n",
              "      <td>NaN</td>\n",
              "      <td>NaN</td>\n",
              "      <td>NaN</td>\n",
              "      <td>NaN</td>\n",
              "      <td>NaN</td>\n",
              "      <td>NaN</td>\n",
              "      <td>NaN</td>\n",
              "      <td>NaN</td>\n",
              "    </tr>\n",
              "    <tr>\n",
              "      <th>'Salem's Lot</th>\n",
              "      <td>NaN</td>\n",
              "      <td>NaN</td>\n",
              "      <td>1.0</td>\n",
              "      <td>NaN</td>\n",
              "      <td>NaN</td>\n",
              "      <td>NaN</td>\n",
              "      <td>NaN</td>\n",
              "      <td>NaN</td>\n",
              "      <td>NaN</td>\n",
              "      <td>NaN</td>\n",
              "      <td>NaN</td>\n",
              "      <td>NaN</td>\n",
              "      <td>NaN</td>\n",
              "      <td>NaN</td>\n",
              "      <td>NaN</td>\n",
              "      <td>NaN</td>\n",
              "      <td>NaN</td>\n",
              "      <td>NaN</td>\n",
              "      <td>NaN</td>\n",
              "      <td>NaN</td>\n",
              "      <td>NaN</td>\n",
              "      <td>NaN</td>\n",
              "      <td>NaN</td>\n",
              "      <td>NaN</td>\n",
              "      <td>NaN</td>\n",
              "      <td>NaN</td>\n",
              "      <td>NaN</td>\n",
              "      <td>NaN</td>\n",
              "      <td>NaN</td>\n",
              "      <td>NaN</td>\n",
              "      <td>NaN</td>\n",
              "      <td>NaN</td>\n",
              "      <td>NaN</td>\n",
              "      <td>NaN</td>\n",
              "      <td>NaN</td>\n",
              "      <td>NaN</td>\n",
              "      <td>NaN</td>\n",
              "      <td>NaN</td>\n",
              "      <td>NaN</td>\n",
              "      <td>NaN</td>\n",
              "      <td>...</td>\n",
              "      <td>NaN</td>\n",
              "      <td>NaN</td>\n",
              "      <td>NaN</td>\n",
              "      <td>NaN</td>\n",
              "      <td>NaN</td>\n",
              "      <td>NaN</td>\n",
              "      <td>NaN</td>\n",
              "      <td>NaN</td>\n",
              "      <td>NaN</td>\n",
              "      <td>NaN</td>\n",
              "      <td>NaN</td>\n",
              "      <td>NaN</td>\n",
              "      <td>NaN</td>\n",
              "      <td>NaN</td>\n",
              "      <td>NaN</td>\n",
              "      <td>NaN</td>\n",
              "      <td>NaN</td>\n",
              "      <td>NaN</td>\n",
              "      <td>NaN</td>\n",
              "      <td>NaN</td>\n",
              "      <td>NaN</td>\n",
              "      <td>NaN</td>\n",
              "      <td>NaN</td>\n",
              "      <td>NaN</td>\n",
              "      <td>NaN</td>\n",
              "      <td>NaN</td>\n",
              "      <td>NaN</td>\n",
              "      <td>NaN</td>\n",
              "      <td>NaN</td>\n",
              "      <td>NaN</td>\n",
              "      <td>NaN</td>\n",
              "      <td>NaN</td>\n",
              "      <td>NaN</td>\n",
              "      <td>NaN</td>\n",
              "      <td>NaN</td>\n",
              "      <td>NaN</td>\n",
              "      <td>NaN</td>\n",
              "      <td>NaN</td>\n",
              "      <td>NaN</td>\n",
              "      <td>NaN</td>\n",
              "    </tr>\n",
              "    <tr>\n",
              "      <th>'Tis (Frank McCourt, #2)</th>\n",
              "      <td>NaN</td>\n",
              "      <td>NaN</td>\n",
              "      <td>NaN</td>\n",
              "      <td>1.0</td>\n",
              "      <td>NaN</td>\n",
              "      <td>NaN</td>\n",
              "      <td>NaN</td>\n",
              "      <td>NaN</td>\n",
              "      <td>NaN</td>\n",
              "      <td>NaN</td>\n",
              "      <td>NaN</td>\n",
              "      <td>NaN</td>\n",
              "      <td>NaN</td>\n",
              "      <td>NaN</td>\n",
              "      <td>NaN</td>\n",
              "      <td>NaN</td>\n",
              "      <td>NaN</td>\n",
              "      <td>NaN</td>\n",
              "      <td>NaN</td>\n",
              "      <td>NaN</td>\n",
              "      <td>NaN</td>\n",
              "      <td>NaN</td>\n",
              "      <td>NaN</td>\n",
              "      <td>NaN</td>\n",
              "      <td>NaN</td>\n",
              "      <td>NaN</td>\n",
              "      <td>NaN</td>\n",
              "      <td>NaN</td>\n",
              "      <td>NaN</td>\n",
              "      <td>NaN</td>\n",
              "      <td>NaN</td>\n",
              "      <td>NaN</td>\n",
              "      <td>NaN</td>\n",
              "      <td>NaN</td>\n",
              "      <td>NaN</td>\n",
              "      <td>NaN</td>\n",
              "      <td>NaN</td>\n",
              "      <td>NaN</td>\n",
              "      <td>NaN</td>\n",
              "      <td>NaN</td>\n",
              "      <td>...</td>\n",
              "      <td>NaN</td>\n",
              "      <td>NaN</td>\n",
              "      <td>NaN</td>\n",
              "      <td>NaN</td>\n",
              "      <td>NaN</td>\n",
              "      <td>NaN</td>\n",
              "      <td>NaN</td>\n",
              "      <td>NaN</td>\n",
              "      <td>NaN</td>\n",
              "      <td>NaN</td>\n",
              "      <td>NaN</td>\n",
              "      <td>NaN</td>\n",
              "      <td>NaN</td>\n",
              "      <td>NaN</td>\n",
              "      <td>NaN</td>\n",
              "      <td>NaN</td>\n",
              "      <td>NaN</td>\n",
              "      <td>NaN</td>\n",
              "      <td>NaN</td>\n",
              "      <td>NaN</td>\n",
              "      <td>NaN</td>\n",
              "      <td>NaN</td>\n",
              "      <td>NaN</td>\n",
              "      <td>NaN</td>\n",
              "      <td>NaN</td>\n",
              "      <td>NaN</td>\n",
              "      <td>NaN</td>\n",
              "      <td>NaN</td>\n",
              "      <td>NaN</td>\n",
              "      <td>NaN</td>\n",
              "      <td>NaN</td>\n",
              "      <td>NaN</td>\n",
              "      <td>NaN</td>\n",
              "      <td>NaN</td>\n",
              "      <td>NaN</td>\n",
              "      <td>NaN</td>\n",
              "      <td>NaN</td>\n",
              "      <td>NaN</td>\n",
              "      <td>NaN</td>\n",
              "      <td>NaN</td>\n",
              "    </tr>\n",
              "    <tr>\n",
              "      <th>1,000 Places to See Before You Die</th>\n",
              "      <td>NaN</td>\n",
              "      <td>NaN</td>\n",
              "      <td>NaN</td>\n",
              "      <td>NaN</td>\n",
              "      <td>1.0</td>\n",
              "      <td>NaN</td>\n",
              "      <td>NaN</td>\n",
              "      <td>NaN</td>\n",
              "      <td>NaN</td>\n",
              "      <td>NaN</td>\n",
              "      <td>NaN</td>\n",
              "      <td>NaN</td>\n",
              "      <td>NaN</td>\n",
              "      <td>NaN</td>\n",
              "      <td>NaN</td>\n",
              "      <td>NaN</td>\n",
              "      <td>NaN</td>\n",
              "      <td>NaN</td>\n",
              "      <td>NaN</td>\n",
              "      <td>NaN</td>\n",
              "      <td>NaN</td>\n",
              "      <td>NaN</td>\n",
              "      <td>NaN</td>\n",
              "      <td>NaN</td>\n",
              "      <td>NaN</td>\n",
              "      <td>NaN</td>\n",
              "      <td>NaN</td>\n",
              "      <td>NaN</td>\n",
              "      <td>NaN</td>\n",
              "      <td>NaN</td>\n",
              "      <td>NaN</td>\n",
              "      <td>NaN</td>\n",
              "      <td>NaN</td>\n",
              "      <td>NaN</td>\n",
              "      <td>NaN</td>\n",
              "      <td>NaN</td>\n",
              "      <td>NaN</td>\n",
              "      <td>NaN</td>\n",
              "      <td>NaN</td>\n",
              "      <td>NaN</td>\n",
              "      <td>...</td>\n",
              "      <td>NaN</td>\n",
              "      <td>NaN</td>\n",
              "      <td>NaN</td>\n",
              "      <td>NaN</td>\n",
              "      <td>NaN</td>\n",
              "      <td>NaN</td>\n",
              "      <td>NaN</td>\n",
              "      <td>NaN</td>\n",
              "      <td>NaN</td>\n",
              "      <td>NaN</td>\n",
              "      <td>NaN</td>\n",
              "      <td>NaN</td>\n",
              "      <td>NaN</td>\n",
              "      <td>NaN</td>\n",
              "      <td>NaN</td>\n",
              "      <td>NaN</td>\n",
              "      <td>NaN</td>\n",
              "      <td>NaN</td>\n",
              "      <td>NaN</td>\n",
              "      <td>NaN</td>\n",
              "      <td>NaN</td>\n",
              "      <td>NaN</td>\n",
              "      <td>NaN</td>\n",
              "      <td>NaN</td>\n",
              "      <td>NaN</td>\n",
              "      <td>NaN</td>\n",
              "      <td>NaN</td>\n",
              "      <td>NaN</td>\n",
              "      <td>NaN</td>\n",
              "      <td>NaN</td>\n",
              "      <td>NaN</td>\n",
              "      <td>NaN</td>\n",
              "      <td>NaN</td>\n",
              "      <td>NaN</td>\n",
              "      <td>NaN</td>\n",
              "      <td>NaN</td>\n",
              "      <td>NaN</td>\n",
              "      <td>NaN</td>\n",
              "      <td>NaN</td>\n",
              "      <td>NaN</td>\n",
              "    </tr>\n",
              "    <tr>\n",
              "      <th>...</th>\n",
              "      <td>...</td>\n",
              "      <td>...</td>\n",
              "      <td>...</td>\n",
              "      <td>...</td>\n",
              "      <td>...</td>\n",
              "      <td>...</td>\n",
              "      <td>...</td>\n",
              "      <td>...</td>\n",
              "      <td>...</td>\n",
              "      <td>...</td>\n",
              "      <td>...</td>\n",
              "      <td>...</td>\n",
              "      <td>...</td>\n",
              "      <td>...</td>\n",
              "      <td>...</td>\n",
              "      <td>...</td>\n",
              "      <td>...</td>\n",
              "      <td>...</td>\n",
              "      <td>...</td>\n",
              "      <td>...</td>\n",
              "      <td>...</td>\n",
              "      <td>...</td>\n",
              "      <td>...</td>\n",
              "      <td>...</td>\n",
              "      <td>...</td>\n",
              "      <td>...</td>\n",
              "      <td>...</td>\n",
              "      <td>...</td>\n",
              "      <td>...</td>\n",
              "      <td>...</td>\n",
              "      <td>...</td>\n",
              "      <td>...</td>\n",
              "      <td>...</td>\n",
              "      <td>...</td>\n",
              "      <td>...</td>\n",
              "      <td>...</td>\n",
              "      <td>...</td>\n",
              "      <td>...</td>\n",
              "      <td>...</td>\n",
              "      <td>...</td>\n",
              "      <td>...</td>\n",
              "      <td>...</td>\n",
              "      <td>...</td>\n",
              "      <td>...</td>\n",
              "      <td>...</td>\n",
              "      <td>...</td>\n",
              "      <td>...</td>\n",
              "      <td>...</td>\n",
              "      <td>...</td>\n",
              "      <td>...</td>\n",
              "      <td>...</td>\n",
              "      <td>...</td>\n",
              "      <td>...</td>\n",
              "      <td>...</td>\n",
              "      <td>...</td>\n",
              "      <td>...</td>\n",
              "      <td>...</td>\n",
              "      <td>...</td>\n",
              "      <td>...</td>\n",
              "      <td>...</td>\n",
              "      <td>...</td>\n",
              "      <td>...</td>\n",
              "      <td>...</td>\n",
              "      <td>...</td>\n",
              "      <td>...</td>\n",
              "      <td>...</td>\n",
              "      <td>...</td>\n",
              "      <td>...</td>\n",
              "      <td>...</td>\n",
              "      <td>...</td>\n",
              "      <td>...</td>\n",
              "      <td>...</td>\n",
              "      <td>...</td>\n",
              "      <td>...</td>\n",
              "      <td>...</td>\n",
              "      <td>...</td>\n",
              "      <td>...</td>\n",
              "      <td>...</td>\n",
              "      <td>...</td>\n",
              "      <td>...</td>\n",
              "      <td>...</td>\n",
              "    </tr>\n",
              "    <tr>\n",
              "      <th>تراب الماس</th>\n",
              "      <td>NaN</td>\n",
              "      <td>NaN</td>\n",
              "      <td>NaN</td>\n",
              "      <td>NaN</td>\n",
              "      <td>NaN</td>\n",
              "      <td>NaN</td>\n",
              "      <td>NaN</td>\n",
              "      <td>NaN</td>\n",
              "      <td>NaN</td>\n",
              "      <td>NaN</td>\n",
              "      <td>NaN</td>\n",
              "      <td>NaN</td>\n",
              "      <td>NaN</td>\n",
              "      <td>NaN</td>\n",
              "      <td>NaN</td>\n",
              "      <td>NaN</td>\n",
              "      <td>NaN</td>\n",
              "      <td>NaN</td>\n",
              "      <td>NaN</td>\n",
              "      <td>NaN</td>\n",
              "      <td>NaN</td>\n",
              "      <td>NaN</td>\n",
              "      <td>NaN</td>\n",
              "      <td>NaN</td>\n",
              "      <td>NaN</td>\n",
              "      <td>NaN</td>\n",
              "      <td>NaN</td>\n",
              "      <td>NaN</td>\n",
              "      <td>NaN</td>\n",
              "      <td>NaN</td>\n",
              "      <td>NaN</td>\n",
              "      <td>NaN</td>\n",
              "      <td>NaN</td>\n",
              "      <td>NaN</td>\n",
              "      <td>NaN</td>\n",
              "      <td>NaN</td>\n",
              "      <td>NaN</td>\n",
              "      <td>NaN</td>\n",
              "      <td>NaN</td>\n",
              "      <td>NaN</td>\n",
              "      <td>...</td>\n",
              "      <td>NaN</td>\n",
              "      <td>NaN</td>\n",
              "      <td>NaN</td>\n",
              "      <td>NaN</td>\n",
              "      <td>NaN</td>\n",
              "      <td>NaN</td>\n",
              "      <td>NaN</td>\n",
              "      <td>NaN</td>\n",
              "      <td>NaN</td>\n",
              "      <td>NaN</td>\n",
              "      <td>NaN</td>\n",
              "      <td>NaN</td>\n",
              "      <td>NaN</td>\n",
              "      <td>NaN</td>\n",
              "      <td>NaN</td>\n",
              "      <td>NaN</td>\n",
              "      <td>NaN</td>\n",
              "      <td>NaN</td>\n",
              "      <td>NaN</td>\n",
              "      <td>NaN</td>\n",
              "      <td>NaN</td>\n",
              "      <td>NaN</td>\n",
              "      <td>NaN</td>\n",
              "      <td>NaN</td>\n",
              "      <td>NaN</td>\n",
              "      <td>NaN</td>\n",
              "      <td>NaN</td>\n",
              "      <td>NaN</td>\n",
              "      <td>NaN</td>\n",
              "      <td>NaN</td>\n",
              "      <td>NaN</td>\n",
              "      <td>NaN</td>\n",
              "      <td>NaN</td>\n",
              "      <td>NaN</td>\n",
              "      <td>NaN</td>\n",
              "      <td>NaN</td>\n",
              "      <td>NaN</td>\n",
              "      <td>NaN</td>\n",
              "      <td>NaN</td>\n",
              "      <td>NaN</td>\n",
              "    </tr>\n",
              "    <tr>\n",
              "      <th>عزازيل</th>\n",
              "      <td>NaN</td>\n",
              "      <td>NaN</td>\n",
              "      <td>NaN</td>\n",
              "      <td>NaN</td>\n",
              "      <td>NaN</td>\n",
              "      <td>NaN</td>\n",
              "      <td>NaN</td>\n",
              "      <td>NaN</td>\n",
              "      <td>NaN</td>\n",
              "      <td>NaN</td>\n",
              "      <td>NaN</td>\n",
              "      <td>NaN</td>\n",
              "      <td>NaN</td>\n",
              "      <td>NaN</td>\n",
              "      <td>NaN</td>\n",
              "      <td>NaN</td>\n",
              "      <td>NaN</td>\n",
              "      <td>NaN</td>\n",
              "      <td>NaN</td>\n",
              "      <td>NaN</td>\n",
              "      <td>NaN</td>\n",
              "      <td>NaN</td>\n",
              "      <td>NaN</td>\n",
              "      <td>NaN</td>\n",
              "      <td>NaN</td>\n",
              "      <td>NaN</td>\n",
              "      <td>NaN</td>\n",
              "      <td>NaN</td>\n",
              "      <td>NaN</td>\n",
              "      <td>NaN</td>\n",
              "      <td>NaN</td>\n",
              "      <td>NaN</td>\n",
              "      <td>NaN</td>\n",
              "      <td>NaN</td>\n",
              "      <td>NaN</td>\n",
              "      <td>NaN</td>\n",
              "      <td>NaN</td>\n",
              "      <td>NaN</td>\n",
              "      <td>NaN</td>\n",
              "      <td>NaN</td>\n",
              "      <td>...</td>\n",
              "      <td>NaN</td>\n",
              "      <td>NaN</td>\n",
              "      <td>NaN</td>\n",
              "      <td>NaN</td>\n",
              "      <td>NaN</td>\n",
              "      <td>NaN</td>\n",
              "      <td>NaN</td>\n",
              "      <td>NaN</td>\n",
              "      <td>NaN</td>\n",
              "      <td>NaN</td>\n",
              "      <td>NaN</td>\n",
              "      <td>NaN</td>\n",
              "      <td>NaN</td>\n",
              "      <td>NaN</td>\n",
              "      <td>NaN</td>\n",
              "      <td>NaN</td>\n",
              "      <td>NaN</td>\n",
              "      <td>NaN</td>\n",
              "      <td>NaN</td>\n",
              "      <td>NaN</td>\n",
              "      <td>NaN</td>\n",
              "      <td>NaN</td>\n",
              "      <td>NaN</td>\n",
              "      <td>NaN</td>\n",
              "      <td>NaN</td>\n",
              "      <td>NaN</td>\n",
              "      <td>NaN</td>\n",
              "      <td>NaN</td>\n",
              "      <td>NaN</td>\n",
              "      <td>NaN</td>\n",
              "      <td>NaN</td>\n",
              "      <td>NaN</td>\n",
              "      <td>NaN</td>\n",
              "      <td>NaN</td>\n",
              "      <td>NaN</td>\n",
              "      <td>NaN</td>\n",
              "      <td>NaN</td>\n",
              "      <td>NaN</td>\n",
              "      <td>NaN</td>\n",
              "      <td>NaN</td>\n",
              "    </tr>\n",
              "    <tr>\n",
              "      <th>هيبتا</th>\n",
              "      <td>NaN</td>\n",
              "      <td>NaN</td>\n",
              "      <td>NaN</td>\n",
              "      <td>NaN</td>\n",
              "      <td>NaN</td>\n",
              "      <td>NaN</td>\n",
              "      <td>NaN</td>\n",
              "      <td>NaN</td>\n",
              "      <td>NaN</td>\n",
              "      <td>NaN</td>\n",
              "      <td>NaN</td>\n",
              "      <td>NaN</td>\n",
              "      <td>NaN</td>\n",
              "      <td>NaN</td>\n",
              "      <td>NaN</td>\n",
              "      <td>NaN</td>\n",
              "      <td>NaN</td>\n",
              "      <td>NaN</td>\n",
              "      <td>NaN</td>\n",
              "      <td>NaN</td>\n",
              "      <td>NaN</td>\n",
              "      <td>NaN</td>\n",
              "      <td>NaN</td>\n",
              "      <td>NaN</td>\n",
              "      <td>NaN</td>\n",
              "      <td>NaN</td>\n",
              "      <td>NaN</td>\n",
              "      <td>NaN</td>\n",
              "      <td>NaN</td>\n",
              "      <td>NaN</td>\n",
              "      <td>NaN</td>\n",
              "      <td>NaN</td>\n",
              "      <td>NaN</td>\n",
              "      <td>NaN</td>\n",
              "      <td>NaN</td>\n",
              "      <td>NaN</td>\n",
              "      <td>NaN</td>\n",
              "      <td>NaN</td>\n",
              "      <td>NaN</td>\n",
              "      <td>NaN</td>\n",
              "      <td>...</td>\n",
              "      <td>NaN</td>\n",
              "      <td>NaN</td>\n",
              "      <td>NaN</td>\n",
              "      <td>NaN</td>\n",
              "      <td>NaN</td>\n",
              "      <td>NaN</td>\n",
              "      <td>NaN</td>\n",
              "      <td>NaN</td>\n",
              "      <td>NaN</td>\n",
              "      <td>NaN</td>\n",
              "      <td>NaN</td>\n",
              "      <td>NaN</td>\n",
              "      <td>NaN</td>\n",
              "      <td>NaN</td>\n",
              "      <td>NaN</td>\n",
              "      <td>NaN</td>\n",
              "      <td>NaN</td>\n",
              "      <td>NaN</td>\n",
              "      <td>NaN</td>\n",
              "      <td>NaN</td>\n",
              "      <td>NaN</td>\n",
              "      <td>NaN</td>\n",
              "      <td>NaN</td>\n",
              "      <td>NaN</td>\n",
              "      <td>NaN</td>\n",
              "      <td>NaN</td>\n",
              "      <td>NaN</td>\n",
              "      <td>NaN</td>\n",
              "      <td>NaN</td>\n",
              "      <td>NaN</td>\n",
              "      <td>NaN</td>\n",
              "      <td>NaN</td>\n",
              "      <td>NaN</td>\n",
              "      <td>NaN</td>\n",
              "      <td>NaN</td>\n",
              "      <td>NaN</td>\n",
              "      <td>NaN</td>\n",
              "      <td>NaN</td>\n",
              "      <td>NaN</td>\n",
              "      <td>NaN</td>\n",
              "    </tr>\n",
              "    <tr>\n",
              "      <th>يوتوبيا</th>\n",
              "      <td>NaN</td>\n",
              "      <td>NaN</td>\n",
              "      <td>NaN</td>\n",
              "      <td>NaN</td>\n",
              "      <td>NaN</td>\n",
              "      <td>NaN</td>\n",
              "      <td>NaN</td>\n",
              "      <td>NaN</td>\n",
              "      <td>NaN</td>\n",
              "      <td>NaN</td>\n",
              "      <td>NaN</td>\n",
              "      <td>NaN</td>\n",
              "      <td>NaN</td>\n",
              "      <td>NaN</td>\n",
              "      <td>NaN</td>\n",
              "      <td>NaN</td>\n",
              "      <td>NaN</td>\n",
              "      <td>NaN</td>\n",
              "      <td>NaN</td>\n",
              "      <td>NaN</td>\n",
              "      <td>NaN</td>\n",
              "      <td>NaN</td>\n",
              "      <td>NaN</td>\n",
              "      <td>NaN</td>\n",
              "      <td>NaN</td>\n",
              "      <td>NaN</td>\n",
              "      <td>NaN</td>\n",
              "      <td>NaN</td>\n",
              "      <td>NaN</td>\n",
              "      <td>NaN</td>\n",
              "      <td>NaN</td>\n",
              "      <td>NaN</td>\n",
              "      <td>NaN</td>\n",
              "      <td>NaN</td>\n",
              "      <td>NaN</td>\n",
              "      <td>NaN</td>\n",
              "      <td>NaN</td>\n",
              "      <td>NaN</td>\n",
              "      <td>NaN</td>\n",
              "      <td>NaN</td>\n",
              "      <td>...</td>\n",
              "      <td>NaN</td>\n",
              "      <td>NaN</td>\n",
              "      <td>NaN</td>\n",
              "      <td>NaN</td>\n",
              "      <td>NaN</td>\n",
              "      <td>NaN</td>\n",
              "      <td>NaN</td>\n",
              "      <td>NaN</td>\n",
              "      <td>NaN</td>\n",
              "      <td>NaN</td>\n",
              "      <td>NaN</td>\n",
              "      <td>NaN</td>\n",
              "      <td>NaN</td>\n",
              "      <td>NaN</td>\n",
              "      <td>NaN</td>\n",
              "      <td>NaN</td>\n",
              "      <td>NaN</td>\n",
              "      <td>NaN</td>\n",
              "      <td>NaN</td>\n",
              "      <td>NaN</td>\n",
              "      <td>NaN</td>\n",
              "      <td>NaN</td>\n",
              "      <td>NaN</td>\n",
              "      <td>NaN</td>\n",
              "      <td>NaN</td>\n",
              "      <td>NaN</td>\n",
              "      <td>NaN</td>\n",
              "      <td>NaN</td>\n",
              "      <td>NaN</td>\n",
              "      <td>NaN</td>\n",
              "      <td>NaN</td>\n",
              "      <td>NaN</td>\n",
              "      <td>NaN</td>\n",
              "      <td>NaN</td>\n",
              "      <td>NaN</td>\n",
              "      <td>NaN</td>\n",
              "      <td>NaN</td>\n",
              "      <td>NaN</td>\n",
              "      <td>NaN</td>\n",
              "      <td>NaN</td>\n",
              "    </tr>\n",
              "    <tr>\n",
              "      <th>ڤيرتيجو</th>\n",
              "      <td>NaN</td>\n",
              "      <td>NaN</td>\n",
              "      <td>NaN</td>\n",
              "      <td>NaN</td>\n",
              "      <td>NaN</td>\n",
              "      <td>NaN</td>\n",
              "      <td>NaN</td>\n",
              "      <td>NaN</td>\n",
              "      <td>NaN</td>\n",
              "      <td>NaN</td>\n",
              "      <td>NaN</td>\n",
              "      <td>NaN</td>\n",
              "      <td>NaN</td>\n",
              "      <td>NaN</td>\n",
              "      <td>NaN</td>\n",
              "      <td>NaN</td>\n",
              "      <td>NaN</td>\n",
              "      <td>NaN</td>\n",
              "      <td>NaN</td>\n",
              "      <td>NaN</td>\n",
              "      <td>NaN</td>\n",
              "      <td>NaN</td>\n",
              "      <td>NaN</td>\n",
              "      <td>NaN</td>\n",
              "      <td>NaN</td>\n",
              "      <td>NaN</td>\n",
              "      <td>NaN</td>\n",
              "      <td>NaN</td>\n",
              "      <td>NaN</td>\n",
              "      <td>NaN</td>\n",
              "      <td>NaN</td>\n",
              "      <td>NaN</td>\n",
              "      <td>NaN</td>\n",
              "      <td>NaN</td>\n",
              "      <td>NaN</td>\n",
              "      <td>NaN</td>\n",
              "      <td>NaN</td>\n",
              "      <td>NaN</td>\n",
              "      <td>NaN</td>\n",
              "      <td>NaN</td>\n",
              "      <td>...</td>\n",
              "      <td>NaN</td>\n",
              "      <td>NaN</td>\n",
              "      <td>NaN</td>\n",
              "      <td>NaN</td>\n",
              "      <td>NaN</td>\n",
              "      <td>NaN</td>\n",
              "      <td>NaN</td>\n",
              "      <td>NaN</td>\n",
              "      <td>NaN</td>\n",
              "      <td>NaN</td>\n",
              "      <td>NaN</td>\n",
              "      <td>NaN</td>\n",
              "      <td>NaN</td>\n",
              "      <td>NaN</td>\n",
              "      <td>NaN</td>\n",
              "      <td>NaN</td>\n",
              "      <td>NaN</td>\n",
              "      <td>NaN</td>\n",
              "      <td>NaN</td>\n",
              "      <td>NaN</td>\n",
              "      <td>NaN</td>\n",
              "      <td>NaN</td>\n",
              "      <td>NaN</td>\n",
              "      <td>NaN</td>\n",
              "      <td>NaN</td>\n",
              "      <td>NaN</td>\n",
              "      <td>NaN</td>\n",
              "      <td>NaN</td>\n",
              "      <td>NaN</td>\n",
              "      <td>NaN</td>\n",
              "      <td>NaN</td>\n",
              "      <td>NaN</td>\n",
              "      <td>NaN</td>\n",
              "      <td>NaN</td>\n",
              "      <td>NaN</td>\n",
              "      <td>NaN</td>\n",
              "      <td>NaN</td>\n",
              "      <td>NaN</td>\n",
              "      <td>NaN</td>\n",
              "      <td>NaN</td>\n",
              "    </tr>\n",
              "  </tbody>\n",
              "</table>\n",
              "<p>8854 rows × 8854 columns</p>\n",
              "</div>"
            ],
            "text/plain": [
              "title                                Angels (Walsh Family, #3)  ...  ڤيرتيجو\n",
              "title                                                           ...         \n",
              " Angels (Walsh Family, #3)                                 1.0  ...      NaN\n",
              "#GIRLBOSS                                                  NaN  ...      NaN\n",
              "'Salem's Lot                                               NaN  ...      NaN\n",
              "'Tis (Frank McCourt, #2)                                   NaN  ...      NaN\n",
              "1,000 Places to See Before You Die                         NaN  ...      NaN\n",
              "...                                                        ...  ...      ...\n",
              "تراب الماس                                                 NaN  ...      NaN\n",
              "عزازيل                                                     NaN  ...      NaN\n",
              "هيبتا                                                      NaN  ...      NaN\n",
              "يوتوبيا                                                    NaN  ...      NaN\n",
              "ڤيرتيجو                                                    NaN  ...      NaN\n",
              "\n",
              "[8854 rows x 8854 columns]"
            ]
          },
          "execution_count": 103,
          "metadata": {
            "tags": []
          },
          "output_type": "execute_result"
        }
      ]
    },
    {
      "cell_type": "code",
      "metadata": {
        "id": "mudDO4iVWr1Z"
      },
      "source": [
        "def newRecommendations_50(title):\n",
        "    bookRating = corrMatrix50[[title]][:]\n",
        "    bookRating = bookRating.dropna()\n",
        "    df = pd.DataFrame(bookRating.sort_values(by = title, ascending = False))[1:]\n",
        "    return df.head(10)"
      ],
      "execution_count": null,
      "outputs": []
    },
    {
      "cell_type": "code",
      "metadata": {
        "colab": {
          "base_uri": "https://localhost:8080/"
        },
        "id": "2WVycqNQWr1a",
        "outputId": "29606be7-e4d5-4bef-a7b0-2256e9425c74"
      },
      "source": [
        "newRecommendations_50('1984')"
      ],
      "execution_count": null,
      "outputs": [
        {
          "data": {
            "text/html": [
              "<div>\n",
              "<style scoped>\n",
              "    .dataframe tbody tr th:only-of-type {\n",
              "        vertical-align: middle;\n",
              "    }\n",
              "\n",
              "    .dataframe tbody tr th {\n",
              "        vertical-align: top;\n",
              "    }\n",
              "\n",
              "    .dataframe thead th {\n",
              "        text-align: right;\n",
              "    }\n",
              "</style>\n",
              "<table border=\"1\" class=\"dataframe\">\n",
              "  <thead>\n",
              "    <tr style=\"text-align: right;\">\n",
              "      <th>title</th>\n",
              "      <th>1984</th>\n",
              "    </tr>\n",
              "    <tr>\n",
              "      <th>title</th>\n",
              "      <th></th>\n",
              "    </tr>\n",
              "  </thead>\n",
              "  <tbody>\n",
              "    <tr>\n",
              "      <th>Animal Farm</th>\n",
              "      <td>0.713404</td>\n",
              "    </tr>\n",
              "    <tr>\n",
              "      <th>Brave New World</th>\n",
              "      <td>0.525559</td>\n",
              "    </tr>\n",
              "    <tr>\n",
              "      <th>Fahrenheit 451</th>\n",
              "      <td>0.505960</td>\n",
              "    </tr>\n",
              "    <tr>\n",
              "      <th>Lord of the Flies</th>\n",
              "      <td>0.495693</td>\n",
              "    </tr>\n",
              "    <tr>\n",
              "      <th>Memoirs of a Geisha</th>\n",
              "      <td>0.388141</td>\n",
              "    </tr>\n",
              "    <tr>\n",
              "      <th>The Great Gatsby</th>\n",
              "      <td>0.358294</td>\n",
              "    </tr>\n",
              "    <tr>\n",
              "      <th>The Diary of a Young Girl</th>\n",
              "      <td>0.296904</td>\n",
              "    </tr>\n",
              "    <tr>\n",
              "      <th>The Catcher in the Rye</th>\n",
              "      <td>0.284855</td>\n",
              "    </tr>\n",
              "    <tr>\n",
              "      <th>Jane Eyre</th>\n",
              "      <td>0.277547</td>\n",
              "    </tr>\n",
              "    <tr>\n",
              "      <th>Of Mice and Men</th>\n",
              "      <td>0.253489</td>\n",
              "    </tr>\n",
              "  </tbody>\n",
              "</table>\n",
              "</div>"
            ],
            "text/plain": [
              "title                          1984\n",
              "title                              \n",
              "Animal Farm                0.713404\n",
              "Brave New World            0.525559\n",
              "Fahrenheit 451             0.505960\n",
              "Lord of the Flies          0.495693\n",
              "Memoirs of a Geisha        0.388141\n",
              "The Great Gatsby           0.358294\n",
              "The Diary of a Young Girl  0.296904\n",
              "The Catcher in the Rye     0.284855\n",
              "Jane Eyre                  0.277547\n",
              "Of Mice and Men            0.253489"
            ]
          },
          "execution_count": 105,
          "metadata": {
            "tags": []
          },
          "output_type": "execute_result"
        }
      ]
    },
    {
      "cell_type": "code",
      "metadata": {
        "id": "fTvjMQioWr1a"
      },
      "source": [
        "# Attempt number 3, using min_periods = 40\n",
        "corrMatrix40 = userByBook.corr(method = 'pearson', min_periods = 40)"
      ],
      "execution_count": null,
      "outputs": []
    },
    {
      "cell_type": "code",
      "metadata": {
        "id": "bcbmcU4yWr1b"
      },
      "source": [
        "def newRecommendations_40(title):\n",
        "    bookRating = corrMatrix40[[title]][:]\n",
        "    bookRating = bookRating.dropna()\n",
        "    df = pd.DataFrame(bookRating.sort_values(by = title, ascending = False))[1:]\n",
        "    return df.head(10)"
      ],
      "execution_count": null,
      "outputs": []
    },
    {
      "cell_type": "code",
      "metadata": {
        "colab": {
          "base_uri": "https://localhost:8080/"
        },
        "id": "u-f89dpCWr1b",
        "outputId": "6b2b1241-dd39-4f21-a3fd-6f6a52e1fbd7"
      },
      "source": [
        "newRecommendations_40('1984')"
      ],
      "execution_count": null,
      "outputs": [
        {
          "data": {
            "text/html": [
              "<div>\n",
              "<style scoped>\n",
              "    .dataframe tbody tr th:only-of-type {\n",
              "        vertical-align: middle;\n",
              "    }\n",
              "\n",
              "    .dataframe tbody tr th {\n",
              "        vertical-align: top;\n",
              "    }\n",
              "\n",
              "    .dataframe thead th {\n",
              "        text-align: right;\n",
              "    }\n",
              "</style>\n",
              "<table border=\"1\" class=\"dataframe\">\n",
              "  <thead>\n",
              "    <tr style=\"text-align: right;\">\n",
              "      <th>title</th>\n",
              "      <th>1984</th>\n",
              "    </tr>\n",
              "    <tr>\n",
              "      <th>title</th>\n",
              "      <th></th>\n",
              "    </tr>\n",
              "  </thead>\n",
              "  <tbody>\n",
              "    <tr>\n",
              "      <th>Animal Farm</th>\n",
              "      <td>0.713404</td>\n",
              "    </tr>\n",
              "    <tr>\n",
              "      <th>The Odyssey</th>\n",
              "      <td>0.539299</td>\n",
              "    </tr>\n",
              "    <tr>\n",
              "      <th>Brave New World</th>\n",
              "      <td>0.525559</td>\n",
              "    </tr>\n",
              "    <tr>\n",
              "      <th>Fahrenheit 451</th>\n",
              "      <td>0.505960</td>\n",
              "    </tr>\n",
              "    <tr>\n",
              "      <th>Lord of the Flies</th>\n",
              "      <td>0.495693</td>\n",
              "    </tr>\n",
              "    <tr>\n",
              "      <th>Catch-22</th>\n",
              "      <td>0.481534</td>\n",
              "    </tr>\n",
              "    <tr>\n",
              "      <th>Great Expectations</th>\n",
              "      <td>0.473683</td>\n",
              "    </tr>\n",
              "    <tr>\n",
              "      <th>The Hitchhiker's Guide to the Galaxy (Hitchhiker's Guide to the Galaxy, #1)</th>\n",
              "      <td>0.414133</td>\n",
              "    </tr>\n",
              "    <tr>\n",
              "      <th>Memoirs of a Geisha</th>\n",
              "      <td>0.388141</td>\n",
              "    </tr>\n",
              "    <tr>\n",
              "      <th>The Great Gatsby</th>\n",
              "      <td>0.358294</td>\n",
              "    </tr>\n",
              "  </tbody>\n",
              "</table>\n",
              "</div>"
            ],
            "text/plain": [
              "title                                                   1984\n",
              "title                                                       \n",
              "Animal Farm                                         0.713404\n",
              "The Odyssey                                         0.539299\n",
              "Brave New World                                     0.525559\n",
              "Fahrenheit 451                                      0.505960\n",
              "Lord of the Flies                                   0.495693\n",
              "Catch-22                                            0.481534\n",
              "Great Expectations                                  0.473683\n",
              "The Hitchhiker's Guide to the Galaxy (Hitchhike...  0.414133\n",
              "Memoirs of a Geisha                                 0.388141\n",
              "The Great Gatsby                                    0.358294"
            ]
          },
          "execution_count": 108,
          "metadata": {
            "tags": []
          },
          "output_type": "execute_result"
        }
      ]
    },
    {
      "cell_type": "code",
      "metadata": {
        "colab": {
          "background_save": true
        },
        "id": "Nykrhrr3Wr1c"
      },
      "source": [
        "# Attempt number 4, using min_periods = 30\n",
        "corrMatrix30 = userByBook.corr(method = 'pearson', min_periods = 30)"
      ],
      "execution_count": null,
      "outputs": []
    },
    {
      "cell_type": "code",
      "metadata": {
        "colab": {
          "background_save": true
        },
        "id": "IP32IlivWr1c"
      },
      "source": [
        "def newRecommendations_30(title):\n",
        "    bookRating = corrMatrix30[[title]][:]\n",
        "    bookRating = bookRating.dropna()\n",
        "    df = pd.DataFrame(bookRating.sort_values(by = title, ascending = False))[1:]\n",
        "    return df.head(10)"
      ],
      "execution_count": null,
      "outputs": []
    },
    {
      "cell_type": "code",
      "metadata": {
        "colab": {
          "background_save": true
        },
        "id": "B4q0CKgdWr1c",
        "outputId": "08088ae5-0011-467e-eec8-12da9260ef93"
      },
      "source": [
        "newRecommendations_30('1984')"
      ],
      "execution_count": null,
      "outputs": [
        {
          "data": {
            "text/html": [
              "<div>\n",
              "<style scoped>\n",
              "    .dataframe tbody tr th:only-of-type {\n",
              "        vertical-align: middle;\n",
              "    }\n",
              "\n",
              "    .dataframe tbody tr th {\n",
              "        vertical-align: top;\n",
              "    }\n",
              "\n",
              "    .dataframe thead th {\n",
              "        text-align: right;\n",
              "    }\n",
              "</style>\n",
              "<table border=\"1\" class=\"dataframe\">\n",
              "  <thead>\n",
              "    <tr style=\"text-align: right;\">\n",
              "      <th>title</th>\n",
              "      <th>1984</th>\n",
              "    </tr>\n",
              "    <tr>\n",
              "      <th>title</th>\n",
              "      <th></th>\n",
              "    </tr>\n",
              "  </thead>\n",
              "  <tbody>\n",
              "    <tr>\n",
              "      <th>Animal Farm</th>\n",
              "      <td>0.713404</td>\n",
              "    </tr>\n",
              "    <tr>\n",
              "      <th>One Hundred Years of Solitude</th>\n",
              "      <td>0.592153</td>\n",
              "    </tr>\n",
              "    <tr>\n",
              "      <th>The Stranger</th>\n",
              "      <td>0.570599</td>\n",
              "    </tr>\n",
              "    <tr>\n",
              "      <th>Siddhartha</th>\n",
              "      <td>0.554008</td>\n",
              "    </tr>\n",
              "    <tr>\n",
              "      <th>The Pillars of the Earth (The Kingsbridge Series, #1)</th>\n",
              "      <td>0.553912</td>\n",
              "    </tr>\n",
              "    <tr>\n",
              "      <th>The Odyssey</th>\n",
              "      <td>0.539299</td>\n",
              "    </tr>\n",
              "    <tr>\n",
              "      <th>Brave New World</th>\n",
              "      <td>0.525559</td>\n",
              "    </tr>\n",
              "    <tr>\n",
              "      <th>Me Talk Pretty One Day</th>\n",
              "      <td>0.510536</td>\n",
              "    </tr>\n",
              "    <tr>\n",
              "      <th>Fahrenheit 451</th>\n",
              "      <td>0.505960</td>\n",
              "    </tr>\n",
              "    <tr>\n",
              "      <th>Lord of the Flies</th>\n",
              "      <td>0.495693</td>\n",
              "    </tr>\n",
              "  </tbody>\n",
              "</table>\n",
              "</div>"
            ],
            "text/plain": [
              "title                                                   1984\n",
              "title                                                       \n",
              "Animal Farm                                         0.713404\n",
              "One Hundred Years of Solitude                       0.592153\n",
              "The Stranger                                        0.570599\n",
              "Siddhartha                                          0.554008\n",
              "The Pillars of the Earth (The Kingsbridge Serie...  0.553912\n",
              "The Odyssey                                         0.539299\n",
              "Brave New World                                     0.525559\n",
              "Me Talk Pretty One Day                              0.510536\n",
              "Fahrenheit 451                                      0.505960\n",
              "Lord of the Flies                                   0.495693"
            ]
          },
          "execution_count": null,
          "metadata": {},
          "output_type": "execute_result"
        }
      ]
    },
    {
      "cell_type": "code",
      "metadata": {
        "colab": {
          "background_save": true
        },
        "id": "TRox-3DfWr1d",
        "outputId": "ac7aae10-1574-4a1b-f3ad-8c297dbc5786"
      },
      "source": [
        "newRecommendations_40('1984')"
      ],
      "execution_count": null,
      "outputs": [
        {
          "data": {
            "text/html": [
              "<div>\n",
              "<style scoped>\n",
              "    .dataframe tbody tr th:only-of-type {\n",
              "        vertical-align: middle;\n",
              "    }\n",
              "\n",
              "    .dataframe tbody tr th {\n",
              "        vertical-align: top;\n",
              "    }\n",
              "\n",
              "    .dataframe thead th {\n",
              "        text-align: right;\n",
              "    }\n",
              "</style>\n",
              "<table border=\"1\" class=\"dataframe\">\n",
              "  <thead>\n",
              "    <tr style=\"text-align: right;\">\n",
              "      <th>title</th>\n",
              "      <th>1984</th>\n",
              "    </tr>\n",
              "    <tr>\n",
              "      <th>title</th>\n",
              "      <th></th>\n",
              "    </tr>\n",
              "  </thead>\n",
              "  <tbody>\n",
              "    <tr>\n",
              "      <th>Animal Farm</th>\n",
              "      <td>0.713404</td>\n",
              "    </tr>\n",
              "    <tr>\n",
              "      <th>The Odyssey</th>\n",
              "      <td>0.539299</td>\n",
              "    </tr>\n",
              "    <tr>\n",
              "      <th>Brave New World</th>\n",
              "      <td>0.525559</td>\n",
              "    </tr>\n",
              "    <tr>\n",
              "      <th>Fahrenheit 451</th>\n",
              "      <td>0.505960</td>\n",
              "    </tr>\n",
              "    <tr>\n",
              "      <th>Lord of the Flies</th>\n",
              "      <td>0.495693</td>\n",
              "    </tr>\n",
              "    <tr>\n",
              "      <th>Catch-22</th>\n",
              "      <td>0.481534</td>\n",
              "    </tr>\n",
              "    <tr>\n",
              "      <th>Great Expectations</th>\n",
              "      <td>0.473683</td>\n",
              "    </tr>\n",
              "    <tr>\n",
              "      <th>The Hitchhiker's Guide to the Galaxy (Hitchhiker's Guide to the Galaxy, #1)</th>\n",
              "      <td>0.414133</td>\n",
              "    </tr>\n",
              "    <tr>\n",
              "      <th>Memoirs of a Geisha</th>\n",
              "      <td>0.388141</td>\n",
              "    </tr>\n",
              "    <tr>\n",
              "      <th>The Great Gatsby</th>\n",
              "      <td>0.358294</td>\n",
              "    </tr>\n",
              "  </tbody>\n",
              "</table>\n",
              "</div>"
            ],
            "text/plain": [
              "title                                                   1984\n",
              "title                                                       \n",
              "Animal Farm                                         0.713404\n",
              "The Odyssey                                         0.539299\n",
              "Brave New World                                     0.525559\n",
              "Fahrenheit 451                                      0.505960\n",
              "Lord of the Flies                                   0.495693\n",
              "Catch-22                                            0.481534\n",
              "Great Expectations                                  0.473683\n",
              "The Hitchhiker's Guide to the Galaxy (Hitchhike...  0.414133\n",
              "Memoirs of a Geisha                                 0.388141\n",
              "The Great Gatsby                                    0.358294"
            ]
          },
          "execution_count": null,
          "metadata": {},
          "output_type": "execute_result"
        }
      ]
    },
    {
      "cell_type": "code",
      "metadata": {
        "colab": {
          "background_save": true
        },
        "id": "iOfmQZsVWr1d",
        "outputId": "cbb051f7-fbe3-4816-ba22-95e5160247f9"
      },
      "source": [
        "newRecommendations_50('1984')"
      ],
      "execution_count": null,
      "outputs": [
        {
          "data": {
            "text/html": [
              "<div>\n",
              "<style scoped>\n",
              "    .dataframe tbody tr th:only-of-type {\n",
              "        vertical-align: middle;\n",
              "    }\n",
              "\n",
              "    .dataframe tbody tr th {\n",
              "        vertical-align: top;\n",
              "    }\n",
              "\n",
              "    .dataframe thead th {\n",
              "        text-align: right;\n",
              "    }\n",
              "</style>\n",
              "<table border=\"1\" class=\"dataframe\">\n",
              "  <thead>\n",
              "    <tr style=\"text-align: right;\">\n",
              "      <th>title</th>\n",
              "      <th>1984</th>\n",
              "    </tr>\n",
              "    <tr>\n",
              "      <th>title</th>\n",
              "      <th></th>\n",
              "    </tr>\n",
              "  </thead>\n",
              "  <tbody>\n",
              "    <tr>\n",
              "      <th>Animal Farm</th>\n",
              "      <td>0.713404</td>\n",
              "    </tr>\n",
              "    <tr>\n",
              "      <th>Brave New World</th>\n",
              "      <td>0.525559</td>\n",
              "    </tr>\n",
              "    <tr>\n",
              "      <th>Fahrenheit 451</th>\n",
              "      <td>0.505960</td>\n",
              "    </tr>\n",
              "    <tr>\n",
              "      <th>Lord of the Flies</th>\n",
              "      <td>0.495693</td>\n",
              "    </tr>\n",
              "    <tr>\n",
              "      <th>Memoirs of a Geisha</th>\n",
              "      <td>0.388141</td>\n",
              "    </tr>\n",
              "    <tr>\n",
              "      <th>The Great Gatsby</th>\n",
              "      <td>0.358294</td>\n",
              "    </tr>\n",
              "    <tr>\n",
              "      <th>The Diary of a Young Girl</th>\n",
              "      <td>0.296904</td>\n",
              "    </tr>\n",
              "    <tr>\n",
              "      <th>The Catcher in the Rye</th>\n",
              "      <td>0.284855</td>\n",
              "    </tr>\n",
              "    <tr>\n",
              "      <th>Jane Eyre</th>\n",
              "      <td>0.277547</td>\n",
              "    </tr>\n",
              "    <tr>\n",
              "      <th>Of Mice and Men</th>\n",
              "      <td>0.253489</td>\n",
              "    </tr>\n",
              "  </tbody>\n",
              "</table>\n",
              "</div>"
            ],
            "text/plain": [
              "title                          1984\n",
              "title                              \n",
              "Animal Farm                0.713404\n",
              "Brave New World            0.525559\n",
              "Fahrenheit 451             0.505960\n",
              "Lord of the Flies          0.495693\n",
              "Memoirs of a Geisha        0.388141\n",
              "The Great Gatsby           0.358294\n",
              "The Diary of a Young Girl  0.296904\n",
              "The Catcher in the Rye     0.284855\n",
              "Jane Eyre                  0.277547\n",
              "Of Mice and Men            0.253489"
            ]
          },
          "execution_count": null,
          "metadata": {},
          "output_type": "execute_result"
        }
      ]
    },
    {
      "cell_type": "code",
      "metadata": {
        "colab": {
          "background_save": true
        },
        "id": "qIGTRlQjWr1e",
        "outputId": "5b0fd6c1-2626-4bb2-b92f-25324be40d60"
      },
      "source": [
        "newRecommendations_30('Slaughterhouse-Five')"
      ],
      "execution_count": null,
      "outputs": [
        {
          "data": {
            "text/html": [
              "<div>\n",
              "<style scoped>\n",
              "    .dataframe tbody tr th:only-of-type {\n",
              "        vertical-align: middle;\n",
              "    }\n",
              "\n",
              "    .dataframe tbody tr th {\n",
              "        vertical-align: top;\n",
              "    }\n",
              "\n",
              "    .dataframe thead th {\n",
              "        text-align: right;\n",
              "    }\n",
              "</style>\n",
              "<table border=\"1\" class=\"dataframe\">\n",
              "  <thead>\n",
              "    <tr style=\"text-align: right;\">\n",
              "      <th>title</th>\n",
              "      <th>Slaughterhouse-Five</th>\n",
              "    </tr>\n",
              "    <tr>\n",
              "      <th>title</th>\n",
              "      <th></th>\n",
              "    </tr>\n",
              "  </thead>\n",
              "  <tbody>\n",
              "    <tr>\n",
              "      <th>Fahrenheit 451</th>\n",
              "      <td>0.622432</td>\n",
              "    </tr>\n",
              "    <tr>\n",
              "      <th>The Hobbit</th>\n",
              "      <td>0.590929</td>\n",
              "    </tr>\n",
              "    <tr>\n",
              "      <th>For Whom the Bell Tolls</th>\n",
              "      <td>0.581485</td>\n",
              "    </tr>\n",
              "    <tr>\n",
              "      <th>The Little Prince</th>\n",
              "      <td>0.569797</td>\n",
              "    </tr>\n",
              "    <tr>\n",
              "      <th>The Adventures of Tom Sawyer</th>\n",
              "      <td>0.567067</td>\n",
              "    </tr>\n",
              "    <tr>\n",
              "      <th>The Handmaid's Tale</th>\n",
              "      <td>0.559058</td>\n",
              "    </tr>\n",
              "    <tr>\n",
              "      <th>The Lion, the Witch, and the Wardrobe (Chronicles of Narnia, #1)</th>\n",
              "      <td>0.544862</td>\n",
              "    </tr>\n",
              "    <tr>\n",
              "      <th>Of Mice and Men</th>\n",
              "      <td>0.540995</td>\n",
              "    </tr>\n",
              "    <tr>\n",
              "      <th>Catch-22</th>\n",
              "      <td>0.530320</td>\n",
              "    </tr>\n",
              "    <tr>\n",
              "      <th>Othello</th>\n",
              "      <td>0.515444</td>\n",
              "    </tr>\n",
              "  </tbody>\n",
              "</table>\n",
              "</div>"
            ],
            "text/plain": [
              "title                                               Slaughterhouse-Five\n",
              "title                                                                  \n",
              "Fahrenheit 451                                                 0.622432\n",
              "The Hobbit                                                     0.590929\n",
              "For Whom the Bell Tolls                                        0.581485\n",
              "The Little Prince                                              0.569797\n",
              "The Adventures of Tom Sawyer                                   0.567067\n",
              "The Handmaid's Tale                                            0.559058\n",
              "The Lion, the Witch, and the Wardrobe (Chronicl...             0.544862\n",
              "Of Mice and Men                                                0.540995\n",
              "Catch-22                                                       0.530320\n",
              "Othello                                                        0.515444"
            ]
          },
          "execution_count": null,
          "metadata": {},
          "output_type": "execute_result"
        }
      ]
    },
    {
      "cell_type": "code",
      "metadata": {
        "colab": {
          "background_save": true
        },
        "id": "K12ncXLOWr1f",
        "outputId": "b1cefacf-e5c7-4fc2-d654-1f28902ff024"
      },
      "source": [
        "newRecommendations_40('Slaughterhouse-Five')"
      ],
      "execution_count": null,
      "outputs": [
        {
          "data": {
            "text/html": [
              "<div>\n",
              "<style scoped>\n",
              "    .dataframe tbody tr th:only-of-type {\n",
              "        vertical-align: middle;\n",
              "    }\n",
              "\n",
              "    .dataframe tbody tr th {\n",
              "        vertical-align: top;\n",
              "    }\n",
              "\n",
              "    .dataframe thead th {\n",
              "        text-align: right;\n",
              "    }\n",
              "</style>\n",
              "<table border=\"1\" class=\"dataframe\">\n",
              "  <thead>\n",
              "    <tr style=\"text-align: right;\">\n",
              "      <th>title</th>\n",
              "      <th>Slaughterhouse-Five</th>\n",
              "    </tr>\n",
              "    <tr>\n",
              "      <th>title</th>\n",
              "      <th></th>\n",
              "    </tr>\n",
              "  </thead>\n",
              "  <tbody>\n",
              "    <tr>\n",
              "      <th>Fahrenheit 451</th>\n",
              "      <td>0.622432</td>\n",
              "    </tr>\n",
              "    <tr>\n",
              "      <th>The Hobbit</th>\n",
              "      <td>0.590929</td>\n",
              "    </tr>\n",
              "    <tr>\n",
              "      <th>The Adventures of Tom Sawyer</th>\n",
              "      <td>0.567067</td>\n",
              "    </tr>\n",
              "    <tr>\n",
              "      <th>Of Mice and Men</th>\n",
              "      <td>0.540995</td>\n",
              "    </tr>\n",
              "    <tr>\n",
              "      <th>Catch-22</th>\n",
              "      <td>0.530320</td>\n",
              "    </tr>\n",
              "    <tr>\n",
              "      <th>East of Eden</th>\n",
              "      <td>0.498589</td>\n",
              "    </tr>\n",
              "    <tr>\n",
              "      <th>A Clockwork Orange</th>\n",
              "      <td>0.461436</td>\n",
              "    </tr>\n",
              "    <tr>\n",
              "      <th>Lord of the Flies</th>\n",
              "      <td>0.457934</td>\n",
              "    </tr>\n",
              "    <tr>\n",
              "      <th>Animal Farm</th>\n",
              "      <td>0.453439</td>\n",
              "    </tr>\n",
              "    <tr>\n",
              "      <th>One Flew Over the Cuckoo's Nest</th>\n",
              "      <td>0.449556</td>\n",
              "    </tr>\n",
              "  </tbody>\n",
              "</table>\n",
              "</div>"
            ],
            "text/plain": [
              "title                            Slaughterhouse-Five\n",
              "title                                               \n",
              "Fahrenheit 451                              0.622432\n",
              "The Hobbit                                  0.590929\n",
              "The Adventures of Tom Sawyer                0.567067\n",
              "Of Mice and Men                             0.540995\n",
              "Catch-22                                    0.530320\n",
              "East of Eden                                0.498589\n",
              "A Clockwork Orange                          0.461436\n",
              "Lord of the Flies                           0.457934\n",
              "Animal Farm                                 0.453439\n",
              "One Flew Over the Cuckoo's Nest             0.449556"
            ]
          },
          "execution_count": null,
          "metadata": {},
          "output_type": "execute_result"
        }
      ]
    },
    {
      "cell_type": "code",
      "metadata": {
        "colab": {
          "background_save": true
        },
        "id": "qLcU4YJIWr1f",
        "outputId": "9f1dbce2-7bfd-4e14-9144-3db048800d9c"
      },
      "source": [
        "newRecommendations_50('Slaughterhouse-Five')"
      ],
      "execution_count": null,
      "outputs": [
        {
          "data": {
            "text/html": [
              "<div>\n",
              "<style scoped>\n",
              "    .dataframe tbody tr th:only-of-type {\n",
              "        vertical-align: middle;\n",
              "    }\n",
              "\n",
              "    .dataframe tbody tr th {\n",
              "        vertical-align: top;\n",
              "    }\n",
              "\n",
              "    .dataframe thead th {\n",
              "        text-align: right;\n",
              "    }\n",
              "</style>\n",
              "<table border=\"1\" class=\"dataframe\">\n",
              "  <thead>\n",
              "    <tr style=\"text-align: right;\">\n",
              "      <th>title</th>\n",
              "      <th>Slaughterhouse-Five</th>\n",
              "    </tr>\n",
              "    <tr>\n",
              "      <th>title</th>\n",
              "      <th></th>\n",
              "    </tr>\n",
              "  </thead>\n",
              "  <tbody>\n",
              "    <tr>\n",
              "      <th>Of Mice and Men</th>\n",
              "      <td>0.540995</td>\n",
              "    </tr>\n",
              "    <tr>\n",
              "      <th>Catch-22</th>\n",
              "      <td>0.530320</td>\n",
              "    </tr>\n",
              "  </tbody>\n",
              "</table>\n",
              "</div>"
            ],
            "text/plain": [
              "title            Slaughterhouse-Five\n",
              "title                               \n",
              "Of Mice and Men             0.540995\n",
              "Catch-22                    0.530320"
            ]
          },
          "execution_count": null,
          "metadata": {},
          "output_type": "execute_result"
        }
      ]
    },
    {
      "cell_type": "code",
      "metadata": {
        "colab": {
          "background_save": true
        },
        "id": "7kuPdlGyWr1g",
        "outputId": "de610911-f662-471a-b4ae-a32cc39ea557"
      },
      "source": [
        "newRecommendations_30('Fear and Loathing in Las Vegas')"
      ],
      "execution_count": null,
      "outputs": [
        {
          "data": {
            "text/html": [
              "<div>\n",
              "<style scoped>\n",
              "    .dataframe tbody tr th:only-of-type {\n",
              "        vertical-align: middle;\n",
              "    }\n",
              "\n",
              "    .dataframe tbody tr th {\n",
              "        vertical-align: top;\n",
              "    }\n",
              "\n",
              "    .dataframe thead th {\n",
              "        text-align: right;\n",
              "    }\n",
              "</style>\n",
              "<table border=\"1\" class=\"dataframe\">\n",
              "  <thead>\n",
              "    <tr style=\"text-align: right;\">\n",
              "      <th>title</th>\n",
              "      <th>Fear and Loathing in Las Vegas</th>\n",
              "    </tr>\n",
              "    <tr>\n",
              "      <th>title</th>\n",
              "      <th></th>\n",
              "    </tr>\n",
              "  </thead>\n",
              "  <tbody>\n",
              "    <tr>\n",
              "      <th>On the Road</th>\n",
              "      <td>0.412614</td>\n",
              "    </tr>\n",
              "    <tr>\n",
              "      <th>American Psycho</th>\n",
              "      <td>0.350206</td>\n",
              "    </tr>\n",
              "  </tbody>\n",
              "</table>\n",
              "</div>"
            ],
            "text/plain": [
              "title            Fear and Loathing in Las Vegas\n",
              "title                                          \n",
              "On the Road                            0.412614\n",
              "American Psycho                        0.350206"
            ]
          },
          "execution_count": null,
          "metadata": {},
          "output_type": "execute_result"
        }
      ]
    },
    {
      "cell_type": "code",
      "metadata": {
        "colab": {
          "background_save": true
        },
        "id": "MhyHmBMGWr1g",
        "outputId": "93d98174-3dd7-409d-c40f-25e023ed0c63"
      },
      "source": [
        "newRecommendations_40('Fear and Loathing in Las Vegas')"
      ],
      "execution_count": null,
      "outputs": [
        {
          "data": {
            "text/html": [
              "<div>\n",
              "<style scoped>\n",
              "    .dataframe tbody tr th:only-of-type {\n",
              "        vertical-align: middle;\n",
              "    }\n",
              "\n",
              "    .dataframe tbody tr th {\n",
              "        vertical-align: top;\n",
              "    }\n",
              "\n",
              "    .dataframe thead th {\n",
              "        text-align: right;\n",
              "    }\n",
              "</style>\n",
              "<table border=\"1\" class=\"dataframe\">\n",
              "  <thead>\n",
              "    <tr style=\"text-align: right;\">\n",
              "      <th>title</th>\n",
              "      <th>Fear and Loathing in Las Vegas</th>\n",
              "    </tr>\n",
              "    <tr>\n",
              "      <th>title</th>\n",
              "      <th></th>\n",
              "    </tr>\n",
              "  </thead>\n",
              "  <tbody>\n",
              "  </tbody>\n",
              "</table>\n",
              "</div>"
            ],
            "text/plain": [
              "Empty DataFrame\n",
              "Columns: [Fear and Loathing in Las Vegas]\n",
              "Index: []"
            ]
          },
          "execution_count": null,
          "metadata": {},
          "output_type": "execute_result"
        }
      ]
    },
    {
      "cell_type": "code",
      "metadata": {
        "colab": {
          "background_save": true
        },
        "id": "dKnqB3vtWr1h",
        "outputId": "f49ff4c6-8478-4d75-f7fd-53df7dbad6d4"
      },
      "source": [
        "# Increasing the min_periods parameters to 40 and 50, some books don't receive any recommendations because\n",
        "# there are not enough users in our sample who have rated that book.\n",
        "\n",
        "newRecommendations_50('Fear and Loathing in Las Vegas')"
      ],
      "execution_count": null,
      "outputs": [
        {
          "data": {
            "text/html": [
              "<div>\n",
              "<style scoped>\n",
              "    .dataframe tbody tr th:only-of-type {\n",
              "        vertical-align: middle;\n",
              "    }\n",
              "\n",
              "    .dataframe tbody tr th {\n",
              "        vertical-align: top;\n",
              "    }\n",
              "\n",
              "    .dataframe thead th {\n",
              "        text-align: right;\n",
              "    }\n",
              "</style>\n",
              "<table border=\"1\" class=\"dataframe\">\n",
              "  <thead>\n",
              "    <tr style=\"text-align: right;\">\n",
              "      <th>title</th>\n",
              "      <th>Fear and Loathing in Las Vegas</th>\n",
              "    </tr>\n",
              "    <tr>\n",
              "      <th>title</th>\n",
              "      <th></th>\n",
              "    </tr>\n",
              "  </thead>\n",
              "  <tbody>\n",
              "  </tbody>\n",
              "</table>\n",
              "</div>"
            ],
            "text/plain": [
              "Empty DataFrame\n",
              "Columns: [Fear and Loathing in Las Vegas]\n",
              "Index: []"
            ]
          },
          "execution_count": null,
          "metadata": {},
          "output_type": "execute_result"
        }
      ]
    },
    {
      "cell_type": "markdown",
      "metadata": {
        "id": "myjzcQgXWr1h"
      },
      "source": [
        "Given the above results, I have decided to stick with the min_perios = 40 setting, as long as 50 still includes some not satisfying recommendations and 30 remove too many points, not capturing few interesting recommendations."
      ]
    },
    {
      "cell_type": "markdown",
      "metadata": {
        "id": "4oRTI9vBWr1i"
      },
      "source": [
        "#### 3.1 Using item-based correlation matrix to make recommendations to specific users"
      ]
    },
    {
      "cell_type": "markdown",
      "metadata": {
        "id": "F7vOjbcVWr1i"
      },
      "source": [
        "Once found the most appropriate way to score similarities between books, I can use the item-based correlation matrix to make recommendations to specific users.\n",
        "\n",
        "For the purpose of explanation, I have used my own ratings (user id 55000). First, I isolate only the ratings of the books that the user in question has read, storing them as 'myRatings'. Changing user id in 'myRatings' definition and executing the rest of the code with no further modification, will generate recommendations for any other users.\n",
        "\n",
        "After that, I have created an empty series in which I append all the similar movies to each of the ones I have rated, scaling the value by how well I have rated the specific movie.\n",
        "In order to give more importance to the books that have high correlation with more than one of the books I have read, I have summed the correlation values per book. The last two steps before getting the final Top-10 recommendations are to sort by aggregated similarity score and remove from the list the book I have already read."
      ]
    },
    {
      "cell_type": "code",
      "metadata": {
        "colab": {
          "background_save": true
        },
        "id": "HUkxeLmiWr1j",
        "outputId": "bd40728f-a6c5-40d2-d4c2-99002787ed72"
      },
      "source": [
        "myRatings = userByBook.loc[55000].dropna()\n",
        "myRatings"
      ],
      "execution_count": null,
      "outputs": [
        {
          "data": {
            "text/plain": [
              "title\n",
              "1984                         5.0\n",
              "A Clockwork Orange           5.0\n",
              "A Long Way Down              4.0\n",
              "A Midsummer Night's Dream    4.0\n",
              "A Scanner Darkly             5.0\n",
              "                            ... \n",
              "Tortilla Flat                4.0\n",
              "Trainspotting                4.0\n",
              "Treasure Island              3.0\n",
              "Ubik                         5.0\n",
              "White Fang                   3.0\n",
              "Name: 55000, Length: 62, dtype: float64"
            ]
          },
          "execution_count": null,
          "metadata": {},
          "output_type": "execute_result"
        }
      ]
    },
    {
      "cell_type": "code",
      "metadata": {
        "colab": {
          "background_save": true
        },
        "id": "8YrMWpxkWr1k",
        "outputId": "ddfd6c60-3b2c-4a29-98fe-0d5c2ec857f8"
      },
      "source": [
        "simCandidates = pd.Series()\n",
        "\n",
        "for i in range(0, len(myRatings.index)):\n",
        "    sims = corrMatrix40[myRatings.index[i]].dropna()\n",
        "    sims = sims.map(lambda x: x * myRatings[i])\n",
        "    simCandidates =  simCandidates.append(sims)\n",
        "\n",
        "simCandidates.sort_values(inplace = True, ascending = False)\n",
        "print(simCandidates.head(10))"
      ],
      "execution_count": null,
      "outputs": [
        {
          "name": "stdout",
          "output_type": "stream",
          "text": [
            "1984                                    5.0\n",
            "Heart of Darkness                       5.0\n",
            "Great Expectations                      5.0\n",
            "Flow My Tears, the Policeman Said       5.0\n",
            "Fight Club                              5.0\n",
            "Fear and Loathing in Las Vegas          5.0\n",
            "No Country for Old Men                  5.0\n",
            "Fahrenheit 451                          5.0\n",
            "Dracula                                 5.0\n",
            "Do Androids Dream of Electric Sheep?    5.0\n",
            "dtype: float64\n"
          ]
        },
        {
          "name": "stderr",
          "output_type": "stream",
          "text": [
            "/usr/local/lib/python3.7/dist-packages/ipykernel_launcher.py:1: DeprecationWarning: The default dtype for empty Series will be 'object' instead of 'float64' in a future version. Specify a dtype explicitly to silence this warning.\n",
            "  \"\"\"Entry point for launching an IPython kernel.\n"
          ]
        }
      ]
    },
    {
      "cell_type": "code",
      "metadata": {
        "colab": {
          "background_save": true
        },
        "id": "BTrrquRnWr1k",
        "outputId": "e4773782-0297-4bf6-dc91-0081174f58c8"
      },
      "source": [
        "simCandidates = simCandidates.groupby(simCandidates.index).sum()\n",
        "simCandidates.head(10)"
      ],
      "execution_count": null,
      "outputs": [
        {
          "data": {
            "text/plain": [
              "1984                                                 20.465392\n",
              "A Christmas Carol                                     7.585077\n",
              "A Clockwork Orange                                    7.842066\n",
              "A Farewell to Arms                                    0.962991\n",
              "A Long Way Down                                       4.000000\n",
              "A Midsummer Night's Dream                            11.404721\n",
              "A Scanner Darkly                                      5.000000\n",
              "A Tale of Two Cities                                 16.821676\n",
              "A Thousand Splendid Suns                              2.069519\n",
              "A Wrinkle in Time (A Wrinkle in Time Quintet, #1)     2.275823\n",
              "dtype: float64"
            ]
          },
          "execution_count": null,
          "metadata": {},
          "output_type": "execute_result"
        }
      ]
    },
    {
      "cell_type": "code",
      "metadata": {
        "colab": {
          "background_save": true
        },
        "id": "dqHWeTXaWr1l",
        "outputId": "094afec2-ed6b-4050-e6aa-085d2e1b777d"
      },
      "source": [
        "simCandidates.sort_values(inplace = True, ascending = False)\n",
        "simCandidates.head(10)"
      ],
      "execution_count": null,
      "outputs": [
        {
          "data": {
            "text/plain": [
              "Animal Farm               24.728487\n",
              "Fahrenheit 451            24.648140\n",
              "Great Expectations        24.008888\n",
              "Lord of the Flies         22.225596\n",
              "Slaughterhouse-Five       22.121586\n",
              "Brave New World           20.875311\n",
              "1984                      20.465392\n",
              "The Catcher in the Rye    20.013370\n",
              "Macbeth                   18.926788\n",
              "Of Mice and Men           18.293640\n",
              "dtype: float64"
            ]
          },
          "execution_count": null,
          "metadata": {},
          "output_type": "execute_result"
        }
      ]
    },
    {
      "cell_type": "code",
      "metadata": {
        "colab": {
          "background_save": true
        },
        "id": "pfLq9GgkWr1l",
        "outputId": "dda28286-54e6-46b8-f213-9dba1bc0f6e7"
      },
      "source": [
        "filteredSims = simCandidates.drop(myRatings.index)\n",
        "filteredSims.head(10)"
      ],
      "execution_count": null,
      "outputs": [
        {
          "data": {
            "text/plain": [
              "Brave New World                       20.875311\n",
              "Macbeth                               18.926788\n",
              "Of Mice and Men                       18.293640\n",
              "The Adventures of Huckleberry Finn    18.095243\n",
              "The Scarlet Letter                    17.553923\n",
              "The Old Man and the Sea               17.177674\n",
              "The Great Gatsby                      16.831262\n",
              "A Tale of Two Cities                  16.821676\n",
              "Sense and Sensibility                 16.325146\n",
              "Catch-22                              16.210572\n",
              "dtype: float64"
            ]
          },
          "execution_count": null,
          "metadata": {},
          "output_type": "execute_result"
        }
      ]
    },
    {
      "cell_type": "code",
      "metadata": {
        "colab": {
          "background_save": true
        },
        "id": "vA7BCvyD9EUp"
      },
      "source": [
        ""
      ],
      "execution_count": null,
      "outputs": []
    }
  ]
}